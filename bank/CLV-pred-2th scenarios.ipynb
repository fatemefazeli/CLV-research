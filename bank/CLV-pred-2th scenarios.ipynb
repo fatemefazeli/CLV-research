{
 "cells": [
  {
   "cell_type": "code",
   "execution_count": 1,
   "id": "0a7ff505",
   "metadata": {},
   "outputs": [],
   "source": [
    "import numpy as np\n",
    "import pandas as pd\n",
    "import matplotlib.pyplot as plt\n",
    "import seaborn as sns"
   ]
  },
  {
   "cell_type": "markdown",
   "id": "470d3ac6",
   "metadata": {},
   "source": [
    "# 2th scenario"
   ]
  },
  {
   "cell_type": "code",
   "execution_count": 2,
   "id": "407f4a91",
   "metadata": {},
   "outputs": [
    {
     "name": "stdout",
     "output_type": "stream",
     "text": [
      "      Unnamed: 0  IsActiveMember2  HasCrCard2  Exited2  Geography2  Gender2  \\\n",
      "0              0                0           0        0           1        0   \n",
      "1              1                0           0        0           1        0   \n",
      "2              2                0           0        0           1        0   \n",
      "3              3                0           0        0           1        0   \n",
      "4              4                0           0        0           1        0   \n",
      "...          ...              ...         ...      ...         ...      ...   \n",
      "9995        9995                1           1        0           1        1   \n",
      "9996        9996                1           1        0           1        1   \n",
      "9997        9997                1           1        0           1        1   \n",
      "9998        9998                1           1        0           1        1   \n",
      "9999        9999                1           1        0           1        1   \n",
      "\n",
      "      Tenure2  NomOfProducts2  Balance2  CreditScore2  Age2  EstimatedSalary2  \n",
      "0           0               0         0           850    37             84361  \n",
      "1           0               0         0           850    37            178886  \n",
      "2           0               0         0           850    39            149115  \n",
      "3           0               0         0           850    40            166716  \n",
      "4           0               0         0           850    39            166387  \n",
      "...       ...             ...       ...           ...   ...               ...  \n",
      "9995        2               1     77076           646    42            110189  \n",
      "9996        2               1     76676           643    43            192658  \n",
      "9997        2               1     76877           652    37             34172  \n",
      "9998        2               1     76712           658    44            160428  \n",
      "9999        2               1     76218           643    32            195807  \n",
      "\n",
      "[10000 rows x 12 columns]\n"
     ]
    }
   ],
   "source": [
    "df=pd.read_excel('bank_all_senario.xlsx',sheet_name='2th scenario')\n",
    "print(df)"
   ]
  },
  {
   "cell_type": "code",
   "execution_count": 3,
   "id": "e10cb910",
   "metadata": {},
   "outputs": [],
   "source": [
    "df_copy=df.copy(deep=True)"
   ]
  },
  {
   "cell_type": "code",
   "execution_count": 4,
   "id": "6d13bae5",
   "metadata": {},
   "outputs": [
    {
     "name": "stdout",
     "output_type": "stream",
     "text": [
      "<class 'pandas.core.frame.DataFrame'>\n",
      "RangeIndex: 10000 entries, 0 to 9999\n",
      "Data columns (total 12 columns):\n",
      " #   Column            Non-Null Count  Dtype\n",
      "---  ------            --------------  -----\n",
      " 0   Unnamed: 0        10000 non-null  int64\n",
      " 1   IsActiveMember2   10000 non-null  int64\n",
      " 2   HasCrCard2        10000 non-null  int64\n",
      " 3   Exited2           10000 non-null  int64\n",
      " 4   Geography2        10000 non-null  int64\n",
      " 5   Gender2           10000 non-null  int64\n",
      " 6   Tenure2           10000 non-null  int64\n",
      " 7   NomOfProducts2    10000 non-null  int64\n",
      " 8   Balance2          10000 non-null  int64\n",
      " 9   CreditScore2      10000 non-null  int64\n",
      " 10  Age2              10000 non-null  int64\n",
      " 11  EstimatedSalary2  10000 non-null  int64\n",
      "dtypes: int64(12)\n",
      "memory usage: 937.6 KB\n"
     ]
    }
   ],
   "source": [
    "df_copy.info()"
   ]
  },
  {
   "cell_type": "code",
   "execution_count": 5,
   "id": "19b4f5d6",
   "metadata": {},
   "outputs": [
    {
     "data": {
      "text/html": [
       "<div>\n",
       "<style scoped>\n",
       "    .dataframe tbody tr th:only-of-type {\n",
       "        vertical-align: middle;\n",
       "    }\n",
       "\n",
       "    .dataframe tbody tr th {\n",
       "        vertical-align: top;\n",
       "    }\n",
       "\n",
       "    .dataframe thead th {\n",
       "        text-align: right;\n",
       "    }\n",
       "</style>\n",
       "<table border=\"1\" class=\"dataframe\">\n",
       "  <thead>\n",
       "    <tr style=\"text-align: right;\">\n",
       "      <th></th>\n",
       "      <th>Unnamed: 0</th>\n",
       "      <th>IsActiveMember2</th>\n",
       "      <th>HasCrCard2</th>\n",
       "      <th>Exited2</th>\n",
       "      <th>Geography2</th>\n",
       "      <th>Gender2</th>\n",
       "      <th>Tenure2</th>\n",
       "      <th>NomOfProducts2</th>\n",
       "      <th>Balance2</th>\n",
       "      <th>CreditScore2</th>\n",
       "      <th>Age2</th>\n",
       "      <th>EstimatedSalary2</th>\n",
       "      <th>target_Lable_remainstatue</th>\n",
       "    </tr>\n",
       "  </thead>\n",
       "  <tbody>\n",
       "    <tr>\n",
       "      <th>0</th>\n",
       "      <td>0</td>\n",
       "      <td>0</td>\n",
       "      <td>0</td>\n",
       "      <td>0</td>\n",
       "      <td>1</td>\n",
       "      <td>0</td>\n",
       "      <td>0</td>\n",
       "      <td>0</td>\n",
       "      <td>0</td>\n",
       "      <td>850</td>\n",
       "      <td>37</td>\n",
       "      <td>84361</td>\n",
       "      <td>0</td>\n",
       "    </tr>\n",
       "    <tr>\n",
       "      <th>1</th>\n",
       "      <td>1</td>\n",
       "      <td>0</td>\n",
       "      <td>0</td>\n",
       "      <td>0</td>\n",
       "      <td>1</td>\n",
       "      <td>0</td>\n",
       "      <td>0</td>\n",
       "      <td>0</td>\n",
       "      <td>0</td>\n",
       "      <td>850</td>\n",
       "      <td>37</td>\n",
       "      <td>178886</td>\n",
       "      <td>0</td>\n",
       "    </tr>\n",
       "    <tr>\n",
       "      <th>2</th>\n",
       "      <td>2</td>\n",
       "      <td>0</td>\n",
       "      <td>0</td>\n",
       "      <td>0</td>\n",
       "      <td>1</td>\n",
       "      <td>0</td>\n",
       "      <td>0</td>\n",
       "      <td>0</td>\n",
       "      <td>0</td>\n",
       "      <td>850</td>\n",
       "      <td>39</td>\n",
       "      <td>149115</td>\n",
       "      <td>0</td>\n",
       "    </tr>\n",
       "    <tr>\n",
       "      <th>3</th>\n",
       "      <td>3</td>\n",
       "      <td>0</td>\n",
       "      <td>0</td>\n",
       "      <td>0</td>\n",
       "      <td>1</td>\n",
       "      <td>0</td>\n",
       "      <td>0</td>\n",
       "      <td>0</td>\n",
       "      <td>0</td>\n",
       "      <td>850</td>\n",
       "      <td>40</td>\n",
       "      <td>166716</td>\n",
       "      <td>0</td>\n",
       "    </tr>\n",
       "    <tr>\n",
       "      <th>4</th>\n",
       "      <td>4</td>\n",
       "      <td>0</td>\n",
       "      <td>0</td>\n",
       "      <td>0</td>\n",
       "      <td>1</td>\n",
       "      <td>0</td>\n",
       "      <td>0</td>\n",
       "      <td>0</td>\n",
       "      <td>0</td>\n",
       "      <td>850</td>\n",
       "      <td>39</td>\n",
       "      <td>166387</td>\n",
       "      <td>0</td>\n",
       "    </tr>\n",
       "    <tr>\n",
       "      <th>...</th>\n",
       "      <td>...</td>\n",
       "      <td>...</td>\n",
       "      <td>...</td>\n",
       "      <td>...</td>\n",
       "      <td>...</td>\n",
       "      <td>...</td>\n",
       "      <td>...</td>\n",
       "      <td>...</td>\n",
       "      <td>...</td>\n",
       "      <td>...</td>\n",
       "      <td>...</td>\n",
       "      <td>...</td>\n",
       "      <td>...</td>\n",
       "    </tr>\n",
       "    <tr>\n",
       "      <th>9995</th>\n",
       "      <td>9995</td>\n",
       "      <td>1</td>\n",
       "      <td>1</td>\n",
       "      <td>0</td>\n",
       "      <td>1</td>\n",
       "      <td>1</td>\n",
       "      <td>2</td>\n",
       "      <td>1</td>\n",
       "      <td>77076</td>\n",
       "      <td>646</td>\n",
       "      <td>42</td>\n",
       "      <td>110189</td>\n",
       "      <td>0</td>\n",
       "    </tr>\n",
       "    <tr>\n",
       "      <th>9996</th>\n",
       "      <td>9996</td>\n",
       "      <td>1</td>\n",
       "      <td>1</td>\n",
       "      <td>0</td>\n",
       "      <td>1</td>\n",
       "      <td>1</td>\n",
       "      <td>2</td>\n",
       "      <td>1</td>\n",
       "      <td>76676</td>\n",
       "      <td>643</td>\n",
       "      <td>43</td>\n",
       "      <td>192658</td>\n",
       "      <td>0</td>\n",
       "    </tr>\n",
       "    <tr>\n",
       "      <th>9997</th>\n",
       "      <td>9997</td>\n",
       "      <td>1</td>\n",
       "      <td>1</td>\n",
       "      <td>0</td>\n",
       "      <td>1</td>\n",
       "      <td>1</td>\n",
       "      <td>2</td>\n",
       "      <td>1</td>\n",
       "      <td>76877</td>\n",
       "      <td>652</td>\n",
       "      <td>37</td>\n",
       "      <td>34172</td>\n",
       "      <td>0</td>\n",
       "    </tr>\n",
       "    <tr>\n",
       "      <th>9998</th>\n",
       "      <td>9998</td>\n",
       "      <td>1</td>\n",
       "      <td>1</td>\n",
       "      <td>0</td>\n",
       "      <td>1</td>\n",
       "      <td>1</td>\n",
       "      <td>2</td>\n",
       "      <td>1</td>\n",
       "      <td>76712</td>\n",
       "      <td>658</td>\n",
       "      <td>44</td>\n",
       "      <td>160428</td>\n",
       "      <td>0</td>\n",
       "    </tr>\n",
       "    <tr>\n",
       "      <th>9999</th>\n",
       "      <td>9999</td>\n",
       "      <td>1</td>\n",
       "      <td>1</td>\n",
       "      <td>0</td>\n",
       "      <td>1</td>\n",
       "      <td>1</td>\n",
       "      <td>2</td>\n",
       "      <td>1</td>\n",
       "      <td>76218</td>\n",
       "      <td>643</td>\n",
       "      <td>32</td>\n",
       "      <td>195807</td>\n",
       "      <td>0</td>\n",
       "    </tr>\n",
       "  </tbody>\n",
       "</table>\n",
       "<p>10000 rows × 13 columns</p>\n",
       "</div>"
      ],
      "text/plain": [
       "      Unnamed: 0  IsActiveMember2  HasCrCard2  Exited2  Geography2  Gender2  \\\n",
       "0              0                0           0        0           1        0   \n",
       "1              1                0           0        0           1        0   \n",
       "2              2                0           0        0           1        0   \n",
       "3              3                0           0        0           1        0   \n",
       "4              4                0           0        0           1        0   \n",
       "...          ...              ...         ...      ...         ...      ...   \n",
       "9995        9995                1           1        0           1        1   \n",
       "9996        9996                1           1        0           1        1   \n",
       "9997        9997                1           1        0           1        1   \n",
       "9998        9998                1           1        0           1        1   \n",
       "9999        9999                1           1        0           1        1   \n",
       "\n",
       "      Tenure2  NomOfProducts2  Balance2  CreditScore2  Age2  EstimatedSalary2  \\\n",
       "0           0               0         0           850    37             84361   \n",
       "1           0               0         0           850    37            178886   \n",
       "2           0               0         0           850    39            149115   \n",
       "3           0               0         0           850    40            166716   \n",
       "4           0               0         0           850    39            166387   \n",
       "...       ...             ...       ...           ...   ...               ...   \n",
       "9995        2               1     77076           646    42            110189   \n",
       "9996        2               1     76676           643    43            192658   \n",
       "9997        2               1     76877           652    37             34172   \n",
       "9998        2               1     76712           658    44            160428   \n",
       "9999        2               1     76218           643    32            195807   \n",
       "\n",
       "      target_Lable_remainstatue  \n",
       "0                             0  \n",
       "1                             0  \n",
       "2                             0  \n",
       "3                             0  \n",
       "4                             0  \n",
       "...                         ...  \n",
       "9995                          0  \n",
       "9996                          0  \n",
       "9997                          0  \n",
       "9998                          0  \n",
       "9999                          0  \n",
       "\n",
       "[10000 rows x 13 columns]"
      ]
     },
     "execution_count": 5,
     "metadata": {},
     "output_type": "execute_result"
    }
   ],
   "source": [
    "target_Lable_remainstatue=[]\n",
    "for i in df_copy['Tenure2']:\n",
    "    if i>=5:\n",
    "        target_Lable_remainstatue.append(1)\n",
    "    else :\n",
    "        target_Lable_remainstatue.append(0)\n",
    "\n",
    "df_copy['target_Lable_remainstatue']=target_Lable_remainstatue\n",
    "\n",
    "\n",
    "df_copy"
   ]
  },
  {
   "cell_type": "code",
   "execution_count": 6,
   "id": "1e21470b",
   "metadata": {},
   "outputs": [
    {
     "data": {
      "text/html": [
       "<div>\n",
       "<style scoped>\n",
       "    .dataframe tbody tr th:only-of-type {\n",
       "        vertical-align: middle;\n",
       "    }\n",
       "\n",
       "    .dataframe tbody tr th {\n",
       "        vertical-align: top;\n",
       "    }\n",
       "\n",
       "    .dataframe thead th {\n",
       "        text-align: right;\n",
       "    }\n",
       "</style>\n",
       "<table border=\"1\" class=\"dataframe\">\n",
       "  <thead>\n",
       "    <tr style=\"text-align: right;\">\n",
       "      <th></th>\n",
       "      <th>Unnamed: 0</th>\n",
       "      <th>IsActiveMember2</th>\n",
       "      <th>HasCrCard2</th>\n",
       "      <th>Exited2</th>\n",
       "      <th>Geography2</th>\n",
       "      <th>Tenure2</th>\n",
       "      <th>NomOfProducts2</th>\n",
       "      <th>Balance2</th>\n",
       "      <th>CreditScore2</th>\n",
       "      <th>Age2</th>\n",
       "      <th>EstimatedSalary2</th>\n",
       "      <th>target_Lable_remainstatue</th>\n",
       "      <th>int_Gender2</th>\n",
       "    </tr>\n",
       "  </thead>\n",
       "  <tbody>\n",
       "    <tr>\n",
       "      <th>0</th>\n",
       "      <td>0</td>\n",
       "      <td>0</td>\n",
       "      <td>0</td>\n",
       "      <td>0</td>\n",
       "      <td>1</td>\n",
       "      <td>0</td>\n",
       "      <td>0</td>\n",
       "      <td>0</td>\n",
       "      <td>850</td>\n",
       "      <td>37</td>\n",
       "      <td>84361</td>\n",
       "      <td>0</td>\n",
       "      <td>1</td>\n",
       "    </tr>\n",
       "    <tr>\n",
       "      <th>1</th>\n",
       "      <td>1</td>\n",
       "      <td>0</td>\n",
       "      <td>0</td>\n",
       "      <td>0</td>\n",
       "      <td>1</td>\n",
       "      <td>0</td>\n",
       "      <td>0</td>\n",
       "      <td>0</td>\n",
       "      <td>850</td>\n",
       "      <td>37</td>\n",
       "      <td>178886</td>\n",
       "      <td>0</td>\n",
       "      <td>1</td>\n",
       "    </tr>\n",
       "    <tr>\n",
       "      <th>2</th>\n",
       "      <td>2</td>\n",
       "      <td>0</td>\n",
       "      <td>0</td>\n",
       "      <td>0</td>\n",
       "      <td>1</td>\n",
       "      <td>0</td>\n",
       "      <td>0</td>\n",
       "      <td>0</td>\n",
       "      <td>850</td>\n",
       "      <td>39</td>\n",
       "      <td>149115</td>\n",
       "      <td>0</td>\n",
       "      <td>1</td>\n",
       "    </tr>\n",
       "    <tr>\n",
       "      <th>3</th>\n",
       "      <td>3</td>\n",
       "      <td>0</td>\n",
       "      <td>0</td>\n",
       "      <td>0</td>\n",
       "      <td>1</td>\n",
       "      <td>0</td>\n",
       "      <td>0</td>\n",
       "      <td>0</td>\n",
       "      <td>850</td>\n",
       "      <td>40</td>\n",
       "      <td>166716</td>\n",
       "      <td>0</td>\n",
       "      <td>1</td>\n",
       "    </tr>\n",
       "    <tr>\n",
       "      <th>4</th>\n",
       "      <td>4</td>\n",
       "      <td>0</td>\n",
       "      <td>0</td>\n",
       "      <td>0</td>\n",
       "      <td>1</td>\n",
       "      <td>0</td>\n",
       "      <td>0</td>\n",
       "      <td>0</td>\n",
       "      <td>850</td>\n",
       "      <td>39</td>\n",
       "      <td>166387</td>\n",
       "      <td>0</td>\n",
       "      <td>1</td>\n",
       "    </tr>\n",
       "    <tr>\n",
       "      <th>...</th>\n",
       "      <td>...</td>\n",
       "      <td>...</td>\n",
       "      <td>...</td>\n",
       "      <td>...</td>\n",
       "      <td>...</td>\n",
       "      <td>...</td>\n",
       "      <td>...</td>\n",
       "      <td>...</td>\n",
       "      <td>...</td>\n",
       "      <td>...</td>\n",
       "      <td>...</td>\n",
       "      <td>...</td>\n",
       "      <td>...</td>\n",
       "    </tr>\n",
       "    <tr>\n",
       "      <th>9995</th>\n",
       "      <td>9995</td>\n",
       "      <td>1</td>\n",
       "      <td>1</td>\n",
       "      <td>0</td>\n",
       "      <td>1</td>\n",
       "      <td>2</td>\n",
       "      <td>1</td>\n",
       "      <td>77076</td>\n",
       "      <td>646</td>\n",
       "      <td>42</td>\n",
       "      <td>110189</td>\n",
       "      <td>0</td>\n",
       "      <td>2</td>\n",
       "    </tr>\n",
       "    <tr>\n",
       "      <th>9996</th>\n",
       "      <td>9996</td>\n",
       "      <td>1</td>\n",
       "      <td>1</td>\n",
       "      <td>0</td>\n",
       "      <td>1</td>\n",
       "      <td>2</td>\n",
       "      <td>1</td>\n",
       "      <td>76676</td>\n",
       "      <td>643</td>\n",
       "      <td>43</td>\n",
       "      <td>192658</td>\n",
       "      <td>0</td>\n",
       "      <td>2</td>\n",
       "    </tr>\n",
       "    <tr>\n",
       "      <th>9997</th>\n",
       "      <td>9997</td>\n",
       "      <td>1</td>\n",
       "      <td>1</td>\n",
       "      <td>0</td>\n",
       "      <td>1</td>\n",
       "      <td>2</td>\n",
       "      <td>1</td>\n",
       "      <td>76877</td>\n",
       "      <td>652</td>\n",
       "      <td>37</td>\n",
       "      <td>34172</td>\n",
       "      <td>0</td>\n",
       "      <td>2</td>\n",
       "    </tr>\n",
       "    <tr>\n",
       "      <th>9998</th>\n",
       "      <td>9998</td>\n",
       "      <td>1</td>\n",
       "      <td>1</td>\n",
       "      <td>0</td>\n",
       "      <td>1</td>\n",
       "      <td>2</td>\n",
       "      <td>1</td>\n",
       "      <td>76712</td>\n",
       "      <td>658</td>\n",
       "      <td>44</td>\n",
       "      <td>160428</td>\n",
       "      <td>0</td>\n",
       "      <td>2</td>\n",
       "    </tr>\n",
       "    <tr>\n",
       "      <th>9999</th>\n",
       "      <td>9999</td>\n",
       "      <td>1</td>\n",
       "      <td>1</td>\n",
       "      <td>0</td>\n",
       "      <td>1</td>\n",
       "      <td>2</td>\n",
       "      <td>1</td>\n",
       "      <td>76218</td>\n",
       "      <td>643</td>\n",
       "      <td>32</td>\n",
       "      <td>195807</td>\n",
       "      <td>0</td>\n",
       "      <td>2</td>\n",
       "    </tr>\n",
       "  </tbody>\n",
       "</table>\n",
       "<p>10000 rows × 13 columns</p>\n",
       "</div>"
      ],
      "text/plain": [
       "      Unnamed: 0  IsActiveMember2  HasCrCard2  Exited2  Geography2  Tenure2  \\\n",
       "0              0                0           0        0           1        0   \n",
       "1              1                0           0        0           1        0   \n",
       "2              2                0           0        0           1        0   \n",
       "3              3                0           0        0           1        0   \n",
       "4              4                0           0        0           1        0   \n",
       "...          ...              ...         ...      ...         ...      ...   \n",
       "9995        9995                1           1        0           1        2   \n",
       "9996        9996                1           1        0           1        2   \n",
       "9997        9997                1           1        0           1        2   \n",
       "9998        9998                1           1        0           1        2   \n",
       "9999        9999                1           1        0           1        2   \n",
       "\n",
       "      NomOfProducts2  Balance2  CreditScore2  Age2  EstimatedSalary2  \\\n",
       "0                  0         0           850    37             84361   \n",
       "1                  0         0           850    37            178886   \n",
       "2                  0         0           850    39            149115   \n",
       "3                  0         0           850    40            166716   \n",
       "4                  0         0           850    39            166387   \n",
       "...              ...       ...           ...   ...               ...   \n",
       "9995               1     77076           646    42            110189   \n",
       "9996               1     76676           643    43            192658   \n",
       "9997               1     76877           652    37             34172   \n",
       "9998               1     76712           658    44            160428   \n",
       "9999               1     76218           643    32            195807   \n",
       "\n",
       "      target_Lable_remainstatue  int_Gender2  \n",
       "0                             0            1  \n",
       "1                             0            1  \n",
       "2                             0            1  \n",
       "3                             0            1  \n",
       "4                             0            1  \n",
       "...                         ...          ...  \n",
       "9995                          0            2  \n",
       "9996                          0            2  \n",
       "9997                          0            2  \n",
       "9998                          0            2  \n",
       "9999                          0            2  \n",
       "\n",
       "[10000 rows x 13 columns]"
      ]
     },
     "execution_count": 6,
     "metadata": {},
     "output_type": "execute_result"
    }
   ],
   "source": [
    "int_Gender2=[]\n",
    "for i in df_copy['Gender2']:\n",
    "    if i==0:\n",
    "        int_Gender2.append(1)\n",
    "    elif i==1:\n",
    "        int_Gender2.append(2)\n",
    "\n",
    "df_copy['int_Gender2']=int_Gender2\n",
    "df_copy=df_copy.drop(['Gender2'],axis=1)\n",
    "\n",
    "df_copy"
   ]
  },
  {
   "cell_type": "markdown",
   "id": "b506404e",
   "metadata": {},
   "source": [
    "# loyalty\n",
    "\n",
    "## logistic regression "
   ]
  },
  {
   "cell_type": "markdown",
   "id": "5da06d90",
   "metadata": {},
   "source": [
    "## loyalty prediction based on \"target_Lable_remainstatue\""
   ]
  },
  {
   "cell_type": "code",
   "execution_count": 7,
   "id": "f7022e1c",
   "metadata": {},
   "outputs": [],
   "source": [
    "from sklearn.linear_model import LogisticRegression\n",
    "from sklearn.model_selection import train_test_split"
   ]
  },
  {
   "cell_type": "code",
   "execution_count": 8,
   "id": "1c8a4908",
   "metadata": {},
   "outputs": [],
   "source": [
    "features = ['CreditScore2','Age2','Tenure2','Balance2','NomOfProducts2','HasCrCard2','IsActiveMember2','EstimatedSalary2','Geography2','int_Gender2']\n",
    "target = 'target_Lable_remainstatue'"
   ]
  },
  {
   "cell_type": "code",
   "execution_count": 9,
   "id": "f2ba3196",
   "metadata": {},
   "outputs": [],
   "source": [
    "X_train, X_test, y_train, y_test = train_test_split(df_copy[features], df_copy[target], test_size=0.30, random_state=42)"
   ]
  },
  {
   "cell_type": "code",
   "execution_count": 10,
   "id": "eaa0d3c1",
   "metadata": {},
   "outputs": [],
   "source": [
    "model = LogisticRegression()"
   ]
  },
  {
   "cell_type": "code",
   "execution_count": 11,
   "id": "7ac3cd37",
   "metadata": {},
   "outputs": [],
   "source": [
    "logistic_classifier=model.fit(X_train, y_train)"
   ]
  },
  {
   "cell_type": "code",
   "execution_count": 12,
   "id": "b0fdf57a",
   "metadata": {},
   "outputs": [],
   "source": [
    "### prediction"
   ]
  },
  {
   "cell_type": "code",
   "execution_count": 13,
   "id": "8c19a8aa",
   "metadata": {},
   "outputs": [],
   "source": [
    "predictions = model.predict(X_test)"
   ]
  },
  {
   "cell_type": "code",
   "execution_count": 14,
   "id": "d0efa1c9",
   "metadata": {},
   "outputs": [],
   "source": [
    "y_test=y_test.to_frame('real')"
   ]
  },
  {
   "cell_type": "code",
   "execution_count": 15,
   "id": "000be29b",
   "metadata": {},
   "outputs": [],
   "source": [
    "y_test['prediction']=predictions"
   ]
  },
  {
   "cell_type": "code",
   "execution_count": 16,
   "id": "f4446ae5",
   "metadata": {},
   "outputs": [
    {
     "data": {
      "text/html": [
       "<div>\n",
       "<style scoped>\n",
       "    .dataframe tbody tr th:only-of-type {\n",
       "        vertical-align: middle;\n",
       "    }\n",
       "\n",
       "    .dataframe tbody tr th {\n",
       "        vertical-align: top;\n",
       "    }\n",
       "\n",
       "    .dataframe thead th {\n",
       "        text-align: right;\n",
       "    }\n",
       "</style>\n",
       "<table border=\"1\" class=\"dataframe\">\n",
       "  <thead>\n",
       "    <tr style=\"text-align: right;\">\n",
       "      <th></th>\n",
       "      <th>real</th>\n",
       "      <th>prediction</th>\n",
       "    </tr>\n",
       "  </thead>\n",
       "  <tbody>\n",
       "    <tr>\n",
       "      <th>6252</th>\n",
       "      <td>1</td>\n",
       "      <td>1</td>\n",
       "    </tr>\n",
       "    <tr>\n",
       "      <th>4684</th>\n",
       "      <td>1</td>\n",
       "      <td>1</td>\n",
       "    </tr>\n",
       "    <tr>\n",
       "      <th>1731</th>\n",
       "      <td>0</td>\n",
       "      <td>0</td>\n",
       "    </tr>\n",
       "    <tr>\n",
       "      <th>4742</th>\n",
       "      <td>1</td>\n",
       "      <td>1</td>\n",
       "    </tr>\n",
       "    <tr>\n",
       "      <th>4521</th>\n",
       "      <td>1</td>\n",
       "      <td>1</td>\n",
       "    </tr>\n",
       "    <tr>\n",
       "      <th>...</th>\n",
       "      <td>...</td>\n",
       "      <td>...</td>\n",
       "    </tr>\n",
       "    <tr>\n",
       "      <th>8014</th>\n",
       "      <td>1</td>\n",
       "      <td>1</td>\n",
       "    </tr>\n",
       "    <tr>\n",
       "      <th>1074</th>\n",
       "      <td>0</td>\n",
       "      <td>0</td>\n",
       "    </tr>\n",
       "    <tr>\n",
       "      <th>3063</th>\n",
       "      <td>0</td>\n",
       "      <td>0</td>\n",
       "    </tr>\n",
       "    <tr>\n",
       "      <th>6487</th>\n",
       "      <td>1</td>\n",
       "      <td>1</td>\n",
       "    </tr>\n",
       "    <tr>\n",
       "      <th>4705</th>\n",
       "      <td>1</td>\n",
       "      <td>1</td>\n",
       "    </tr>\n",
       "  </tbody>\n",
       "</table>\n",
       "<p>3000 rows × 2 columns</p>\n",
       "</div>"
      ],
      "text/plain": [
       "      real  prediction\n",
       "6252     1           1\n",
       "4684     1           1\n",
       "1731     0           0\n",
       "4742     1           1\n",
       "4521     1           1\n",
       "...    ...         ...\n",
       "8014     1           1\n",
       "1074     0           0\n",
       "3063     0           0\n",
       "6487     1           1\n",
       "4705     1           1\n",
       "\n",
       "[3000 rows x 2 columns]"
      ]
     },
     "execution_count": 16,
     "metadata": {},
     "output_type": "execute_result"
    }
   ],
   "source": [
    "y_test"
   ]
  },
  {
   "cell_type": "code",
   "execution_count": 17,
   "id": "3cd30782",
   "metadata": {},
   "outputs": [
    {
     "data": {
      "text/plain": [
       "array([1, 0, 1, ..., 1, 0, 1], dtype=int64)"
      ]
     },
     "execution_count": 17,
     "metadata": {},
     "output_type": "execute_result"
    }
   ],
   "source": [
    "y_train_pred=model.predict(X_train)\n",
    "y_train_pred"
   ]
  },
  {
   "cell_type": "code",
   "execution_count": 18,
   "id": "2efb5621",
   "metadata": {},
   "outputs": [
    {
     "data": {
      "text/html": [
       "<div>\n",
       "<style scoped>\n",
       "    .dataframe tbody tr th:only-of-type {\n",
       "        vertical-align: middle;\n",
       "    }\n",
       "\n",
       "    .dataframe tbody tr th {\n",
       "        vertical-align: top;\n",
       "    }\n",
       "\n",
       "    .dataframe thead th {\n",
       "        text-align: right;\n",
       "    }\n",
       "</style>\n",
       "<table border=\"1\" class=\"dataframe\">\n",
       "  <thead>\n",
       "    <tr style=\"text-align: right;\">\n",
       "      <th></th>\n",
       "      <th>real</th>\n",
       "      <th>prediction</th>\n",
       "    </tr>\n",
       "  </thead>\n",
       "  <tbody>\n",
       "    <tr>\n",
       "      <th>9069</th>\n",
       "      <td>1</td>\n",
       "      <td>1</td>\n",
       "    </tr>\n",
       "    <tr>\n",
       "      <th>2603</th>\n",
       "      <td>0</td>\n",
       "      <td>0</td>\n",
       "    </tr>\n",
       "    <tr>\n",
       "      <th>7738</th>\n",
       "      <td>1</td>\n",
       "      <td>1</td>\n",
       "    </tr>\n",
       "    <tr>\n",
       "      <th>1579</th>\n",
       "      <td>0</td>\n",
       "      <td>0</td>\n",
       "    </tr>\n",
       "    <tr>\n",
       "      <th>5058</th>\n",
       "      <td>1</td>\n",
       "      <td>1</td>\n",
       "    </tr>\n",
       "    <tr>\n",
       "      <th>...</th>\n",
       "      <td>...</td>\n",
       "      <td>...</td>\n",
       "    </tr>\n",
       "    <tr>\n",
       "      <th>5734</th>\n",
       "      <td>1</td>\n",
       "      <td>1</td>\n",
       "    </tr>\n",
       "    <tr>\n",
       "      <th>5191</th>\n",
       "      <td>1</td>\n",
       "      <td>1</td>\n",
       "    </tr>\n",
       "    <tr>\n",
       "      <th>5390</th>\n",
       "      <td>1</td>\n",
       "      <td>1</td>\n",
       "    </tr>\n",
       "    <tr>\n",
       "      <th>860</th>\n",
       "      <td>0</td>\n",
       "      <td>0</td>\n",
       "    </tr>\n",
       "    <tr>\n",
       "      <th>7270</th>\n",
       "      <td>1</td>\n",
       "      <td>1</td>\n",
       "    </tr>\n",
       "  </tbody>\n",
       "</table>\n",
       "<p>7000 rows × 2 columns</p>\n",
       "</div>"
      ],
      "text/plain": [
       "      real  prediction\n",
       "9069     1           1\n",
       "2603     0           0\n",
       "7738     1           1\n",
       "1579     0           0\n",
       "5058     1           1\n",
       "...    ...         ...\n",
       "5734     1           1\n",
       "5191     1           1\n",
       "5390     1           1\n",
       "860      0           0\n",
       "7270     1           1\n",
       "\n",
       "[7000 rows x 2 columns]"
      ]
     },
     "execution_count": 18,
     "metadata": {},
     "output_type": "execute_result"
    }
   ],
   "source": [
    "y_train=y_train.to_frame('real')\n",
    "y_train['prediction']=y_train_pred\n",
    "y_train"
   ]
  },
  {
   "cell_type": "code",
   "execution_count": 19,
   "id": "2499c2f1",
   "metadata": {},
   "outputs": [
    {
     "data": {
      "text/plain": [
       "9069    1\n",
       "2603    0\n",
       "7738    1\n",
       "1579    0\n",
       "5058    1\n",
       "       ..\n",
       "8014    1\n",
       "1074    0\n",
       "3063    0\n",
       "6487    1\n",
       "4705    1\n",
       "Name: prediction, Length: 10000, dtype: int64"
      ]
     },
     "execution_count": 19,
     "metadata": {},
     "output_type": "execute_result"
    }
   ],
   "source": [
    "#concat two prediction table \n",
    "loyalty_1th=pd.concat([y_train['prediction'],y_test['prediction']], axis=0)\n",
    "loyalty_1th"
   ]
  },
  {
   "cell_type": "markdown",
   "id": "a80e9d3c",
   "metadata": {},
   "source": [
    "### 1st method: 5-Fold validation"
   ]
  },
  {
   "cell_type": "code",
   "execution_count": 20,
   "id": "2354d843",
   "metadata": {},
   "outputs": [],
   "source": [
    "from sklearn.model_selection import KFold\n",
    "from sklearn.metrics import mean_squared_error"
   ]
  },
  {
   "cell_type": "code",
   "execution_count": 21,
   "id": "215c1d49",
   "metadata": {},
   "outputs": [
    {
     "name": "stdout",
     "output_type": "stream",
     "text": [
      "train accuracy: 0.0, test accuracy: 0.0\n",
      "train accuracy: 0.0, test accuracy: 0.507444578254611\n",
      "train accuracy: 0.0, test accuracy: 0.51720402163943\n",
      "train accuracy: 0.0, test accuracy: 0.0\n",
      "train accuracy: 0.0, test accuracy: 0.0\n",
      "avg train acc 0.0\n",
      "avg test acc 0.2049297199788082\n"
     ]
    }
   ],
   "source": [
    "xval = KFold(n_splits=5)\n",
    "allTrainAcc, allTestAcc = [], []\n",
    "for t_idx, v_idx in xval.split(df_copy[features], df_copy[target]):\n",
    "    # Split dataset into two pieces\n",
    "    train_df_copy = df_copy.iloc[t_idx].copy()\n",
    "    test_df_copy = df_copy.iloc[v_idx].copy()\n",
    "    # Train the model\n",
    "    model = LogisticRegression()\n",
    "    model.fit(train_df_copy[features], train_df_copy[target])\n",
    "    # Calculate accuracy\n",
    "    train_df_copy['prediction'] = model.predict(train_df_copy[features])\n",
    "    test_df_copy['prediction'] = model.predict(test_df_copy[features])\n",
    "    trainingAccuracy = mean_squared_error(train_df_copy[target], train_df_copy['prediction']) ** 0.5\n",
    "    testAccuracy = mean_squared_error(test_df_copy[target], test_df_copy['prediction']) ** 0.5\n",
    "    \n",
    "    allTrainAcc.append(trainingAccuracy)\n",
    "    allTestAcc.append(testAccuracy)\n",
    "    \n",
    "    print('train accuracy: {0}, test accuracy: {1}'.format(trainingAccuracy, testAccuracy))\n",
    "print('avg train acc', sum(allTrainAcc) / len(allTrainAcc))\n",
    "print('avg test acc', sum(allTestAcc) / len(allTestAcc))"
   ]
  },
  {
   "cell_type": "markdown",
   "id": "e076a720",
   "metadata": {},
   "source": [
    "### 2nd method:cross-validation"
   ]
  },
  {
   "cell_type": "code",
   "execution_count": 22,
   "id": "0e85705d",
   "metadata": {},
   "outputs": [
    {
     "name": "stdout",
     "output_type": "stream",
     "text": [
      "Accuracy: 0.964 (0.044)\n"
     ]
    }
   ],
   "source": [
    "from numpy import mean\n",
    "from numpy import std\n",
    "from sklearn.model_selection import cross_val_score\n",
    "# prepare the cross-validation procedure\n",
    "cv = KFold(n_splits=5, random_state=1, shuffle=True)\n",
    "# create model\n",
    "model = LogisticRegression()\n",
    "# evaluate model\n",
    "scores = cross_val_score(model, df_copy[features] , df_copy[target] , scoring='accuracy', cv=cv, n_jobs=-1)\n",
    "# report performance\n",
    "print('Accuracy: %.3f (%.3f)' % (mean(scores), std(scores)))"
   ]
  },
  {
   "cell_type": "markdown",
   "id": "0b7d8e18",
   "metadata": {},
   "source": [
    "### 3rd confusion matrix"
   ]
  },
  {
   "cell_type": "code",
   "execution_count": 23,
   "id": "53dc4b40",
   "metadata": {},
   "outputs": [],
   "source": [
    "from sklearn.metrics import confusion_matrix\n",
    "    \n",
    "y_true= y_test['real']\n",
    "y_pred= y_test['prediction']"
   ]
  },
  {
   "cell_type": "code",
   "execution_count": 24,
   "id": "dcbe00d5",
   "metadata": {},
   "outputs": [
    {
     "data": {
      "text/plain": [
       "array([[1420,    0],\n",
       "       [   0, 1580]], dtype=int64)"
      ]
     },
     "execution_count": 24,
     "metadata": {},
     "output_type": "execute_result"
    }
   ],
   "source": [
    "cm=confusion_matrix( y_true , y_pred)\n",
    "cm"
   ]
  },
  {
   "cell_type": "code",
   "execution_count": 25,
   "id": "3988247a",
   "metadata": {},
   "outputs": [
    {
     "data": {
      "image/png": "[encoded data removed]",
      "text/plain": [
       "<Figure size 432x288 with 2 Axes>"
      ]
     },
     "metadata": {
      "needs_background": "light"
     },
     "output_type": "display_data"
    }
   ],
   "source": [
    "# Plot confusion matrix\n",
    "import seaborn as sns\n",
    "import pandas as pd\n",
    "import matplotlib.pyplot as plt\n",
    "# confusion matrix sns heatmap \n",
    "ax = plt.axes()\n",
    "df_cm = cm\n",
    "sns.heatmap(df_cm, annot=True, annot_kws={\"size\": 30}, fmt='d',cmap=\"Blues\", ax = ax )\n",
    "ax.set_title('Confusion Matrix pred based on \"target_Lable_remainstatue\"')\n",
    "plt.show()"
   ]
  },
  {
   "cell_type": "code",
   "execution_count": 26,
   "id": "97d88dde",
   "metadata": {},
   "outputs": [
    {
     "data": {
      "text/html": [
       "<div>\n",
       "<style scoped>\n",
       "    .dataframe tbody tr th:only-of-type {\n",
       "        vertical-align: middle;\n",
       "    }\n",
       "\n",
       "    .dataframe tbody tr th {\n",
       "        vertical-align: top;\n",
       "    }\n",
       "\n",
       "    .dataframe thead th {\n",
       "        text-align: right;\n",
       "    }\n",
       "</style>\n",
       "<table border=\"1\" class=\"dataframe\">\n",
       "  <thead>\n",
       "    <tr style=\"text-align: right;\">\n",
       "      <th></th>\n",
       "      <th>0</th>\n",
       "      <th>1</th>\n",
       "    </tr>\n",
       "  </thead>\n",
       "  <tbody>\n",
       "    <tr>\n",
       "      <th>TPR</th>\n",
       "      <td>1.0</td>\n",
       "      <td>1.0</td>\n",
       "    </tr>\n",
       "    <tr>\n",
       "      <th>TNR</th>\n",
       "      <td>1.0</td>\n",
       "      <td>1.0</td>\n",
       "    </tr>\n",
       "    <tr>\n",
       "      <th>ACC</th>\n",
       "      <td>1.0</td>\n",
       "      <td>1.0</td>\n",
       "    </tr>\n",
       "  </tbody>\n",
       "</table>\n",
       "</div>"
      ],
      "text/plain": [
       "       0    1\n",
       "TPR  1.0  1.0\n",
       "TNR  1.0  1.0\n",
       "ACC  1.0  1.0"
      ]
     },
     "execution_count": 26,
     "metadata": {},
     "output_type": "execute_result"
    }
   ],
   "source": [
    "FP = cm.sum(axis=0) - np.diag(cm) \n",
    "FN = cm.sum(axis=1) - np.diag(cm)\n",
    "TP = np.diag(cm)\n",
    "TN = cm.sum() - (FP + FN + TP)\n",
    "\n",
    "FP = FP.astype(float)\n",
    "FN = FN.astype(float)\n",
    "TP = TP.astype(float)\n",
    "TN = TN.astype(float)\n",
    "\n",
    "# Sensitivity, hit rate, recall, or true positive rate\n",
    "TPR = TP/(TP+FN)\n",
    "# Specificity or true negative rate\n",
    "TNR = TN/(TN+FP) \n",
    "# Overall accuracy for each class\n",
    "ACC = (TP+TN)/(TP+FP+FN+TN)\n",
    "\n",
    "PSA= pd.DataFrame([TPR , TNR , ACC], index=['TPR' , 'TNR' , 'ACC'] )\n",
    "PSA"
   ]
  },
  {
   "cell_type": "markdown",
   "id": "ddcf9a30",
   "metadata": {},
   "source": [
    "## loyalty prediction based on \"Exited\""
   ]
  },
  {
   "cell_type": "code",
   "execution_count": 27,
   "id": "02bdf1e0",
   "metadata": {},
   "outputs": [],
   "source": [
    "from sklearn.linear_model import LogisticRegression\n",
    "from sklearn.model_selection import train_test_split\n",
    "from sklearn.preprocessing import StandardScaler"
   ]
  },
  {
   "cell_type": "code",
   "execution_count": 28,
   "id": "0d01169d",
   "metadata": {},
   "outputs": [],
   "source": [
    "features = ['CreditScore2','Age2','Tenure2','Balance2','NomOfProducts2','HasCrCard2','IsActiveMember2','EstimatedSalary2','Geography2','int_Gender2']\n",
    "target = 'Exited2'"
   ]
  },
  {
   "cell_type": "code",
   "execution_count": 29,
   "id": "0025e29f",
   "metadata": {},
   "outputs": [],
   "source": [
    "X_train, X_test, y_train, y_test = train_test_split(df_copy[features], df_copy[target], test_size=0.30, random_state=42)"
   ]
  },
  {
   "cell_type": "code",
   "execution_count": 30,
   "id": "40ace128",
   "metadata": {},
   "outputs": [],
   "source": [
    "model = LogisticRegression()"
   ]
  },
  {
   "cell_type": "code",
   "execution_count": 31,
   "id": "6bb6c188",
   "metadata": {},
   "outputs": [],
   "source": [
    "logistic_classifier=model.fit(X_train, y_train)"
   ]
  },
  {
   "cell_type": "code",
   "execution_count": 32,
   "id": "e9698416",
   "metadata": {},
   "outputs": [],
   "source": [
    "predictions = model.predict(X_test)"
   ]
  },
  {
   "cell_type": "code",
   "execution_count": 33,
   "id": "4fe8c8f9",
   "metadata": {},
   "outputs": [],
   "source": [
    "y_test=y_test.to_frame('real')"
   ]
  },
  {
   "cell_type": "code",
   "execution_count": 34,
   "id": "75183f85",
   "metadata": {},
   "outputs": [],
   "source": [
    "y_test['prediction']=predictions"
   ]
  },
  {
   "cell_type": "code",
   "execution_count": 35,
   "id": "f78bedef",
   "metadata": {},
   "outputs": [
    {
     "data": {
      "text/html": [
       "<div>\n",
       "<style scoped>\n",
       "    .dataframe tbody tr th:only-of-type {\n",
       "        vertical-align: middle;\n",
       "    }\n",
       "\n",
       "    .dataframe tbody tr th {\n",
       "        vertical-align: top;\n",
       "    }\n",
       "\n",
       "    .dataframe thead th {\n",
       "        text-align: right;\n",
       "    }\n",
       "</style>\n",
       "<table border=\"1\" class=\"dataframe\">\n",
       "  <thead>\n",
       "    <tr style=\"text-align: right;\">\n",
       "      <th></th>\n",
       "      <th>real</th>\n",
       "      <th>prediction</th>\n",
       "    </tr>\n",
       "  </thead>\n",
       "  <tbody>\n",
       "    <tr>\n",
       "      <th>6252</th>\n",
       "      <td>0</td>\n",
       "      <td>0</td>\n",
       "    </tr>\n",
       "    <tr>\n",
       "      <th>4684</th>\n",
       "      <td>0</td>\n",
       "      <td>0</td>\n",
       "    </tr>\n",
       "    <tr>\n",
       "      <th>1731</th>\n",
       "      <td>0</td>\n",
       "      <td>0</td>\n",
       "    </tr>\n",
       "    <tr>\n",
       "      <th>4742</th>\n",
       "      <td>0</td>\n",
       "      <td>0</td>\n",
       "    </tr>\n",
       "    <tr>\n",
       "      <th>4521</th>\n",
       "      <td>0</td>\n",
       "      <td>0</td>\n",
       "    </tr>\n",
       "    <tr>\n",
       "      <th>...</th>\n",
       "      <td>...</td>\n",
       "      <td>...</td>\n",
       "    </tr>\n",
       "    <tr>\n",
       "      <th>8014</th>\n",
       "      <td>1</td>\n",
       "      <td>1</td>\n",
       "    </tr>\n",
       "    <tr>\n",
       "      <th>1074</th>\n",
       "      <td>0</td>\n",
       "      <td>0</td>\n",
       "    </tr>\n",
       "    <tr>\n",
       "      <th>3063</th>\n",
       "      <td>0</td>\n",
       "      <td>0</td>\n",
       "    </tr>\n",
       "    <tr>\n",
       "      <th>6487</th>\n",
       "      <td>0</td>\n",
       "      <td>0</td>\n",
       "    </tr>\n",
       "    <tr>\n",
       "      <th>4705</th>\n",
       "      <td>0</td>\n",
       "      <td>0</td>\n",
       "    </tr>\n",
       "  </tbody>\n",
       "</table>\n",
       "<p>3000 rows × 2 columns</p>\n",
       "</div>"
      ],
      "text/plain": [
       "      real  prediction\n",
       "6252     0           0\n",
       "4684     0           0\n",
       "1731     0           0\n",
       "4742     0           0\n",
       "4521     0           0\n",
       "...    ...         ...\n",
       "8014     1           1\n",
       "1074     0           0\n",
       "3063     0           0\n",
       "6487     0           0\n",
       "4705     0           0\n",
       "\n",
       "[3000 rows x 2 columns]"
      ]
     },
     "execution_count": 35,
     "metadata": {},
     "output_type": "execute_result"
    }
   ],
   "source": [
    "y_test"
   ]
  },
  {
   "cell_type": "code",
   "execution_count": 36,
   "id": "62e80c74",
   "metadata": {},
   "outputs": [
    {
     "data": {
      "text/plain": [
       "array([1, 0, 1, ..., 0, 0, 1], dtype=int64)"
      ]
     },
     "execution_count": 36,
     "metadata": {},
     "output_type": "execute_result"
    }
   ],
   "source": [
    "y_train_pred=model.predict(X_train)\n",
    "y_train_pred"
   ]
  },
  {
   "cell_type": "code",
   "execution_count": 37,
   "id": "37f64836",
   "metadata": {},
   "outputs": [
    {
     "data": {
      "text/html": [
       "<div>\n",
       "<style scoped>\n",
       "    .dataframe tbody tr th:only-of-type {\n",
       "        vertical-align: middle;\n",
       "    }\n",
       "\n",
       "    .dataframe tbody tr th {\n",
       "        vertical-align: top;\n",
       "    }\n",
       "\n",
       "    .dataframe thead th {\n",
       "        text-align: right;\n",
       "    }\n",
       "</style>\n",
       "<table border=\"1\" class=\"dataframe\">\n",
       "  <thead>\n",
       "    <tr style=\"text-align: right;\">\n",
       "      <th></th>\n",
       "      <th>real</th>\n",
       "      <th>prediction</th>\n",
       "    </tr>\n",
       "  </thead>\n",
       "  <tbody>\n",
       "    <tr>\n",
       "      <th>9069</th>\n",
       "      <td>1</td>\n",
       "      <td>1</td>\n",
       "    </tr>\n",
       "    <tr>\n",
       "      <th>2603</th>\n",
       "      <td>0</td>\n",
       "      <td>0</td>\n",
       "    </tr>\n",
       "    <tr>\n",
       "      <th>7738</th>\n",
       "      <td>1</td>\n",
       "      <td>1</td>\n",
       "    </tr>\n",
       "    <tr>\n",
       "      <th>1579</th>\n",
       "      <td>0</td>\n",
       "      <td>0</td>\n",
       "    </tr>\n",
       "    <tr>\n",
       "      <th>5058</th>\n",
       "      <td>0</td>\n",
       "      <td>0</td>\n",
       "    </tr>\n",
       "    <tr>\n",
       "      <th>...</th>\n",
       "      <td>...</td>\n",
       "      <td>...</td>\n",
       "    </tr>\n",
       "    <tr>\n",
       "      <th>5734</th>\n",
       "      <td>0</td>\n",
       "      <td>0</td>\n",
       "    </tr>\n",
       "    <tr>\n",
       "      <th>5191</th>\n",
       "      <td>0</td>\n",
       "      <td>0</td>\n",
       "    </tr>\n",
       "    <tr>\n",
       "      <th>5390</th>\n",
       "      <td>0</td>\n",
       "      <td>0</td>\n",
       "    </tr>\n",
       "    <tr>\n",
       "      <th>860</th>\n",
       "      <td>0</td>\n",
       "      <td>0</td>\n",
       "    </tr>\n",
       "    <tr>\n",
       "      <th>7270</th>\n",
       "      <td>1</td>\n",
       "      <td>1</td>\n",
       "    </tr>\n",
       "  </tbody>\n",
       "</table>\n",
       "<p>7000 rows × 2 columns</p>\n",
       "</div>"
      ],
      "text/plain": [
       "      real  prediction\n",
       "9069     1           1\n",
       "2603     0           0\n",
       "7738     1           1\n",
       "1579     0           0\n",
       "5058     0           0\n",
       "...    ...         ...\n",
       "5734     0           0\n",
       "5191     0           0\n",
       "5390     0           0\n",
       "860      0           0\n",
       "7270     1           1\n",
       "\n",
       "[7000 rows x 2 columns]"
      ]
     },
     "execution_count": 37,
     "metadata": {},
     "output_type": "execute_result"
    }
   ],
   "source": [
    "y_train=y_train.to_frame('real')\n",
    "y_train['prediction']=y_train_pred\n",
    "y_train"
   ]
  },
  {
   "cell_type": "code",
   "execution_count": 38,
   "id": "75226936",
   "metadata": {},
   "outputs": [
    {
     "data": {
      "text/plain": [
       "9069    1\n",
       "2603    0\n",
       "7738    1\n",
       "1579    0\n",
       "5058    0\n",
       "       ..\n",
       "8014    1\n",
       "1074    0\n",
       "3063    0\n",
       "6487    0\n",
       "4705    0\n",
       "Name: prediction, Length: 10000, dtype: int64"
      ]
     },
     "execution_count": 38,
     "metadata": {},
     "output_type": "execute_result"
    }
   ],
   "source": [
    "#concat two prediction table \n",
    "loyalty_2th=pd.concat([y_train['prediction'],y_test['prediction']], axis=0)\n",
    "loyalty_2th"
   ]
  },
  {
   "cell_type": "code",
   "execution_count": 39,
   "id": "0d9ff290",
   "metadata": {},
   "outputs": [],
   "source": [
    "## 5-Fold validation"
   ]
  },
  {
   "cell_type": "code",
   "execution_count": 40,
   "id": "49b8a6bd",
   "metadata": {},
   "outputs": [],
   "source": [
    "### 1th method"
   ]
  },
  {
   "cell_type": "code",
   "execution_count": 41,
   "id": "8121c214",
   "metadata": {},
   "outputs": [],
   "source": [
    "from sklearn.model_selection import KFold\n",
    "from sklearn.metrics import mean_squared_error"
   ]
  },
  {
   "cell_type": "code",
   "execution_count": 42,
   "id": "efcb7a76",
   "metadata": {},
   "outputs": [
    {
     "name": "stdout",
     "output_type": "stream",
     "text": [
      "train accuracy: 0.15572411502397437, test accuracy: 0.0\n",
      "train accuracy: 0.5674504383644443, test accuracy: 0.0\n",
      "train accuracy: 0.15572411502397437, test accuracy: 0.0\n",
      "train accuracy: 0.046097722286464436, test accuracy: 0.3082207001484488\n",
      "train accuracy: 0.14747881203752625, test accuracy: 0.09219544457292887\n",
      "avg train acc 0.21449504054727675\n",
      "avg test acc 0.08008322894427554\n"
     ]
    }
   ],
   "source": [
    "xval = KFold(n_splits=5)\n",
    "allTrainAcc, allTestAcc = [], []\n",
    "for t_idx, v_idx in xval.split(df_copy[features], df_copy[target]):\n",
    "    # Split dataset into two pieces\n",
    "    train_df_copy = df_copy.iloc[t_idx].copy()\n",
    "    test_df_copy = df_copy.iloc[v_idx].copy()\n",
    "    # Train the model\n",
    "    model = LogisticRegression()\n",
    "    model.fit(train_df_copy[features], train_df_copy[target])\n",
    "    # Calculate accuracy\n",
    "    train_df_copy['prediction'] = model.predict(train_df_copy[features])\n",
    "    test_df_copy['prediction'] = model.predict(test_df_copy[features])\n",
    "    trainingAccuracy = mean_squared_error(train_df_copy[target], train_df_copy['prediction']) ** 0.5\n",
    "    testAccuracy = mean_squared_error(test_df_copy[target], test_df_copy['prediction']) ** 0.5\n",
    "    \n",
    "    allTrainAcc.append(trainingAccuracy)\n",
    "    allTestAcc.append(testAccuracy)\n",
    "    \n",
    "    print('train accuracy: {0}, test accuracy: {1}'.format(trainingAccuracy, testAccuracy))\n",
    "print('avg train acc', sum(allTrainAcc) / len(allTrainAcc))\n",
    "print('avg test acc', sum(allTestAcc) / len(allTestAcc))"
   ]
  },
  {
   "cell_type": "code",
   "execution_count": 43,
   "id": "f142c834",
   "metadata": {},
   "outputs": [],
   "source": [
    "### 2th method"
   ]
  },
  {
   "cell_type": "code",
   "execution_count": 44,
   "id": "832a59e0",
   "metadata": {},
   "outputs": [
    {
     "name": "stdout",
     "output_type": "stream",
     "text": [
      "Accuracy: 0.981 (0.001)\n"
     ]
    }
   ],
   "source": [
    "from numpy import mean\n",
    "from numpy import std\n",
    "from sklearn.model_selection import cross_val_score\n",
    "# prepare the cross-validation procedure\n",
    "cv = KFold(n_splits=5, random_state=1, shuffle=True)\n",
    "# create model\n",
    "model = LogisticRegression()\n",
    "# evaluate model\n",
    "scores = cross_val_score(model, df_copy[features], df_copy[target] , scoring='accuracy', cv=cv, n_jobs=-1)\n",
    "# report performance\n",
    "print('Accuracy: %.3f (%.3f)' % (mean(scores), std(scores)))"
   ]
  },
  {
   "cell_type": "code",
   "execution_count": 45,
   "id": "7917889f",
   "metadata": {},
   "outputs": [],
   "source": [
    "### confusion matrix"
   ]
  },
  {
   "cell_type": "code",
   "execution_count": 46,
   "id": "1190ffe0",
   "metadata": {},
   "outputs": [],
   "source": [
    "from sklearn.metrics import confusion_matrix\n",
    "    \n",
    "y_true= y_test['real']\n",
    "y_pred= y_test['prediction']"
   ]
  },
  {
   "cell_type": "code",
   "execution_count": 47,
   "id": "639f8155",
   "metadata": {},
   "outputs": [
    {
     "data": {
      "text/plain": [
       "array([[2224,    4],\n",
       "       [  47,  725]], dtype=int64)"
      ]
     },
     "execution_count": 47,
     "metadata": {},
     "output_type": "execute_result"
    }
   ],
   "source": [
    "cm=confusion_matrix( y_true , y_pred)\n",
    "cm"
   ]
  },
  {
   "cell_type": "code",
   "execution_count": 48,
   "id": "37163341",
   "metadata": {},
   "outputs": [
    {
     "data": {
      "image/png": "[encoded data removed]",
      "text/plain": [
       "<Figure size 432x288 with 2 Axes>"
      ]
     },
     "metadata": {
      "needs_background": "light"
     },
     "output_type": "display_data"
    }
   ],
   "source": [
    "# Plot confusion matrix\n",
    "import seaborn as sns\n",
    "import pandas as pd\n",
    "import matplotlib.pyplot as plt\n",
    "# confusion matrix sns heatmap \n",
    "ax = plt.axes()\n",
    "df_cm = cm\n",
    "sns.heatmap(df_cm, annot=True, annot_kws={\"size\": 30}, fmt='d',cmap=\"Greens\", ax = ax )\n",
    "ax.set_title('Confusion Matrix pred based on \"Exited\"')\n",
    "plt.show()"
   ]
  },
  {
   "cell_type": "code",
   "execution_count": 49,
   "id": "778abaa2",
   "metadata": {},
   "outputs": [
    {
     "data": {
      "text/html": [
       "<div>\n",
       "<style scoped>\n",
       "    .dataframe tbody tr th:only-of-type {\n",
       "        vertical-align: middle;\n",
       "    }\n",
       "\n",
       "    .dataframe tbody tr th {\n",
       "        vertical-align: top;\n",
       "    }\n",
       "\n",
       "    .dataframe thead th {\n",
       "        text-align: right;\n",
       "    }\n",
       "</style>\n",
       "<table border=\"1\" class=\"dataframe\">\n",
       "  <thead>\n",
       "    <tr style=\"text-align: right;\">\n",
       "      <th></th>\n",
       "      <th>0</th>\n",
       "      <th>1</th>\n",
       "    </tr>\n",
       "  </thead>\n",
       "  <tbody>\n",
       "    <tr>\n",
       "      <th>TPR</th>\n",
       "      <td>0.998205</td>\n",
       "      <td>0.939119</td>\n",
       "    </tr>\n",
       "    <tr>\n",
       "      <th>TNR</th>\n",
       "      <td>0.939119</td>\n",
       "      <td>0.998205</td>\n",
       "    </tr>\n",
       "    <tr>\n",
       "      <th>ACC</th>\n",
       "      <td>0.983000</td>\n",
       "      <td>0.983000</td>\n",
       "    </tr>\n",
       "  </tbody>\n",
       "</table>\n",
       "</div>"
      ],
      "text/plain": [
       "            0         1\n",
       "TPR  0.998205  0.939119\n",
       "TNR  0.939119  0.998205\n",
       "ACC  0.983000  0.983000"
      ]
     },
     "execution_count": 49,
     "metadata": {},
     "output_type": "execute_result"
    }
   ],
   "source": [
    "FP = cm.sum(axis=0) - np.diag(cm) \n",
    "FN = cm.sum(axis=1) - np.diag(cm)\n",
    "TP = np.diag(cm)\n",
    "TN = cm.sum() - (FP + FN + TP)\n",
    "\n",
    "FP = FP.astype(float)\n",
    "FN = FN.astype(float)\n",
    "TP = TP.astype(float)\n",
    "TN = TN.astype(float)\n",
    "\n",
    "# Sensitivity, hit rate, recall, or true positive rate\n",
    "TPR = TP/(TP+FN)\n",
    "# Specificity or true negative rate\n",
    "TNR = TN/(TN+FP) \n",
    "# Overall accuracy for each class\n",
    "ACC = (TP+TN)/(TP+FP+FN+TN)\n",
    "\n",
    "PSA= pd.DataFrame([TPR , TNR , ACC], index=['TPR' , 'TNR' , 'ACC'] )\n",
    "PSA"
   ]
  },
  {
   "cell_type": "code",
   "execution_count": 50,
   "id": "75ff25a0",
   "metadata": {},
   "outputs": [],
   "source": [
    "from openpyxl import load_workbook\n",
    "\n",
    "book = load_workbook('total_pred.xlsx')\n",
    "writer = pd.ExcelWriter('total_pred.xlsx', engine='openpyxl') \n",
    "writer.book = book\n",
    "\n",
    "loyalty_1th.to_excel(writer,sheet_name='loyalty_remainstatue2')\n",
    "loyalty_2th.to_excel(writer,sheet_name='loyalty_Exited2')\n",
    "writer.save()"
   ]
  },
  {
   "cell_type": "markdown",
   "id": "38b38c9b",
   "metadata": {},
   "source": [
    "# Tenure prediction"
   ]
  },
  {
   "cell_type": "markdown",
   "id": "39c86b64",
   "metadata": {},
   "source": [
    "## logistic regression "
   ]
  },
  {
   "cell_type": "markdown",
   "id": "8a871cf8",
   "metadata": {},
   "source": [
    "### length of customer lifetime based on Tenure"
   ]
  },
  {
   "cell_type": "code",
   "execution_count": 51,
   "id": "7f01561e",
   "metadata": {},
   "outputs": [],
   "source": [
    "from sklearn.linear_model import LogisticRegression\n",
    "from sklearn.model_selection import train_test_split\n",
    "from sklearn.preprocessing import StandardScaler"
   ]
  },
  {
   "cell_type": "code",
   "execution_count": 52,
   "id": "cf636044",
   "metadata": {},
   "outputs": [],
   "source": [
    "features = ['CreditScore2','Age2','Balance2','NomOfProducts2','HasCrCard2','IsActiveMember2','EstimatedSalary2','Geography2','int_Gender2']\n",
    "target = 'Tenure2'"
   ]
  },
  {
   "cell_type": "code",
   "execution_count": 53,
   "id": "b3318470",
   "metadata": {},
   "outputs": [],
   "source": [
    "X_train, X_test, y_train, y_test = train_test_split(df_copy[features], df_copy[target], test_size=0.30, random_state=42)"
   ]
  },
  {
   "cell_type": "code",
   "execution_count": 54,
   "id": "89234ae9",
   "metadata": {},
   "outputs": [],
   "source": [
    "sc= StandardScaler()\n",
    "X_train=sc.fit_transform(X_train)\n",
    "X_test=sc.fit_transform(X_test)"
   ]
  },
  {
   "cell_type": "code",
   "execution_count": 55,
   "id": "8fe2a9c1",
   "metadata": {},
   "outputs": [],
   "source": [
    "model = LogisticRegression()"
   ]
  },
  {
   "cell_type": "code",
   "execution_count": 56,
   "id": "3c3c62c6",
   "metadata": {},
   "outputs": [
    {
     "name": "stderr",
     "output_type": "stream",
     "text": [
      "c:\\users\\lenovo\\appdata\\local\\programs\\python\\python39\\lib\\site-packages\\sklearn\\linear_model\\_logistic.py:763: ConvergenceWarning: lbfgs failed to converge (status=1):\n",
      "STOP: TOTAL NO. of ITERATIONS REACHED LIMIT.\n",
      "\n",
      "Increase the number of iterations (max_iter) or scale the data as shown in:\n",
      "    https://scikit-learn.org/stable/modules/preprocessing.html\n",
      "Please also refer to the documentation for alternative solver options:\n",
      "    https://scikit-learn.org/stable/modules/linear_model.html#logistic-regression\n",
      "  n_iter_i = _check_optimize_result(\n"
     ]
    }
   ],
   "source": [
    "logistic_classifier=model.fit(X_train, y_train)"
   ]
  },
  {
   "cell_type": "code",
   "execution_count": 57,
   "id": "a4aeb30c",
   "metadata": {},
   "outputs": [],
   "source": [
    "predictions = model.predict(X_test)"
   ]
  },
  {
   "cell_type": "code",
   "execution_count": 58,
   "id": "d525f4f5",
   "metadata": {},
   "outputs": [],
   "source": [
    "y_test=y_test.to_frame('real')"
   ]
  },
  {
   "cell_type": "code",
   "execution_count": 59,
   "id": "a4dd7690",
   "metadata": {},
   "outputs": [],
   "source": [
    "y_test['prediction']=predictions"
   ]
  },
  {
   "cell_type": "code",
   "execution_count": 60,
   "id": "5c4f546b",
   "metadata": {},
   "outputs": [
    {
     "data": {
      "text/html": [
       "<div>\n",
       "<style scoped>\n",
       "    .dataframe tbody tr th:only-of-type {\n",
       "        vertical-align: middle;\n",
       "    }\n",
       "\n",
       "    .dataframe tbody tr th {\n",
       "        vertical-align: top;\n",
       "    }\n",
       "\n",
       "    .dataframe thead th {\n",
       "        text-align: right;\n",
       "    }\n",
       "</style>\n",
       "<table border=\"1\" class=\"dataframe\">\n",
       "  <thead>\n",
       "    <tr style=\"text-align: right;\">\n",
       "      <th></th>\n",
       "      <th>real</th>\n",
       "      <th>prediction</th>\n",
       "    </tr>\n",
       "  </thead>\n",
       "  <tbody>\n",
       "    <tr>\n",
       "      <th>6252</th>\n",
       "      <td>7</td>\n",
       "      <td>7</td>\n",
       "    </tr>\n",
       "    <tr>\n",
       "      <th>4684</th>\n",
       "      <td>5</td>\n",
       "      <td>2</td>\n",
       "    </tr>\n",
       "    <tr>\n",
       "      <th>1731</th>\n",
       "      <td>2</td>\n",
       "      <td>2</td>\n",
       "    </tr>\n",
       "    <tr>\n",
       "      <th>4742</th>\n",
       "      <td>5</td>\n",
       "      <td>7</td>\n",
       "    </tr>\n",
       "    <tr>\n",
       "      <th>4521</th>\n",
       "      <td>5</td>\n",
       "      <td>5</td>\n",
       "    </tr>\n",
       "    <tr>\n",
       "      <th>...</th>\n",
       "      <td>...</td>\n",
       "      <td>...</td>\n",
       "    </tr>\n",
       "    <tr>\n",
       "      <th>8014</th>\n",
       "      <td>9</td>\n",
       "      <td>9</td>\n",
       "    </tr>\n",
       "    <tr>\n",
       "      <th>1074</th>\n",
       "      <td>1</td>\n",
       "      <td>2</td>\n",
       "    </tr>\n",
       "    <tr>\n",
       "      <th>3063</th>\n",
       "      <td>3</td>\n",
       "      <td>4</td>\n",
       "    </tr>\n",
       "    <tr>\n",
       "      <th>6487</th>\n",
       "      <td>7</td>\n",
       "      <td>7</td>\n",
       "    </tr>\n",
       "    <tr>\n",
       "      <th>4705</th>\n",
       "      <td>5</td>\n",
       "      <td>7</td>\n",
       "    </tr>\n",
       "  </tbody>\n",
       "</table>\n",
       "<p>3000 rows × 2 columns</p>\n",
       "</div>"
      ],
      "text/plain": [
       "      real  prediction\n",
       "6252     7           7\n",
       "4684     5           2\n",
       "1731     2           2\n",
       "4742     5           7\n",
       "4521     5           5\n",
       "...    ...         ...\n",
       "8014     9           9\n",
       "1074     1           2\n",
       "3063     3           4\n",
       "6487     7           7\n",
       "4705     5           7\n",
       "\n",
       "[3000 rows x 2 columns]"
      ]
     },
     "execution_count": 60,
     "metadata": {},
     "output_type": "execute_result"
    }
   ],
   "source": [
    "y_test"
   ]
  },
  {
   "cell_type": "code",
   "execution_count": 61,
   "id": "1d845026",
   "metadata": {},
   "outputs": [
    {
     "data": {
      "text/plain": [
       "array([9, 1, 9, ..., 6, 2, 9], dtype=int64)"
      ]
     },
     "execution_count": 61,
     "metadata": {},
     "output_type": "execute_result"
    }
   ],
   "source": [
    "y_train_pred=model.predict(X_train)\n",
    "y_train_pred"
   ]
  },
  {
   "cell_type": "code",
   "execution_count": 62,
   "id": "da4bebb9",
   "metadata": {},
   "outputs": [
    {
     "data": {
      "text/html": [
       "<div>\n",
       "<style scoped>\n",
       "    .dataframe tbody tr th:only-of-type {\n",
       "        vertical-align: middle;\n",
       "    }\n",
       "\n",
       "    .dataframe tbody tr th {\n",
       "        vertical-align: top;\n",
       "    }\n",
       "\n",
       "    .dataframe thead th {\n",
       "        text-align: right;\n",
       "    }\n",
       "</style>\n",
       "<table border=\"1\" class=\"dataframe\">\n",
       "  <thead>\n",
       "    <tr style=\"text-align: right;\">\n",
       "      <th></th>\n",
       "      <th>real</th>\n",
       "      <th>prediction</th>\n",
       "    </tr>\n",
       "  </thead>\n",
       "  <tbody>\n",
       "    <tr>\n",
       "      <th>9069</th>\n",
       "      <td>10</td>\n",
       "      <td>9</td>\n",
       "    </tr>\n",
       "    <tr>\n",
       "      <th>2603</th>\n",
       "      <td>3</td>\n",
       "      <td>1</td>\n",
       "    </tr>\n",
       "    <tr>\n",
       "      <th>7738</th>\n",
       "      <td>8</td>\n",
       "      <td>9</td>\n",
       "    </tr>\n",
       "    <tr>\n",
       "      <th>1579</th>\n",
       "      <td>2</td>\n",
       "      <td>2</td>\n",
       "    </tr>\n",
       "    <tr>\n",
       "      <th>5058</th>\n",
       "      <td>5</td>\n",
       "      <td>7</td>\n",
       "    </tr>\n",
       "    <tr>\n",
       "      <th>...</th>\n",
       "      <td>...</td>\n",
       "      <td>...</td>\n",
       "    </tr>\n",
       "    <tr>\n",
       "      <th>5734</th>\n",
       "      <td>6</td>\n",
       "      <td>7</td>\n",
       "    </tr>\n",
       "    <tr>\n",
       "      <th>5191</th>\n",
       "      <td>5</td>\n",
       "      <td>5</td>\n",
       "    </tr>\n",
       "    <tr>\n",
       "      <th>5390</th>\n",
       "      <td>6</td>\n",
       "      <td>6</td>\n",
       "    </tr>\n",
       "    <tr>\n",
       "      <th>860</th>\n",
       "      <td>1</td>\n",
       "      <td>2</td>\n",
       "    </tr>\n",
       "    <tr>\n",
       "      <th>7270</th>\n",
       "      <td>8</td>\n",
       "      <td>9</td>\n",
       "    </tr>\n",
       "  </tbody>\n",
       "</table>\n",
       "<p>7000 rows × 2 columns</p>\n",
       "</div>"
      ],
      "text/plain": [
       "      real  prediction\n",
       "9069    10           9\n",
       "2603     3           1\n",
       "7738     8           9\n",
       "1579     2           2\n",
       "5058     5           7\n",
       "...    ...         ...\n",
       "5734     6           7\n",
       "5191     5           5\n",
       "5390     6           6\n",
       "860      1           2\n",
       "7270     8           9\n",
       "\n",
       "[7000 rows x 2 columns]"
      ]
     },
     "execution_count": 62,
     "metadata": {},
     "output_type": "execute_result"
    }
   ],
   "source": [
    "y_train=y_train.to_frame('real')\n",
    "y_train['prediction']=y_train_pred\n",
    "y_train"
   ]
  },
  {
   "cell_type": "code",
   "execution_count": 63,
   "id": "843f1172",
   "metadata": {},
   "outputs": [
    {
     "data": {
      "text/plain": [
       "9069    9\n",
       "2603    1\n",
       "7738    9\n",
       "1579    2\n",
       "5058    7\n",
       "       ..\n",
       "8014    9\n",
       "1074    2\n",
       "3063    4\n",
       "6487    7\n",
       "4705    7\n",
       "Name: prediction, Length: 10000, dtype: int64"
      ]
     },
     "execution_count": 63,
     "metadata": {},
     "output_type": "execute_result"
    }
   ],
   "source": [
    "#concat two prediction table \n",
    "Tenure2=pd.concat([y_train['prediction'],y_test['prediction']], axis=0)\n",
    "Tenure2"
   ]
  },
  {
   "cell_type": "markdown",
   "id": "80d426c5",
   "metadata": {},
   "source": [
    "## 5-Fold validation"
   ]
  },
  {
   "cell_type": "markdown",
   "id": "04d965c7",
   "metadata": {},
   "source": [
    "### 1th method"
   ]
  },
  {
   "cell_type": "code",
   "execution_count": 64,
   "id": "6164e555",
   "metadata": {},
   "outputs": [],
   "source": [
    "from sklearn.model_selection import KFold\n",
    "from sklearn.metrics import mean_squared_error"
   ]
  },
  {
   "cell_type": "code",
   "execution_count": 65,
   "id": "17813acc",
   "metadata": {},
   "outputs": [
    {
     "name": "stderr",
     "output_type": "stream",
     "text": [
      "c:\\users\\lenovo\\appdata\\local\\programs\\python\\python39\\lib\\site-packages\\sklearn\\linear_model\\_logistic.py:763: ConvergenceWarning: lbfgs failed to converge (status=1):\n",
      "STOP: TOTAL NO. of ITERATIONS REACHED LIMIT.\n",
      "\n",
      "Increase the number of iterations (max_iter) or scale the data as shown in:\n",
      "    https://scikit-learn.org/stable/modules/preprocessing.html\n",
      "Please also refer to the documentation for alternative solver options:\n",
      "    https://scikit-learn.org/stable/modules/linear_model.html#logistic-regression\n",
      "  n_iter_i = _check_optimize_result(\n"
     ]
    },
    {
     "name": "stdout",
     "output_type": "stream",
     "text": [
      "train accuracy: 2.5189779673510446, test accuracy: 1.9649427472575378\n"
     ]
    },
    {
     "name": "stderr",
     "output_type": "stream",
     "text": [
      "c:\\users\\lenovo\\appdata\\local\\programs\\python\\python39\\lib\\site-packages\\sklearn\\linear_model\\_logistic.py:763: ConvergenceWarning: lbfgs failed to converge (status=1):\n",
      "STOP: TOTAL NO. of ITERATIONS REACHED LIMIT.\n",
      "\n",
      "Increase the number of iterations (max_iter) or scale the data as shown in:\n",
      "    https://scikit-learn.org/stable/modules/preprocessing.html\n",
      "Please also refer to the documentation for alternative solver options:\n",
      "    https://scikit-learn.org/stable/modules/linear_model.html#logistic-regression\n",
      "  n_iter_i = _check_optimize_result(\n"
     ]
    },
    {
     "name": "stdout",
     "output_type": "stream",
     "text": [
      "train accuracy: 2.2346140606377647, test accuracy: 2.2185580902919804\n"
     ]
    },
    {
     "name": "stderr",
     "output_type": "stream",
     "text": [
      "c:\\users\\lenovo\\appdata\\local\\programs\\python\\python39\\lib\\site-packages\\sklearn\\linear_model\\_logistic.py:763: ConvergenceWarning: lbfgs failed to converge (status=1):\n",
      "STOP: TOTAL NO. of ITERATIONS REACHED LIMIT.\n",
      "\n",
      "Increase the number of iterations (max_iter) or scale the data as shown in:\n",
      "    https://scikit-learn.org/stable/modules/preprocessing.html\n",
      "Please also refer to the documentation for alternative solver options:\n",
      "    https://scikit-learn.org/stable/modules/linear_model.html#logistic-regression\n",
      "  n_iter_i = _check_optimize_result(\n"
     ]
    },
    {
     "name": "stdout",
     "output_type": "stream",
     "text": [
      "train accuracy: 2.2849507653339054, test accuracy: 3.6224991373359914\n"
     ]
    },
    {
     "name": "stderr",
     "output_type": "stream",
     "text": [
      "c:\\users\\lenovo\\appdata\\local\\programs\\python\\python39\\lib\\site-packages\\sklearn\\linear_model\\_logistic.py:763: ConvergenceWarning: lbfgs failed to converge (status=1):\n",
      "STOP: TOTAL NO. of ITERATIONS REACHED LIMIT.\n",
      "\n",
      "Increase the number of iterations (max_iter) or scale the data as shown in:\n",
      "    https://scikit-learn.org/stable/modules/preprocessing.html\n",
      "Please also refer to the documentation for alternative solver options:\n",
      "    https://scikit-learn.org/stable/modules/linear_model.html#logistic-regression\n",
      "  n_iter_i = _check_optimize_result(\n"
     ]
    },
    {
     "name": "stdout",
     "output_type": "stream",
     "text": [
      "train accuracy: 2.5434720364100722, test accuracy: 2.172556098240043\n",
      "train accuracy: 1.5010413052278075, test accuracy: 3.7242448899072143\n",
      "avg train acc 2.2166112269921188\n",
      "avg test acc 2.7405601926065537\n"
     ]
    },
    {
     "name": "stderr",
     "output_type": "stream",
     "text": [
      "c:\\users\\lenovo\\appdata\\local\\programs\\python\\python39\\lib\\site-packages\\sklearn\\linear_model\\_logistic.py:763: ConvergenceWarning: lbfgs failed to converge (status=1):\n",
      "STOP: TOTAL NO. of ITERATIONS REACHED LIMIT.\n",
      "\n",
      "Increase the number of iterations (max_iter) or scale the data as shown in:\n",
      "    https://scikit-learn.org/stable/modules/preprocessing.html\n",
      "Please also refer to the documentation for alternative solver options:\n",
      "    https://scikit-learn.org/stable/modules/linear_model.html#logistic-regression\n",
      "  n_iter_i = _check_optimize_result(\n"
     ]
    }
   ],
   "source": [
    "xval = KFold(n_splits=5)\n",
    "allTrainAcc, allTestAcc = [], []\n",
    "for t_idx, v_idx in xval.split(df_copy[features], df_copy[target]):\n",
    "    # Split dataset into two pieces\n",
    "    train_df_copy = df_copy.iloc[t_idx].copy()\n",
    "    test_df_copy = df_copy.iloc[v_idx].copy()\n",
    "    # Train the model\n",
    "    model = LogisticRegression()\n",
    "    model.fit(train_df_copy[features], train_df_copy[target])\n",
    "    # Calculate accuracy\n",
    "    train_df_copy['prediction'] = model.predict(train_df_copy[features])\n",
    "    test_df_copy['prediction'] = model.predict(test_df_copy[features])\n",
    "    trainingAccuracy = mean_squared_error(train_df_copy[target], train_df_copy['prediction']) ** 0.5\n",
    "    testAccuracy = mean_squared_error(test_df_copy[target], test_df_copy['prediction']) ** 0.5\n",
    "    \n",
    "    allTrainAcc.append(trainingAccuracy)\n",
    "    allTestAcc.append(testAccuracy)\n",
    "    \n",
    "    print('train accuracy: {0}, test accuracy: {1}'.format(trainingAccuracy, testAccuracy))\n",
    "print('avg train acc', sum(allTrainAcc) / len(allTrainAcc))\n",
    "print('avg test acc', sum(allTestAcc) / len(allTestAcc))"
   ]
  },
  {
   "cell_type": "markdown",
   "id": "26b5924d",
   "metadata": {},
   "source": [
    "### 2th method"
   ]
  },
  {
   "cell_type": "code",
   "execution_count": 66,
   "id": "a34aed1a",
   "metadata": {},
   "outputs": [
    {
     "name": "stdout",
     "output_type": "stream",
     "text": [
      "Accuracy: 0.195 (0.008)\n"
     ]
    }
   ],
   "source": [
    "from numpy import mean\n",
    "from numpy import std\n",
    "from sklearn.model_selection import cross_val_score\n",
    "# prepare the cross-validation procedure\n",
    "cv = KFold(n_splits=5, random_state=1, shuffle=True)\n",
    "# create model\n",
    "model = LogisticRegression()\n",
    "# evaluate model\n",
    "scores = cross_val_score(model, df_copy[features] , df_copy[target] , scoring='accuracy', cv=cv, n_jobs=-1)\n",
    "# report performance\n",
    "print('Accuracy: %.3f (%.3f)' % (mean(scores), std(scores)))"
   ]
  },
  {
   "cell_type": "markdown",
   "id": "d94bfc4b",
   "metadata": {},
   "source": [
    "### confusion matrix"
   ]
  },
  {
   "cell_type": "code",
   "execution_count": 67,
   "id": "55d6b08d",
   "metadata": {},
   "outputs": [],
   "source": [
    "from sklearn.metrics import confusion_matrix\n",
    "    \n",
    "y_true= y_test['real']\n",
    "y_pred= y_test['prediction']"
   ]
  },
  {
   "cell_type": "code",
   "execution_count": 68,
   "id": "e9c1ec4f",
   "metadata": {},
   "outputs": [
    {
     "data": {
      "text/plain": [
       "array([[ 75,   0,  50,   0,   0,   0,   0,   0,   0,   0,   0],\n",
       "       [  0,   0, 286,   0,   0,   0,   0,   0,   0,   0,   0],\n",
       "       [  0,   0, 450,   0,   0,   0,   0,   0,   0,   8,   0],\n",
       "       [  0,   0, 120,  83,  84,   0,   0,   0,   0,   0,   0],\n",
       "       [  0,   0,   0,   6, 258,   0,   0,   0,   0,   0,   0],\n",
       "       [  0,   0,  28,   0,  12, 143,   1, 124,   0,   0,   0],\n",
       "       [  0,   0,  14,   0,   0,   6,  46, 196,   0,   0,   0],\n",
       "       [  0,   0,  11,   0,   0,   8,  43, 219,   0,   0,   0],\n",
       "       [  0,   0,   0,   0,   0,   0,  16,  24,  32, 204,   0],\n",
       "       [  0,   0,   0,   0,   0,   0,   0,   0,  59, 260,   0],\n",
       "       [  0,   0,   0,   0,   0,   0,   0,   0,  26, 108,   0]],\n",
       "      dtype=int64)"
      ]
     },
     "execution_count": 68,
     "metadata": {},
     "output_type": "execute_result"
    }
   ],
   "source": [
    "cm=confusion_matrix( y_true , y_pred)\n",
    "cm"
   ]
  },
  {
   "cell_type": "code",
   "execution_count": 69,
   "id": "eb5b4a86",
   "metadata": {},
   "outputs": [
    {
     "data": {
      "image/png": "[encoded data removed]",
      "text/plain": [
       "<Figure size 432x288 with 2 Axes>"
      ]
     },
     "metadata": {
      "needs_background": "light"
     },
     "output_type": "display_data"
    }
   ],
   "source": [
    "# Plot confusion matrix\n",
    "import seaborn as sns\n",
    "import pandas as pd\n",
    "import matplotlib.pyplot as plt\n",
    "# confusion matrix sns heatmap \n",
    "ax = plt.axes()\n",
    "df_cm = cm\n",
    "sns.heatmap(df_cm, annot=True, annot_kws={\"size\":10}, fmt='d',cmap=\"Blues\", ax = ax )\n",
    "ax.set_title('Confusion Matrix pred based on \"Tenure2\"')\n",
    "plt.show()"
   ]
  },
  {
   "cell_type": "code",
   "execution_count": 70,
   "id": "4d48d2d5",
   "metadata": {},
   "outputs": [
    {
     "data": {
      "text/html": [
       "<div>\n",
       "<style scoped>\n",
       "    .dataframe tbody tr th:only-of-type {\n",
       "        vertical-align: middle;\n",
       "    }\n",
       "\n",
       "    .dataframe tbody tr th {\n",
       "        vertical-align: top;\n",
       "    }\n",
       "\n",
       "    .dataframe thead th {\n",
       "        text-align: right;\n",
       "    }\n",
       "</style>\n",
       "<table border=\"1\" class=\"dataframe\">\n",
       "  <thead>\n",
       "    <tr style=\"text-align: right;\">\n",
       "      <th></th>\n",
       "      <th>0</th>\n",
       "      <th>1</th>\n",
       "      <th>2</th>\n",
       "      <th>3</th>\n",
       "      <th>4</th>\n",
       "      <th>5</th>\n",
       "      <th>6</th>\n",
       "      <th>7</th>\n",
       "      <th>8</th>\n",
       "      <th>9</th>\n",
       "      <th>10</th>\n",
       "    </tr>\n",
       "  </thead>\n",
       "  <tbody>\n",
       "    <tr>\n",
       "      <th>TPR</th>\n",
       "      <td>0.600000</td>\n",
       "      <td>0.000000</td>\n",
       "      <td>0.982533</td>\n",
       "      <td>0.289199</td>\n",
       "      <td>0.977273</td>\n",
       "      <td>0.464286</td>\n",
       "      <td>0.175573</td>\n",
       "      <td>0.779359</td>\n",
       "      <td>0.115942</td>\n",
       "      <td>0.815047</td>\n",
       "      <td>0.000000</td>\n",
       "    </tr>\n",
       "    <tr>\n",
       "      <th>TNR</th>\n",
       "      <td>1.000000</td>\n",
       "      <td>1.000000</td>\n",
       "      <td>0.799764</td>\n",
       "      <td>0.997788</td>\n",
       "      <td>0.964912</td>\n",
       "      <td>0.994799</td>\n",
       "      <td>0.978086</td>\n",
       "      <td>0.873483</td>\n",
       "      <td>0.968796</td>\n",
       "      <td>0.880642</td>\n",
       "      <td>1.000000</td>\n",
       "    </tr>\n",
       "    <tr>\n",
       "      <th>ACC</th>\n",
       "      <td>0.983333</td>\n",
       "      <td>0.904667</td>\n",
       "      <td>0.827667</td>\n",
       "      <td>0.930000</td>\n",
       "      <td>0.966000</td>\n",
       "      <td>0.940333</td>\n",
       "      <td>0.908000</td>\n",
       "      <td>0.864667</td>\n",
       "      <td>0.890333</td>\n",
       "      <td>0.873667</td>\n",
       "      <td>0.955333</td>\n",
       "    </tr>\n",
       "  </tbody>\n",
       "</table>\n",
       "</div>"
      ],
      "text/plain": [
       "           0         1         2         3         4         5         6   \\\n",
       "TPR  0.600000  0.000000  0.982533  0.289199  0.977273  0.464286  0.175573   \n",
       "TNR  1.000000  1.000000  0.799764  0.997788  0.964912  0.994799  0.978086   \n",
       "ACC  0.983333  0.904667  0.827667  0.930000  0.966000  0.940333  0.908000   \n",
       "\n",
       "           7         8         9         10  \n",
       "TPR  0.779359  0.115942  0.815047  0.000000  \n",
       "TNR  0.873483  0.968796  0.880642  1.000000  \n",
       "ACC  0.864667  0.890333  0.873667  0.955333  "
      ]
     },
     "execution_count": 70,
     "metadata": {},
     "output_type": "execute_result"
    }
   ],
   "source": [
    "FP = cm.sum(axis=0) - np.diag(cm) \n",
    "FN = cm.sum(axis=1) - np.diag(cm)\n",
    "TP = np.diag(cm)\n",
    "TN = cm.sum() - (FP + FN + TP)\n",
    "\n",
    "FP = FP.astype(float)\n",
    "FN = FN.astype(float)\n",
    "TP = TP.astype(float)\n",
    "TN = TN.astype(float)\n",
    "\n",
    "# Sensitivity, hit rate, recall, or true positive rate\n",
    "TPR = TP/(TP+FN)\n",
    "# Specificity or true negative rate\n",
    "TNR = TN/(TN+FP) \n",
    "# Overall accuracy for each class\n",
    "ACC = (TP+TN)/(TP+FP+FN+TN) \n",
    " \n",
    "PSA= pd.DataFrame([TPR , TNR , ACC], index=['TPR' , 'TNR' , 'ACC'] )\n",
    "PSA"
   ]
  },
  {
   "cell_type": "code",
   "execution_count": 71,
   "id": "7e21d9fc",
   "metadata": {},
   "outputs": [],
   "source": [
    "from openpyxl import load_workbook\n",
    "\n",
    "book = load_workbook('total_pred.xlsx')\n",
    "writer = pd.ExcelWriter('total_pred.xlsx', engine='openpyxl') \n",
    "writer.book = book\n",
    "\n",
    "Tenure2.to_excel(writer,sheet_name='Tenure2')\n",
    "writer.save()\n"
   ]
  },
  {
   "cell_type": "markdown",
   "id": "0f7e2f0d",
   "metadata": {},
   "source": [
    "# prediction of Balance\n",
    "\n",
    "# classification\n",
    "\n",
    "## LinearRegression  "
   ]
  },
  {
   "cell_type": "code",
   "execution_count": 72,
   "id": "c2009b33",
   "metadata": {},
   "outputs": [],
   "source": [
    "from sklearn.linear_model import LinearRegression\n",
    "from sklearn.model_selection import train_test_split"
   ]
  },
  {
   "cell_type": "code",
   "execution_count": 73,
   "id": "1ec01dfb",
   "metadata": {},
   "outputs": [],
   "source": [
    "features = ['CreditScore2','Age2','Tenure2','NomOfProducts2','HasCrCard2','IsActiveMember2','EstimatedSalary2','Geography2','int_Gender2']\n",
    "target = 'Balance2'"
   ]
  },
  {
   "cell_type": "code",
   "execution_count": 74,
   "id": "e26091de",
   "metadata": {},
   "outputs": [],
   "source": [
    "X_train, X_test, y_train, y_test = train_test_split(df_copy[features], df_copy[target], test_size=0.30, random_state=42)"
   ]
  },
  {
   "cell_type": "code",
   "execution_count": 75,
   "id": "5b5f634a",
   "metadata": {},
   "outputs": [],
   "source": [
    "model = LinearRegression()"
   ]
  },
  {
   "cell_type": "code",
   "execution_count": 76,
   "id": "d99bedf0",
   "metadata": {},
   "outputs": [],
   "source": [
    "logistic_classifier=model.fit(X_train, y_train)"
   ]
  },
  {
   "cell_type": "code",
   "execution_count": 77,
   "id": "c99926d0",
   "metadata": {},
   "outputs": [],
   "source": [
    "predictions = model.predict(X_test)"
   ]
  },
  {
   "cell_type": "code",
   "execution_count": 78,
   "id": "f97ceb3b",
   "metadata": {},
   "outputs": [],
   "source": [
    "y_test=y_test.to_frame('real')"
   ]
  },
  {
   "cell_type": "code",
   "execution_count": 79,
   "id": "aea90477",
   "metadata": {},
   "outputs": [],
   "source": [
    "y_test['prediction']=predictions"
   ]
  },
  {
   "cell_type": "code",
   "execution_count": 80,
   "id": "4315f3e5",
   "metadata": {},
   "outputs": [
    {
     "data": {
      "text/html": [
       "<div>\n",
       "<style scoped>\n",
       "    .dataframe tbody tr th:only-of-type {\n",
       "        vertical-align: middle;\n",
       "    }\n",
       "\n",
       "    .dataframe tbody tr th {\n",
       "        vertical-align: top;\n",
       "    }\n",
       "\n",
       "    .dataframe thead th {\n",
       "        text-align: right;\n",
       "    }\n",
       "</style>\n",
       "<table border=\"1\" class=\"dataframe\">\n",
       "  <thead>\n",
       "    <tr style=\"text-align: right;\">\n",
       "      <th></th>\n",
       "      <th>real</th>\n",
       "      <th>prediction</th>\n",
       "    </tr>\n",
       "  </thead>\n",
       "  <tbody>\n",
       "    <tr>\n",
       "      <th>6252</th>\n",
       "      <td>76353</td>\n",
       "      <td>79786.189908</td>\n",
       "    </tr>\n",
       "    <tr>\n",
       "      <th>4684</th>\n",
       "      <td>76673</td>\n",
       "      <td>83656.335941</td>\n",
       "    </tr>\n",
       "    <tr>\n",
       "      <th>1731</th>\n",
       "      <td>0</td>\n",
       "      <td>963.188929</td>\n",
       "    </tr>\n",
       "    <tr>\n",
       "      <th>4742</th>\n",
       "      <td>76290</td>\n",
       "      <td>73417.883696</td>\n",
       "    </tr>\n",
       "    <tr>\n",
       "      <th>4521</th>\n",
       "      <td>76563</td>\n",
       "      <td>76466.619603</td>\n",
       "    </tr>\n",
       "    <tr>\n",
       "      <th>...</th>\n",
       "      <td>...</td>\n",
       "      <td>...</td>\n",
       "    </tr>\n",
       "    <tr>\n",
       "      <th>8014</th>\n",
       "      <td>76364</td>\n",
       "      <td>76786.198451</td>\n",
       "    </tr>\n",
       "    <tr>\n",
       "      <th>1074</th>\n",
       "      <td>0</td>\n",
       "      <td>-1679.587577</td>\n",
       "    </tr>\n",
       "    <tr>\n",
       "      <th>3063</th>\n",
       "      <td>0</td>\n",
       "      <td>27351.453322</td>\n",
       "    </tr>\n",
       "    <tr>\n",
       "      <th>6487</th>\n",
       "      <td>76679</td>\n",
       "      <td>80807.012630</td>\n",
       "    </tr>\n",
       "    <tr>\n",
       "      <th>4705</th>\n",
       "      <td>76333</td>\n",
       "      <td>72894.772963</td>\n",
       "    </tr>\n",
       "  </tbody>\n",
       "</table>\n",
       "<p>3000 rows × 2 columns</p>\n",
       "</div>"
      ],
      "text/plain": [
       "       real    prediction\n",
       "6252  76353  79786.189908\n",
       "4684  76673  83656.335941\n",
       "1731      0    963.188929\n",
       "4742  76290  73417.883696\n",
       "4521  76563  76466.619603\n",
       "...     ...           ...\n",
       "8014  76364  76786.198451\n",
       "1074      0  -1679.587577\n",
       "3063      0  27351.453322\n",
       "6487  76679  80807.012630\n",
       "4705  76333  72894.772963\n",
       "\n",
       "[3000 rows x 2 columns]"
      ]
     },
     "execution_count": 80,
     "metadata": {},
     "output_type": "execute_result"
    }
   ],
   "source": [
    "y_test"
   ]
  },
  {
   "cell_type": "code",
   "execution_count": 81,
   "id": "26178e6b",
   "metadata": {},
   "outputs": [
    {
     "data": {
      "text/plain": [
       "array([80658.44024533,  4747.66424329, 73147.23698956, ...,\n",
       "       77072.3126894 , -2142.84984507, 73577.84124238])"
      ]
     },
     "execution_count": 81,
     "metadata": {},
     "output_type": "execute_result"
    }
   ],
   "source": [
    "y_train_pred=model.predict(X_train)\n",
    "y_train_pred"
   ]
  },
  {
   "cell_type": "code",
   "execution_count": 82,
   "id": "086a9051",
   "metadata": {},
   "outputs": [
    {
     "data": {
      "text/html": [
       "<div>\n",
       "<style scoped>\n",
       "    .dataframe tbody tr th:only-of-type {\n",
       "        vertical-align: middle;\n",
       "    }\n",
       "\n",
       "    .dataframe tbody tr th {\n",
       "        vertical-align: top;\n",
       "    }\n",
       "\n",
       "    .dataframe thead th {\n",
       "        text-align: right;\n",
       "    }\n",
       "</style>\n",
       "<table border=\"1\" class=\"dataframe\">\n",
       "  <thead>\n",
       "    <tr style=\"text-align: right;\">\n",
       "      <th></th>\n",
       "      <th>real</th>\n",
       "      <th>prediction</th>\n",
       "    </tr>\n",
       "  </thead>\n",
       "  <tbody>\n",
       "    <tr>\n",
       "      <th>9069</th>\n",
       "      <td>76315</td>\n",
       "      <td>80658.440245</td>\n",
       "    </tr>\n",
       "    <tr>\n",
       "      <th>2603</th>\n",
       "      <td>0</td>\n",
       "      <td>4747.664243</td>\n",
       "    </tr>\n",
       "    <tr>\n",
       "      <th>7738</th>\n",
       "      <td>76136</td>\n",
       "      <td>73147.236990</td>\n",
       "    </tr>\n",
       "    <tr>\n",
       "      <th>1579</th>\n",
       "      <td>0</td>\n",
       "      <td>1305.305609</td>\n",
       "    </tr>\n",
       "    <tr>\n",
       "      <th>5058</th>\n",
       "      <td>76877</td>\n",
       "      <td>73037.634594</td>\n",
       "    </tr>\n",
       "    <tr>\n",
       "      <th>...</th>\n",
       "      <td>...</td>\n",
       "      <td>...</td>\n",
       "    </tr>\n",
       "    <tr>\n",
       "      <th>5734</th>\n",
       "      <td>76270</td>\n",
       "      <td>75734.852341</td>\n",
       "    </tr>\n",
       "    <tr>\n",
       "      <th>5191</th>\n",
       "      <td>76945</td>\n",
       "      <td>74187.383861</td>\n",
       "    </tr>\n",
       "    <tr>\n",
       "      <th>5390</th>\n",
       "      <td>76535</td>\n",
       "      <td>77072.312689</td>\n",
       "    </tr>\n",
       "    <tr>\n",
       "      <th>860</th>\n",
       "      <td>0</td>\n",
       "      <td>-2142.849845</td>\n",
       "    </tr>\n",
       "    <tr>\n",
       "      <th>7270</th>\n",
       "      <td>76619</td>\n",
       "      <td>73577.841242</td>\n",
       "    </tr>\n",
       "  </tbody>\n",
       "</table>\n",
       "<p>7000 rows × 2 columns</p>\n",
       "</div>"
      ],
      "text/plain": [
       "       real    prediction\n",
       "9069  76315  80658.440245\n",
       "2603      0   4747.664243\n",
       "7738  76136  73147.236990\n",
       "1579      0   1305.305609\n",
       "5058  76877  73037.634594\n",
       "...     ...           ...\n",
       "5734  76270  75734.852341\n",
       "5191  76945  74187.383861\n",
       "5390  76535  77072.312689\n",
       "860       0  -2142.849845\n",
       "7270  76619  73577.841242\n",
       "\n",
       "[7000 rows x 2 columns]"
      ]
     },
     "execution_count": 82,
     "metadata": {},
     "output_type": "execute_result"
    }
   ],
   "source": [
    "y_train=y_train.to_frame('real')\n",
    "y_train['prediction']=y_train_pred\n",
    "y_train"
   ]
  },
  {
   "cell_type": "code",
   "execution_count": 83,
   "id": "1399aee2",
   "metadata": {},
   "outputs": [
    {
     "data": {
      "text/plain": [
       "9069    80658.440245\n",
       "2603     4747.664243\n",
       "7738    73147.236990\n",
       "1579     1305.305609\n",
       "5058    73037.634594\n",
       "            ...     \n",
       "8014    76786.198451\n",
       "1074    -1679.587577\n",
       "3063    27351.453322\n",
       "6487    80807.012630\n",
       "4705    72894.772963\n",
       "Name: prediction, Length: 10000, dtype: float64"
      ]
     },
     "execution_count": 83,
     "metadata": {},
     "output_type": "execute_result"
    }
   ],
   "source": [
    "#concat two prediction table \n",
    "profit2=pd.concat([y_train['prediction'],y_test['prediction']], axis=0)\n",
    "profit2"
   ]
  },
  {
   "cell_type": "markdown",
   "id": "6fc1a2c7",
   "metadata": {},
   "source": [
    "## 5-Fold validation"
   ]
  },
  {
   "cell_type": "markdown",
   "id": "69751c95",
   "metadata": {},
   "source": [
    "### 1th method"
   ]
  },
  {
   "cell_type": "code",
   "execution_count": 84,
   "id": "e8eb2c18",
   "metadata": {},
   "outputs": [],
   "source": [
    "from sklearn.model_selection import KFold\n",
    "from sklearn.metrics import mean_squared_error"
   ]
  },
  {
   "cell_type": "code",
   "execution_count": 85,
   "id": "22eb0a28",
   "metadata": {},
   "outputs": [
    {
     "name": "stdout",
     "output_type": "stream",
     "text": [
      "train accuracy: 16577.867352297082, test accuracy: 6654.704685159171\n",
      "train accuracy: 215.77251401353854, test accuracy: 54912.95563279528\n",
      "train accuracy: 10452.150277744118, test accuracy: 32696.870092352\n",
      "train accuracy: 16465.31253019503, test accuracy: 7200.212764197945\n",
      "train accuracy: 16352.077503798078, test accuracy: 12764.340563527336\n",
      "avg train acc 12012.636035609568\n",
      "avg test acc 22845.816747606346\n"
     ]
    }
   ],
   "source": [
    "xval = KFold(n_splits=5)\n",
    "allTrainAcc, allTestAcc = [], []\n",
    "for t_idx, v_idx in xval.split(df_copy[features], df_copy[target]):\n",
    "    # Split dataset into two pieces\n",
    "    train_df_copy = df_copy.iloc[t_idx].copy()\n",
    "    test_df_copy = df_copy.iloc[v_idx].copy()\n",
    "    # Train the model\n",
    "    model = LinearRegression()\n",
    "    model.fit(train_df_copy[features], train_df_copy[target])\n",
    "    # Calculate accuracy\n",
    "    train_df_copy['prediction'] = model.predict(train_df_copy[features])\n",
    "    test_df_copy['prediction'] = model.predict(test_df_copy[features])\n",
    "    trainingAccuracy = mean_squared_error(train_df_copy[target], train_df_copy['prediction']) ** 0.5\n",
    "    testAccuracy = mean_squared_error(test_df_copy[target], test_df_copy['prediction']) ** 0.5\n",
    "    \n",
    "    allTrainAcc.append(trainingAccuracy)\n",
    "    allTestAcc.append(testAccuracy)\n",
    "    \n",
    "    print('train accuracy: {0}, test accuracy: {1}'.format(trainingAccuracy, testAccuracy))\n",
    "print('avg train acc', sum(allTrainAcc) / len(allTrainAcc))\n",
    "print('avg test acc', sum(allTestAcc) / len(allTestAcc))"
   ]
  },
  {
   "cell_type": "markdown",
   "id": "e5b19f52",
   "metadata": {},
   "source": [
    "### 2th method"
   ]
  },
  {
   "cell_type": "code",
   "execution_count": 86,
   "id": "f617058f",
   "metadata": {},
   "outputs": [
    {
     "name": "stdout",
     "output_type": "stream",
     "text": [
      "Accuracy: nan (nan)\n"
     ]
    }
   ],
   "source": [
    "from numpy import mean\n",
    "from numpy import std\n",
    "from sklearn.model_selection import cross_val_score\n",
    "# prepare the cross-validation procedure\n",
    "cv = KFold(n_splits=5, random_state=1, shuffle=True)\n",
    "# create model\n",
    "model = LinearRegression()\n",
    "# evaluate model\n",
    "scores = cross_val_score(model, df_copy[features] , df_copy[target] , scoring='accuracy', cv=cv, n_jobs=-1)\n",
    "# report performance\n",
    "print('Accuracy: %.3f (%.3f)' % (mean(scores), std(scores)))"
   ]
  },
  {
   "cell_type": "markdown",
   "id": "4501d9fd",
   "metadata": {},
   "source": [
    "### Save in excel"
   ]
  },
  {
   "cell_type": "code",
   "execution_count": 87,
   "id": "c816cf46",
   "metadata": {},
   "outputs": [],
   "source": [
    "from openpyxl import load_workbook\n",
    "\n",
    "book = load_workbook('total_pred.xlsx')\n",
    "writer = pd.ExcelWriter('total_pred.xlsx', engine='openpyxl') \n",
    "writer.book = book\n",
    "\n",
    "profit2.to_excel(writer,sheet_name='profit2')\n",
    "writer.save()\n"
   ]
  },
  {
   "cell_type": "code",
   "execution_count": null,
   "id": "e12d215a",
   "metadata": {},
   "outputs": [],
   "source": []
  }
 ],
 "metadata": {
  "kernelspec": {
   "display_name": "Python 3 (ipykernel)",
   "language": "python",
   "name": "python3"
  },
  "language_info": {
   "codemirror_mode": {
    "name": "ipython",
    "version": 3
   },
   "file_extension": ".py",
   "mimetype": "text/x-python",
   "name": "python",
   "nbconvert_exporter": "python",
   "pygments_lexer": "ipython3",
   "version": "3.9.6"
  }
 },
 "nbformat": 4,
 "nbformat_minor": 5
}
