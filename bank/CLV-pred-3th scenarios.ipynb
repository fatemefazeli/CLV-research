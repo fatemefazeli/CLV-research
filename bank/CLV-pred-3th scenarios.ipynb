{
 "cells": [
  {
   "cell_type": "code",
   "execution_count": 1,
   "id": "0a7ff505",
   "metadata": {},
   "outputs": [],
   "source": [
    "import numpy as np\n",
    "import pandas as pd\n",
    "import matplotlib.pyplot as plt\n",
    "import seaborn as sns"
   ]
  },
  {
   "cell_type": "markdown",
   "id": "470d3ac6",
   "metadata": {},
   "source": [
    "# 2th scenario"
   ]
  },
  {
   "cell_type": "code",
   "execution_count": 2,
   "id": "407f4a91",
   "metadata": {},
   "outputs": [
    {
     "name": "stdout",
     "output_type": "stream",
     "text": [
      "      Unnamed: 0  IsActiveMember2  HasCrCard2  Exited2  Geography2  Gender2  \\\n",
      "0              0                0           0        0           1        0   \n",
      "1              1                0           0        0           1        0   \n",
      "2              2                0           0        0           1        0   \n",
      "3              3                0           0        0           1        0   \n",
      "4              4                0           0        0           1        0   \n",
      "...          ...              ...         ...      ...         ...      ...   \n",
      "9995        9995                1           1        0           1        1   \n",
      "9996        9996                1           1        0           1        1   \n",
      "9997        9997                1           1        0           1        1   \n",
      "9998        9998                1           1        0           1        1   \n",
      "9999        9999                1           1        0           1        1   \n",
      "\n",
      "      Tenure2  NomOfProducts2  Balance2  CreditScore2  Age2  EstimatedSalary2  \n",
      "0           0               0         0           850    45            171388  \n",
      "1           0               0         0           850    34            127408  \n",
      "2           0               0         0           850    41             27736  \n",
      "3           0               0         0           850    39            153563  \n",
      "4           0               0         0           850    41             29512  \n",
      "...       ...             ...       ...           ...   ...               ...  \n",
      "9995        2               1     77200           658    45            155862  \n",
      "9996        2               1     76541           653    38            162587  \n",
      "9997        2               1     76370           680    43            129868  \n",
      "9998        2               1     77163           645    39            183123  \n",
      "9999        2               1     76698           652    34            116477  \n",
      "\n",
      "[10000 rows x 12 columns]\n"
     ]
    }
   ],
   "source": [
    "df=pd.read_excel('bank_all_senario.xlsx',sheet_name='3th_scenario')\n",
    "print(df)"
   ]
  },
  {
   "cell_type": "code",
   "execution_count": 3,
   "id": "e10cb910",
   "metadata": {},
   "outputs": [],
   "source": [
    "df_copy=df.copy(deep=True)"
   ]
  },
  {
   "cell_type": "code",
   "execution_count": 4,
   "id": "6d13bae5",
   "metadata": {},
   "outputs": [
    {
     "name": "stdout",
     "output_type": "stream",
     "text": [
      "<class 'pandas.core.frame.DataFrame'>\n",
      "RangeIndex: 10000 entries, 0 to 9999\n",
      "Data columns (total 12 columns):\n",
      " #   Column            Non-Null Count  Dtype\n",
      "---  ------            --------------  -----\n",
      " 0   Unnamed: 0        10000 non-null  int64\n",
      " 1   IsActiveMember2   10000 non-null  int64\n",
      " 2   HasCrCard2        10000 non-null  int64\n",
      " 3   Exited2           10000 non-null  int64\n",
      " 4   Geography2        10000 non-null  int64\n",
      " 5   Gender2           10000 non-null  int64\n",
      " 6   Tenure2           10000 non-null  int64\n",
      " 7   NomOfProducts2    10000 non-null  int64\n",
      " 8   Balance2          10000 non-null  int64\n",
      " 9   CreditScore2      10000 non-null  int64\n",
      " 10  Age2              10000 non-null  int64\n",
      " 11  EstimatedSalary2  10000 non-null  int64\n",
      "dtypes: int64(12)\n",
      "memory usage: 937.6 KB\n"
     ]
    }
   ],
   "source": [
    "df_copy.info()"
   ]
  },
  {
   "cell_type": "code",
   "execution_count": 5,
   "id": "19b4f5d6",
   "metadata": {},
   "outputs": [
    {
     "data": {
      "text/html": [
       "<div>\n",
       "<style scoped>\n",
       "    .dataframe tbody tr th:only-of-type {\n",
       "        vertical-align: middle;\n",
       "    }\n",
       "\n",
       "    .dataframe tbody tr th {\n",
       "        vertical-align: top;\n",
       "    }\n",
       "\n",
       "    .dataframe thead th {\n",
       "        text-align: right;\n",
       "    }\n",
       "</style>\n",
       "<table border=\"1\" class=\"dataframe\">\n",
       "  <thead>\n",
       "    <tr style=\"text-align: right;\">\n",
       "      <th></th>\n",
       "      <th>Unnamed: 0</th>\n",
       "      <th>IsActiveMember2</th>\n",
       "      <th>HasCrCard2</th>\n",
       "      <th>Exited2</th>\n",
       "      <th>Geography2</th>\n",
       "      <th>Gender2</th>\n",
       "      <th>Tenure2</th>\n",
       "      <th>NomOfProducts2</th>\n",
       "      <th>Balance2</th>\n",
       "      <th>CreditScore2</th>\n",
       "      <th>Age2</th>\n",
       "      <th>EstimatedSalary2</th>\n",
       "      <th>target_Lable_remainstatue</th>\n",
       "    </tr>\n",
       "  </thead>\n",
       "  <tbody>\n",
       "    <tr>\n",
       "      <th>0</th>\n",
       "      <td>0</td>\n",
       "      <td>0</td>\n",
       "      <td>0</td>\n",
       "      <td>0</td>\n",
       "      <td>1</td>\n",
       "      <td>0</td>\n",
       "      <td>0</td>\n",
       "      <td>0</td>\n",
       "      <td>0</td>\n",
       "      <td>850</td>\n",
       "      <td>45</td>\n",
       "      <td>171388</td>\n",
       "      <td>0</td>\n",
       "    </tr>\n",
       "    <tr>\n",
       "      <th>1</th>\n",
       "      <td>1</td>\n",
       "      <td>0</td>\n",
       "      <td>0</td>\n",
       "      <td>0</td>\n",
       "      <td>1</td>\n",
       "      <td>0</td>\n",
       "      <td>0</td>\n",
       "      <td>0</td>\n",
       "      <td>0</td>\n",
       "      <td>850</td>\n",
       "      <td>34</td>\n",
       "      <td>127408</td>\n",
       "      <td>0</td>\n",
       "    </tr>\n",
       "    <tr>\n",
       "      <th>2</th>\n",
       "      <td>2</td>\n",
       "      <td>0</td>\n",
       "      <td>0</td>\n",
       "      <td>0</td>\n",
       "      <td>1</td>\n",
       "      <td>0</td>\n",
       "      <td>0</td>\n",
       "      <td>0</td>\n",
       "      <td>0</td>\n",
       "      <td>850</td>\n",
       "      <td>41</td>\n",
       "      <td>27736</td>\n",
       "      <td>0</td>\n",
       "    </tr>\n",
       "    <tr>\n",
       "      <th>3</th>\n",
       "      <td>3</td>\n",
       "      <td>0</td>\n",
       "      <td>0</td>\n",
       "      <td>0</td>\n",
       "      <td>1</td>\n",
       "      <td>0</td>\n",
       "      <td>0</td>\n",
       "      <td>0</td>\n",
       "      <td>0</td>\n",
       "      <td>850</td>\n",
       "      <td>39</td>\n",
       "      <td>153563</td>\n",
       "      <td>0</td>\n",
       "    </tr>\n",
       "    <tr>\n",
       "      <th>4</th>\n",
       "      <td>4</td>\n",
       "      <td>0</td>\n",
       "      <td>0</td>\n",
       "      <td>0</td>\n",
       "      <td>1</td>\n",
       "      <td>0</td>\n",
       "      <td>0</td>\n",
       "      <td>0</td>\n",
       "      <td>0</td>\n",
       "      <td>850</td>\n",
       "      <td>41</td>\n",
       "      <td>29512</td>\n",
       "      <td>0</td>\n",
       "    </tr>\n",
       "    <tr>\n",
       "      <th>...</th>\n",
       "      <td>...</td>\n",
       "      <td>...</td>\n",
       "      <td>...</td>\n",
       "      <td>...</td>\n",
       "      <td>...</td>\n",
       "      <td>...</td>\n",
       "      <td>...</td>\n",
       "      <td>...</td>\n",
       "      <td>...</td>\n",
       "      <td>...</td>\n",
       "      <td>...</td>\n",
       "      <td>...</td>\n",
       "      <td>...</td>\n",
       "    </tr>\n",
       "    <tr>\n",
       "      <th>9995</th>\n",
       "      <td>9995</td>\n",
       "      <td>1</td>\n",
       "      <td>1</td>\n",
       "      <td>0</td>\n",
       "      <td>1</td>\n",
       "      <td>1</td>\n",
       "      <td>2</td>\n",
       "      <td>1</td>\n",
       "      <td>77200</td>\n",
       "      <td>658</td>\n",
       "      <td>45</td>\n",
       "      <td>155862</td>\n",
       "      <td>0</td>\n",
       "    </tr>\n",
       "    <tr>\n",
       "      <th>9996</th>\n",
       "      <td>9996</td>\n",
       "      <td>1</td>\n",
       "      <td>1</td>\n",
       "      <td>0</td>\n",
       "      <td>1</td>\n",
       "      <td>1</td>\n",
       "      <td>2</td>\n",
       "      <td>1</td>\n",
       "      <td>76541</td>\n",
       "      <td>653</td>\n",
       "      <td>38</td>\n",
       "      <td>162587</td>\n",
       "      <td>0</td>\n",
       "    </tr>\n",
       "    <tr>\n",
       "      <th>9997</th>\n",
       "      <td>9997</td>\n",
       "      <td>1</td>\n",
       "      <td>1</td>\n",
       "      <td>0</td>\n",
       "      <td>1</td>\n",
       "      <td>1</td>\n",
       "      <td>2</td>\n",
       "      <td>1</td>\n",
       "      <td>76370</td>\n",
       "      <td>680</td>\n",
       "      <td>43</td>\n",
       "      <td>129868</td>\n",
       "      <td>0</td>\n",
       "    </tr>\n",
       "    <tr>\n",
       "      <th>9998</th>\n",
       "      <td>9998</td>\n",
       "      <td>1</td>\n",
       "      <td>1</td>\n",
       "      <td>0</td>\n",
       "      <td>1</td>\n",
       "      <td>1</td>\n",
       "      <td>2</td>\n",
       "      <td>1</td>\n",
       "      <td>77163</td>\n",
       "      <td>645</td>\n",
       "      <td>39</td>\n",
       "      <td>183123</td>\n",
       "      <td>0</td>\n",
       "    </tr>\n",
       "    <tr>\n",
       "      <th>9999</th>\n",
       "      <td>9999</td>\n",
       "      <td>1</td>\n",
       "      <td>1</td>\n",
       "      <td>0</td>\n",
       "      <td>1</td>\n",
       "      <td>1</td>\n",
       "      <td>2</td>\n",
       "      <td>1</td>\n",
       "      <td>76698</td>\n",
       "      <td>652</td>\n",
       "      <td>34</td>\n",
       "      <td>116477</td>\n",
       "      <td>0</td>\n",
       "    </tr>\n",
       "  </tbody>\n",
       "</table>\n",
       "<p>10000 rows × 13 columns</p>\n",
       "</div>"
      ],
      "text/plain": [
       "      Unnamed: 0  IsActiveMember2  HasCrCard2  Exited2  Geography2  Gender2  \\\n",
       "0              0                0           0        0           1        0   \n",
       "1              1                0           0        0           1        0   \n",
       "2              2                0           0        0           1        0   \n",
       "3              3                0           0        0           1        0   \n",
       "4              4                0           0        0           1        0   \n",
       "...          ...              ...         ...      ...         ...      ...   \n",
       "9995        9995                1           1        0           1        1   \n",
       "9996        9996                1           1        0           1        1   \n",
       "9997        9997                1           1        0           1        1   \n",
       "9998        9998                1           1        0           1        1   \n",
       "9999        9999                1           1        0           1        1   \n",
       "\n",
       "      Tenure2  NomOfProducts2  Balance2  CreditScore2  Age2  EstimatedSalary2  \\\n",
       "0           0               0         0           850    45            171388   \n",
       "1           0               0         0           850    34            127408   \n",
       "2           0               0         0           850    41             27736   \n",
       "3           0               0         0           850    39            153563   \n",
       "4           0               0         0           850    41             29512   \n",
       "...       ...             ...       ...           ...   ...               ...   \n",
       "9995        2               1     77200           658    45            155862   \n",
       "9996        2               1     76541           653    38            162587   \n",
       "9997        2               1     76370           680    43            129868   \n",
       "9998        2               1     77163           645    39            183123   \n",
       "9999        2               1     76698           652    34            116477   \n",
       "\n",
       "      target_Lable_remainstatue  \n",
       "0                             0  \n",
       "1                             0  \n",
       "2                             0  \n",
       "3                             0  \n",
       "4                             0  \n",
       "...                         ...  \n",
       "9995                          0  \n",
       "9996                          0  \n",
       "9997                          0  \n",
       "9998                          0  \n",
       "9999                          0  \n",
       "\n",
       "[10000 rows x 13 columns]"
      ]
     },
     "execution_count": 5,
     "metadata": {},
     "output_type": "execute_result"
    }
   ],
   "source": [
    "target_Lable_remainstatue=[]\n",
    "for i in df_copy['Tenure2']:\n",
    "    if i>=5:\n",
    "        target_Lable_remainstatue.append(1)\n",
    "    else :\n",
    "        target_Lable_remainstatue.append(0)\n",
    "\n",
    "df_copy['target_Lable_remainstatue']=target_Lable_remainstatue\n",
    "\n",
    "\n",
    "df_copy"
   ]
  },
  {
   "cell_type": "code",
   "execution_count": 6,
   "id": "1e21470b",
   "metadata": {},
   "outputs": [
    {
     "data": {
      "text/html": [
       "<div>\n",
       "<style scoped>\n",
       "    .dataframe tbody tr th:only-of-type {\n",
       "        vertical-align: middle;\n",
       "    }\n",
       "\n",
       "    .dataframe tbody tr th {\n",
       "        vertical-align: top;\n",
       "    }\n",
       "\n",
       "    .dataframe thead th {\n",
       "        text-align: right;\n",
       "    }\n",
       "</style>\n",
       "<table border=\"1\" class=\"dataframe\">\n",
       "  <thead>\n",
       "    <tr style=\"text-align: right;\">\n",
       "      <th></th>\n",
       "      <th>Unnamed: 0</th>\n",
       "      <th>IsActiveMember2</th>\n",
       "      <th>HasCrCard2</th>\n",
       "      <th>Exited2</th>\n",
       "      <th>Geography2</th>\n",
       "      <th>Tenure2</th>\n",
       "      <th>NomOfProducts2</th>\n",
       "      <th>Balance2</th>\n",
       "      <th>CreditScore2</th>\n",
       "      <th>Age2</th>\n",
       "      <th>EstimatedSalary2</th>\n",
       "      <th>target_Lable_remainstatue</th>\n",
       "      <th>int_Gender2</th>\n",
       "    </tr>\n",
       "  </thead>\n",
       "  <tbody>\n",
       "    <tr>\n",
       "      <th>0</th>\n",
       "      <td>0</td>\n",
       "      <td>0</td>\n",
       "      <td>0</td>\n",
       "      <td>0</td>\n",
       "      <td>1</td>\n",
       "      <td>0</td>\n",
       "      <td>0</td>\n",
       "      <td>0</td>\n",
       "      <td>850</td>\n",
       "      <td>45</td>\n",
       "      <td>171388</td>\n",
       "      <td>0</td>\n",
       "      <td>1</td>\n",
       "    </tr>\n",
       "    <tr>\n",
       "      <th>1</th>\n",
       "      <td>1</td>\n",
       "      <td>0</td>\n",
       "      <td>0</td>\n",
       "      <td>0</td>\n",
       "      <td>1</td>\n",
       "      <td>0</td>\n",
       "      <td>0</td>\n",
       "      <td>0</td>\n",
       "      <td>850</td>\n",
       "      <td>34</td>\n",
       "      <td>127408</td>\n",
       "      <td>0</td>\n",
       "      <td>1</td>\n",
       "    </tr>\n",
       "    <tr>\n",
       "      <th>2</th>\n",
       "      <td>2</td>\n",
       "      <td>0</td>\n",
       "      <td>0</td>\n",
       "      <td>0</td>\n",
       "      <td>1</td>\n",
       "      <td>0</td>\n",
       "      <td>0</td>\n",
       "      <td>0</td>\n",
       "      <td>850</td>\n",
       "      <td>41</td>\n",
       "      <td>27736</td>\n",
       "      <td>0</td>\n",
       "      <td>1</td>\n",
       "    </tr>\n",
       "    <tr>\n",
       "      <th>3</th>\n",
       "      <td>3</td>\n",
       "      <td>0</td>\n",
       "      <td>0</td>\n",
       "      <td>0</td>\n",
       "      <td>1</td>\n",
       "      <td>0</td>\n",
       "      <td>0</td>\n",
       "      <td>0</td>\n",
       "      <td>850</td>\n",
       "      <td>39</td>\n",
       "      <td>153563</td>\n",
       "      <td>0</td>\n",
       "      <td>1</td>\n",
       "    </tr>\n",
       "    <tr>\n",
       "      <th>4</th>\n",
       "      <td>4</td>\n",
       "      <td>0</td>\n",
       "      <td>0</td>\n",
       "      <td>0</td>\n",
       "      <td>1</td>\n",
       "      <td>0</td>\n",
       "      <td>0</td>\n",
       "      <td>0</td>\n",
       "      <td>850</td>\n",
       "      <td>41</td>\n",
       "      <td>29512</td>\n",
       "      <td>0</td>\n",
       "      <td>1</td>\n",
       "    </tr>\n",
       "    <tr>\n",
       "      <th>...</th>\n",
       "      <td>...</td>\n",
       "      <td>...</td>\n",
       "      <td>...</td>\n",
       "      <td>...</td>\n",
       "      <td>...</td>\n",
       "      <td>...</td>\n",
       "      <td>...</td>\n",
       "      <td>...</td>\n",
       "      <td>...</td>\n",
       "      <td>...</td>\n",
       "      <td>...</td>\n",
       "      <td>...</td>\n",
       "      <td>...</td>\n",
       "    </tr>\n",
       "    <tr>\n",
       "      <th>9995</th>\n",
       "      <td>9995</td>\n",
       "      <td>1</td>\n",
       "      <td>1</td>\n",
       "      <td>0</td>\n",
       "      <td>1</td>\n",
       "      <td>2</td>\n",
       "      <td>1</td>\n",
       "      <td>77200</td>\n",
       "      <td>658</td>\n",
       "      <td>45</td>\n",
       "      <td>155862</td>\n",
       "      <td>0</td>\n",
       "      <td>2</td>\n",
       "    </tr>\n",
       "    <tr>\n",
       "      <th>9996</th>\n",
       "      <td>9996</td>\n",
       "      <td>1</td>\n",
       "      <td>1</td>\n",
       "      <td>0</td>\n",
       "      <td>1</td>\n",
       "      <td>2</td>\n",
       "      <td>1</td>\n",
       "      <td>76541</td>\n",
       "      <td>653</td>\n",
       "      <td>38</td>\n",
       "      <td>162587</td>\n",
       "      <td>0</td>\n",
       "      <td>2</td>\n",
       "    </tr>\n",
       "    <tr>\n",
       "      <th>9997</th>\n",
       "      <td>9997</td>\n",
       "      <td>1</td>\n",
       "      <td>1</td>\n",
       "      <td>0</td>\n",
       "      <td>1</td>\n",
       "      <td>2</td>\n",
       "      <td>1</td>\n",
       "      <td>76370</td>\n",
       "      <td>680</td>\n",
       "      <td>43</td>\n",
       "      <td>129868</td>\n",
       "      <td>0</td>\n",
       "      <td>2</td>\n",
       "    </tr>\n",
       "    <tr>\n",
       "      <th>9998</th>\n",
       "      <td>9998</td>\n",
       "      <td>1</td>\n",
       "      <td>1</td>\n",
       "      <td>0</td>\n",
       "      <td>1</td>\n",
       "      <td>2</td>\n",
       "      <td>1</td>\n",
       "      <td>77163</td>\n",
       "      <td>645</td>\n",
       "      <td>39</td>\n",
       "      <td>183123</td>\n",
       "      <td>0</td>\n",
       "      <td>2</td>\n",
       "    </tr>\n",
       "    <tr>\n",
       "      <th>9999</th>\n",
       "      <td>9999</td>\n",
       "      <td>1</td>\n",
       "      <td>1</td>\n",
       "      <td>0</td>\n",
       "      <td>1</td>\n",
       "      <td>2</td>\n",
       "      <td>1</td>\n",
       "      <td>76698</td>\n",
       "      <td>652</td>\n",
       "      <td>34</td>\n",
       "      <td>116477</td>\n",
       "      <td>0</td>\n",
       "      <td>2</td>\n",
       "    </tr>\n",
       "  </tbody>\n",
       "</table>\n",
       "<p>10000 rows × 13 columns</p>\n",
       "</div>"
      ],
      "text/plain": [
       "      Unnamed: 0  IsActiveMember2  HasCrCard2  Exited2  Geography2  Tenure2  \\\n",
       "0              0                0           0        0           1        0   \n",
       "1              1                0           0        0           1        0   \n",
       "2              2                0           0        0           1        0   \n",
       "3              3                0           0        0           1        0   \n",
       "4              4                0           0        0           1        0   \n",
       "...          ...              ...         ...      ...         ...      ...   \n",
       "9995        9995                1           1        0           1        2   \n",
       "9996        9996                1           1        0           1        2   \n",
       "9997        9997                1           1        0           1        2   \n",
       "9998        9998                1           1        0           1        2   \n",
       "9999        9999                1           1        0           1        2   \n",
       "\n",
       "      NomOfProducts2  Balance2  CreditScore2  Age2  EstimatedSalary2  \\\n",
       "0                  0         0           850    45            171388   \n",
       "1                  0         0           850    34            127408   \n",
       "2                  0         0           850    41             27736   \n",
       "3                  0         0           850    39            153563   \n",
       "4                  0         0           850    41             29512   \n",
       "...              ...       ...           ...   ...               ...   \n",
       "9995               1     77200           658    45            155862   \n",
       "9996               1     76541           653    38            162587   \n",
       "9997               1     76370           680    43            129868   \n",
       "9998               1     77163           645    39            183123   \n",
       "9999               1     76698           652    34            116477   \n",
       "\n",
       "      target_Lable_remainstatue  int_Gender2  \n",
       "0                             0            1  \n",
       "1                             0            1  \n",
       "2                             0            1  \n",
       "3                             0            1  \n",
       "4                             0            1  \n",
       "...                         ...          ...  \n",
       "9995                          0            2  \n",
       "9996                          0            2  \n",
       "9997                          0            2  \n",
       "9998                          0            2  \n",
       "9999                          0            2  \n",
       "\n",
       "[10000 rows x 13 columns]"
      ]
     },
     "execution_count": 6,
     "metadata": {},
     "output_type": "execute_result"
    }
   ],
   "source": [
    "int_Gender2=[]\n",
    "for i in df_copy['Gender2']:\n",
    "    if i==0:\n",
    "        int_Gender2.append(1)\n",
    "    elif i==1:\n",
    "        int_Gender2.append(2)\n",
    "\n",
    "df_copy['int_Gender2']=int_Gender2\n",
    "df_copy=df_copy.drop(['Gender2'],axis=1)\n",
    "\n",
    "df_copy"
   ]
  },
  {
   "cell_type": "markdown",
   "id": "b506404e",
   "metadata": {},
   "source": [
    "# loyalty\n",
    "\n",
    "## logistic regression "
   ]
  },
  {
   "cell_type": "markdown",
   "id": "5da06d90",
   "metadata": {},
   "source": [
    "## loyalty prediction based on \"target_Lable_remainstatue\""
   ]
  },
  {
   "cell_type": "code",
   "execution_count": 7,
   "id": "f7022e1c",
   "metadata": {},
   "outputs": [],
   "source": [
    "from sklearn.linear_model import LogisticRegression\n",
    "from sklearn.model_selection import train_test_split"
   ]
  },
  {
   "cell_type": "code",
   "execution_count": 8,
   "id": "1c8a4908",
   "metadata": {},
   "outputs": [],
   "source": [
    "features = ['CreditScore2','Age2','Tenure2','Balance2','NomOfProducts2','HasCrCard2','IsActiveMember2','EstimatedSalary2','Geography2','int_Gender2']\n",
    "target = 'target_Lable_remainstatue'"
   ]
  },
  {
   "cell_type": "code",
   "execution_count": 9,
   "id": "f2ba3196",
   "metadata": {},
   "outputs": [],
   "source": [
    "X_train, X_test, y_train, y_test = train_test_split(df_copy[features], df_copy[target], test_size=0.30, random_state=42)"
   ]
  },
  {
   "cell_type": "code",
   "execution_count": 10,
   "id": "eaa0d3c1",
   "metadata": {},
   "outputs": [],
   "source": [
    "model = LogisticRegression()"
   ]
  },
  {
   "cell_type": "code",
   "execution_count": 11,
   "id": "7ac3cd37",
   "metadata": {},
   "outputs": [],
   "source": [
    "logistic_classifier=model.fit(X_train, y_train)"
   ]
  },
  {
   "cell_type": "code",
   "execution_count": 12,
   "id": "b0fdf57a",
   "metadata": {},
   "outputs": [],
   "source": [
    "### prediction"
   ]
  },
  {
   "cell_type": "code",
   "execution_count": 13,
   "id": "8c19a8aa",
   "metadata": {},
   "outputs": [],
   "source": [
    "predictions = model.predict(X_test)"
   ]
  },
  {
   "cell_type": "code",
   "execution_count": 14,
   "id": "d0efa1c9",
   "metadata": {},
   "outputs": [],
   "source": [
    "y_test=y_test.to_frame('real')"
   ]
  },
  {
   "cell_type": "code",
   "execution_count": 15,
   "id": "000be29b",
   "metadata": {},
   "outputs": [],
   "source": [
    "y_test['prediction']=predictions"
   ]
  },
  {
   "cell_type": "code",
   "execution_count": 16,
   "id": "f4446ae5",
   "metadata": {},
   "outputs": [
    {
     "data": {
      "text/html": [
       "<div>\n",
       "<style scoped>\n",
       "    .dataframe tbody tr th:only-of-type {\n",
       "        vertical-align: middle;\n",
       "    }\n",
       "\n",
       "    .dataframe tbody tr th {\n",
       "        vertical-align: top;\n",
       "    }\n",
       "\n",
       "    .dataframe thead th {\n",
       "        text-align: right;\n",
       "    }\n",
       "</style>\n",
       "<table border=\"1\" class=\"dataframe\">\n",
       "  <thead>\n",
       "    <tr style=\"text-align: right;\">\n",
       "      <th></th>\n",
       "      <th>real</th>\n",
       "      <th>prediction</th>\n",
       "    </tr>\n",
       "  </thead>\n",
       "  <tbody>\n",
       "    <tr>\n",
       "      <th>6252</th>\n",
       "      <td>1</td>\n",
       "      <td>1</td>\n",
       "    </tr>\n",
       "    <tr>\n",
       "      <th>4684</th>\n",
       "      <td>1</td>\n",
       "      <td>1</td>\n",
       "    </tr>\n",
       "    <tr>\n",
       "      <th>1731</th>\n",
       "      <td>0</td>\n",
       "      <td>0</td>\n",
       "    </tr>\n",
       "    <tr>\n",
       "      <th>4742</th>\n",
       "      <td>1</td>\n",
       "      <td>1</td>\n",
       "    </tr>\n",
       "    <tr>\n",
       "      <th>4521</th>\n",
       "      <td>1</td>\n",
       "      <td>1</td>\n",
       "    </tr>\n",
       "    <tr>\n",
       "      <th>...</th>\n",
       "      <td>...</td>\n",
       "      <td>...</td>\n",
       "    </tr>\n",
       "    <tr>\n",
       "      <th>8014</th>\n",
       "      <td>1</td>\n",
       "      <td>1</td>\n",
       "    </tr>\n",
       "    <tr>\n",
       "      <th>1074</th>\n",
       "      <td>0</td>\n",
       "      <td>0</td>\n",
       "    </tr>\n",
       "    <tr>\n",
       "      <th>3063</th>\n",
       "      <td>0</td>\n",
       "      <td>0</td>\n",
       "    </tr>\n",
       "    <tr>\n",
       "      <th>6487</th>\n",
       "      <td>1</td>\n",
       "      <td>1</td>\n",
       "    </tr>\n",
       "    <tr>\n",
       "      <th>4705</th>\n",
       "      <td>1</td>\n",
       "      <td>1</td>\n",
       "    </tr>\n",
       "  </tbody>\n",
       "</table>\n",
       "<p>3000 rows × 2 columns</p>\n",
       "</div>"
      ],
      "text/plain": [
       "      real  prediction\n",
       "6252     1           1\n",
       "4684     1           1\n",
       "1731     0           0\n",
       "4742     1           1\n",
       "4521     1           1\n",
       "...    ...         ...\n",
       "8014     1           1\n",
       "1074     0           0\n",
       "3063     0           0\n",
       "6487     1           1\n",
       "4705     1           1\n",
       "\n",
       "[3000 rows x 2 columns]"
      ]
     },
     "execution_count": 16,
     "metadata": {},
     "output_type": "execute_result"
    }
   ],
   "source": [
    "y_test"
   ]
  },
  {
   "cell_type": "code",
   "execution_count": 17,
   "id": "3cd30782",
   "metadata": {},
   "outputs": [
    {
     "data": {
      "text/plain": [
       "array([1, 0, 1, ..., 1, 0, 1], dtype=int64)"
      ]
     },
     "execution_count": 17,
     "metadata": {},
     "output_type": "execute_result"
    }
   ],
   "source": [
    "y_train_pred=model.predict(X_train)\n",
    "y_train_pred"
   ]
  },
  {
   "cell_type": "code",
   "execution_count": 18,
   "id": "2efb5621",
   "metadata": {},
   "outputs": [
    {
     "data": {
      "text/html": [
       "<div>\n",
       "<style scoped>\n",
       "    .dataframe tbody tr th:only-of-type {\n",
       "        vertical-align: middle;\n",
       "    }\n",
       "\n",
       "    .dataframe tbody tr th {\n",
       "        vertical-align: top;\n",
       "    }\n",
       "\n",
       "    .dataframe thead th {\n",
       "        text-align: right;\n",
       "    }\n",
       "</style>\n",
       "<table border=\"1\" class=\"dataframe\">\n",
       "  <thead>\n",
       "    <tr style=\"text-align: right;\">\n",
       "      <th></th>\n",
       "      <th>real</th>\n",
       "      <th>prediction</th>\n",
       "    </tr>\n",
       "  </thead>\n",
       "  <tbody>\n",
       "    <tr>\n",
       "      <th>9069</th>\n",
       "      <td>1</td>\n",
       "      <td>1</td>\n",
       "    </tr>\n",
       "    <tr>\n",
       "      <th>2603</th>\n",
       "      <td>0</td>\n",
       "      <td>0</td>\n",
       "    </tr>\n",
       "    <tr>\n",
       "      <th>7738</th>\n",
       "      <td>1</td>\n",
       "      <td>1</td>\n",
       "    </tr>\n",
       "    <tr>\n",
       "      <th>1579</th>\n",
       "      <td>0</td>\n",
       "      <td>0</td>\n",
       "    </tr>\n",
       "    <tr>\n",
       "      <th>5058</th>\n",
       "      <td>1</td>\n",
       "      <td>1</td>\n",
       "    </tr>\n",
       "    <tr>\n",
       "      <th>...</th>\n",
       "      <td>...</td>\n",
       "      <td>...</td>\n",
       "    </tr>\n",
       "    <tr>\n",
       "      <th>5734</th>\n",
       "      <td>1</td>\n",
       "      <td>1</td>\n",
       "    </tr>\n",
       "    <tr>\n",
       "      <th>5191</th>\n",
       "      <td>1</td>\n",
       "      <td>1</td>\n",
       "    </tr>\n",
       "    <tr>\n",
       "      <th>5390</th>\n",
       "      <td>1</td>\n",
       "      <td>1</td>\n",
       "    </tr>\n",
       "    <tr>\n",
       "      <th>860</th>\n",
       "      <td>0</td>\n",
       "      <td>0</td>\n",
       "    </tr>\n",
       "    <tr>\n",
       "      <th>7270</th>\n",
       "      <td>1</td>\n",
       "      <td>1</td>\n",
       "    </tr>\n",
       "  </tbody>\n",
       "</table>\n",
       "<p>7000 rows × 2 columns</p>\n",
       "</div>"
      ],
      "text/plain": [
       "      real  prediction\n",
       "9069     1           1\n",
       "2603     0           0\n",
       "7738     1           1\n",
       "1579     0           0\n",
       "5058     1           1\n",
       "...    ...         ...\n",
       "5734     1           1\n",
       "5191     1           1\n",
       "5390     1           1\n",
       "860      0           0\n",
       "7270     1           1\n",
       "\n",
       "[7000 rows x 2 columns]"
      ]
     },
     "execution_count": 18,
     "metadata": {},
     "output_type": "execute_result"
    }
   ],
   "source": [
    "y_train=y_train.to_frame('real')\n",
    "y_train['prediction']=y_train_pred\n",
    "y_train"
   ]
  },
  {
   "cell_type": "code",
   "execution_count": 19,
   "id": "2499c2f1",
   "metadata": {},
   "outputs": [
    {
     "data": {
      "text/plain": [
       "9069    1\n",
       "2603    0\n",
       "7738    1\n",
       "1579    0\n",
       "5058    1\n",
       "       ..\n",
       "8014    1\n",
       "1074    0\n",
       "3063    0\n",
       "6487    1\n",
       "4705    1\n",
       "Name: prediction, Length: 10000, dtype: int64"
      ]
     },
     "execution_count": 19,
     "metadata": {},
     "output_type": "execute_result"
    }
   ],
   "source": [
    "#concat two prediction table \n",
    "loyalty_1th=pd.concat([y_train['prediction'],y_test['prediction']], axis=0)\n",
    "loyalty_1th"
   ]
  },
  {
   "cell_type": "markdown",
   "id": "a80e9d3c",
   "metadata": {},
   "source": [
    "### 1st method: 5-Fold validation"
   ]
  },
  {
   "cell_type": "code",
   "execution_count": 20,
   "id": "2354d843",
   "metadata": {},
   "outputs": [],
   "source": [
    "from sklearn.model_selection import KFold\n",
    "from sklearn.metrics import mean_squared_error"
   ]
  },
  {
   "cell_type": "code",
   "execution_count": 21,
   "id": "215c1d49",
   "metadata": {},
   "outputs": [
    {
     "name": "stdout",
     "output_type": "stream",
     "text": [
      "train accuracy: 0.0, test accuracy: 0.0\n",
      "train accuracy: 0.0, test accuracy: 0.5084289527554464\n",
      "train accuracy: 0.0, test accuracy: 0.521536192416212\n",
      "train accuracy: 0.33559648389099667, test accuracy: 0.0\n",
      "train accuracy: 0.0, test accuracy: 0.0\n",
      "avg train acc 0.06711929677819933\n",
      "avg test acc 0.2059930290343317\n"
     ]
    }
   ],
   "source": [
    "xval = KFold(n_splits=5)\n",
    "allTrainAcc, allTestAcc = [], []\n",
    "for t_idx, v_idx in xval.split(df_copy[features], df_copy[target]):\n",
    "    # Split dataset into two pieces\n",
    "    train_df_copy = df_copy.iloc[t_idx].copy()\n",
    "    test_df_copy = df_copy.iloc[v_idx].copy()\n",
    "    # Train the model\n",
    "    model = LogisticRegression()\n",
    "    model.fit(train_df_copy[features], train_df_copy[target])\n",
    "    # Calculate accuracy\n",
    "    train_df_copy['prediction'] = model.predict(train_df_copy[features])\n",
    "    test_df_copy['prediction'] = model.predict(test_df_copy[features])\n",
    "    trainingAccuracy = mean_squared_error(train_df_copy[target], train_df_copy['prediction']) ** 0.5\n",
    "    testAccuracy = mean_squared_error(test_df_copy[target], test_df_copy['prediction']) ** 0.5\n",
    "    \n",
    "    allTrainAcc.append(trainingAccuracy)\n",
    "    allTestAcc.append(testAccuracy)\n",
    "    \n",
    "    print('train accuracy: {0}, test accuracy: {1}'.format(trainingAccuracy, testAccuracy))\n",
    "print('avg train acc', sum(allTrainAcc) / len(allTrainAcc))\n",
    "print('avg test acc', sum(allTestAcc) / len(allTestAcc))"
   ]
  },
  {
   "cell_type": "markdown",
   "id": "e076a720",
   "metadata": {},
   "source": [
    "### 2nd method:cross-validation"
   ]
  },
  {
   "cell_type": "code",
   "execution_count": 22,
   "id": "0e85705d",
   "metadata": {},
   "outputs": [
    {
     "name": "stdout",
     "output_type": "stream",
     "text": [
      "Accuracy: 0.946 (0.044)\n"
     ]
    }
   ],
   "source": [
    "from numpy import mean\n",
    "from numpy import std\n",
    "from sklearn.model_selection import cross_val_score\n",
    "# prepare the cross-validation procedure\n",
    "cv = KFold(n_splits=5, random_state=1, shuffle=True)\n",
    "# create model\n",
    "model = LogisticRegression()\n",
    "# evaluate model\n",
    "scores = cross_val_score(model, df_copy[features] , df_copy[target] , scoring='accuracy', cv=cv, n_jobs=-1)\n",
    "# report performance\n",
    "print('Accuracy: %.3f (%.3f)' % (mean(scores), std(scores)))"
   ]
  },
  {
   "cell_type": "markdown",
   "id": "0b7d8e18",
   "metadata": {},
   "source": [
    "### 3rd confusion matrix"
   ]
  },
  {
   "cell_type": "code",
   "execution_count": 23,
   "id": "53dc4b40",
   "metadata": {},
   "outputs": [],
   "source": [
    "from sklearn.metrics import confusion_matrix\n",
    "    \n",
    "y_true= y_test['real']\n",
    "y_pred= y_test['prediction']"
   ]
  },
  {
   "cell_type": "code",
   "execution_count": 24,
   "id": "dcbe00d5",
   "metadata": {},
   "outputs": [
    {
     "data": {
      "text/plain": [
       "array([[1420,    0],\n",
       "       [   0, 1580]], dtype=int64)"
      ]
     },
     "execution_count": 24,
     "metadata": {},
     "output_type": "execute_result"
    }
   ],
   "source": [
    "cm=confusion_matrix( y_true , y_pred)\n",
    "cm"
   ]
  },
  {
   "cell_type": "code",
   "execution_count": 25,
   "id": "3988247a",
   "metadata": {},
   "outputs": [
    {
     "data": {
      "image/png": "[encoded data removed]",
      "text/plain": [
       "<Figure size 432x288 with 2 Axes>"
      ]
     },
     "metadata": {
      "needs_background": "light"
     },
     "output_type": "display_data"
    }
   ],
   "source": [
    "# Plot confusion matrix\n",
    "import seaborn as sns\n",
    "import pandas as pd\n",
    "import matplotlib.pyplot as plt\n",
    "# confusion matrix sns heatmap \n",
    "ax = plt.axes()\n",
    "df_cm = cm\n",
    "sns.heatmap(df_cm, annot=True, annot_kws={\"size\": 30}, fmt='d',cmap=\"Blues\", ax = ax )\n",
    "ax.set_title('Confusion Matrix pred based on \"target_Lable_remainstatue\"')\n",
    "plt.show()"
   ]
  },
  {
   "cell_type": "code",
   "execution_count": 26,
   "id": "97d88dde",
   "metadata": {},
   "outputs": [
    {
     "data": {
      "text/html": [
       "<div>\n",
       "<style scoped>\n",
       "    .dataframe tbody tr th:only-of-type {\n",
       "        vertical-align: middle;\n",
       "    }\n",
       "\n",
       "    .dataframe tbody tr th {\n",
       "        vertical-align: top;\n",
       "    }\n",
       "\n",
       "    .dataframe thead th {\n",
       "        text-align: right;\n",
       "    }\n",
       "</style>\n",
       "<table border=\"1\" class=\"dataframe\">\n",
       "  <thead>\n",
       "    <tr style=\"text-align: right;\">\n",
       "      <th></th>\n",
       "      <th>0</th>\n",
       "      <th>1</th>\n",
       "    </tr>\n",
       "  </thead>\n",
       "  <tbody>\n",
       "    <tr>\n",
       "      <th>TPR</th>\n",
       "      <td>1.0</td>\n",
       "      <td>1.0</td>\n",
       "    </tr>\n",
       "    <tr>\n",
       "      <th>TNR</th>\n",
       "      <td>1.0</td>\n",
       "      <td>1.0</td>\n",
       "    </tr>\n",
       "    <tr>\n",
       "      <th>ACC</th>\n",
       "      <td>1.0</td>\n",
       "      <td>1.0</td>\n",
       "    </tr>\n",
       "  </tbody>\n",
       "</table>\n",
       "</div>"
      ],
      "text/plain": [
       "       0    1\n",
       "TPR  1.0  1.0\n",
       "TNR  1.0  1.0\n",
       "ACC  1.0  1.0"
      ]
     },
     "execution_count": 26,
     "metadata": {},
     "output_type": "execute_result"
    }
   ],
   "source": [
    "FP = cm.sum(axis=0) - np.diag(cm) \n",
    "FN = cm.sum(axis=1) - np.diag(cm)\n",
    "TP = np.diag(cm)\n",
    "TN = cm.sum() - (FP + FN + TP)\n",
    "\n",
    "FP = FP.astype(float)\n",
    "FN = FN.astype(float)\n",
    "TP = TP.astype(float)\n",
    "TN = TN.astype(float)\n",
    "\n",
    "# Sensitivity, hit rate, recall, or true positive rate\n",
    "TPR = TP/(TP+FN)\n",
    "# Specificity or true negative rate\n",
    "TNR = TN/(TN+FP) \n",
    "# Overall accuracy for each class\n",
    "ACC = (TP+TN)/(TP+FP+FN+TN)\n",
    "\n",
    "PSA= pd.DataFrame([TPR , TNR , ACC], index=['TPR' , 'TNR' , 'ACC'] )\n",
    "PSA"
   ]
  },
  {
   "cell_type": "markdown",
   "id": "ddcf9a30",
   "metadata": {},
   "source": [
    "## loyalty prediction based on \"Exited\""
   ]
  },
  {
   "cell_type": "code",
   "execution_count": 27,
   "id": "02bdf1e0",
   "metadata": {},
   "outputs": [],
   "source": [
    "from sklearn.linear_model import LogisticRegression\n",
    "from sklearn.model_selection import train_test_split\n",
    "from sklearn.preprocessing import StandardScaler"
   ]
  },
  {
   "cell_type": "code",
   "execution_count": 28,
   "id": "0d01169d",
   "metadata": {},
   "outputs": [],
   "source": [
    "features = ['CreditScore2','Age2','Tenure2','Balance2','NomOfProducts2','HasCrCard2','IsActiveMember2','EstimatedSalary2','Geography2','int_Gender2']\n",
    "target = 'Exited2'"
   ]
  },
  {
   "cell_type": "code",
   "execution_count": 29,
   "id": "0025e29f",
   "metadata": {},
   "outputs": [],
   "source": [
    "X_train, X_test, y_train, y_test = train_test_split(df_copy[features], df_copy[target], test_size=0.30, random_state=42)"
   ]
  },
  {
   "cell_type": "code",
   "execution_count": 30,
   "id": "40ace128",
   "metadata": {},
   "outputs": [],
   "source": [
    "model = LogisticRegression()"
   ]
  },
  {
   "cell_type": "code",
   "execution_count": 31,
   "id": "6bb6c188",
   "metadata": {},
   "outputs": [],
   "source": [
    "logistic_classifier=model.fit(X_train, y_train)"
   ]
  },
  {
   "cell_type": "code",
   "execution_count": 32,
   "id": "e9698416",
   "metadata": {},
   "outputs": [],
   "source": [
    "predictions = model.predict(X_test)"
   ]
  },
  {
   "cell_type": "code",
   "execution_count": 33,
   "id": "4fe8c8f9",
   "metadata": {},
   "outputs": [],
   "source": [
    "y_test=y_test.to_frame('real')"
   ]
  },
  {
   "cell_type": "code",
   "execution_count": 34,
   "id": "75183f85",
   "metadata": {},
   "outputs": [],
   "source": [
    "y_test['prediction']=predictions"
   ]
  },
  {
   "cell_type": "code",
   "execution_count": 35,
   "id": "f78bedef",
   "metadata": {},
   "outputs": [
    {
     "data": {
      "text/html": [
       "<div>\n",
       "<style scoped>\n",
       "    .dataframe tbody tr th:only-of-type {\n",
       "        vertical-align: middle;\n",
       "    }\n",
       "\n",
       "    .dataframe tbody tr th {\n",
       "        vertical-align: top;\n",
       "    }\n",
       "\n",
       "    .dataframe thead th {\n",
       "        text-align: right;\n",
       "    }\n",
       "</style>\n",
       "<table border=\"1\" class=\"dataframe\">\n",
       "  <thead>\n",
       "    <tr style=\"text-align: right;\">\n",
       "      <th></th>\n",
       "      <th>real</th>\n",
       "      <th>prediction</th>\n",
       "    </tr>\n",
       "  </thead>\n",
       "  <tbody>\n",
       "    <tr>\n",
       "      <th>6252</th>\n",
       "      <td>0</td>\n",
       "      <td>0</td>\n",
       "    </tr>\n",
       "    <tr>\n",
       "      <th>4684</th>\n",
       "      <td>0</td>\n",
       "      <td>0</td>\n",
       "    </tr>\n",
       "    <tr>\n",
       "      <th>1731</th>\n",
       "      <td>0</td>\n",
       "      <td>0</td>\n",
       "    </tr>\n",
       "    <tr>\n",
       "      <th>4742</th>\n",
       "      <td>0</td>\n",
       "      <td>0</td>\n",
       "    </tr>\n",
       "    <tr>\n",
       "      <th>4521</th>\n",
       "      <td>0</td>\n",
       "      <td>0</td>\n",
       "    </tr>\n",
       "    <tr>\n",
       "      <th>...</th>\n",
       "      <td>...</td>\n",
       "      <td>...</td>\n",
       "    </tr>\n",
       "    <tr>\n",
       "      <th>8014</th>\n",
       "      <td>1</td>\n",
       "      <td>1</td>\n",
       "    </tr>\n",
       "    <tr>\n",
       "      <th>1074</th>\n",
       "      <td>0</td>\n",
       "      <td>0</td>\n",
       "    </tr>\n",
       "    <tr>\n",
       "      <th>3063</th>\n",
       "      <td>0</td>\n",
       "      <td>0</td>\n",
       "    </tr>\n",
       "    <tr>\n",
       "      <th>6487</th>\n",
       "      <td>0</td>\n",
       "      <td>0</td>\n",
       "    </tr>\n",
       "    <tr>\n",
       "      <th>4705</th>\n",
       "      <td>0</td>\n",
       "      <td>0</td>\n",
       "    </tr>\n",
       "  </tbody>\n",
       "</table>\n",
       "<p>3000 rows × 2 columns</p>\n",
       "</div>"
      ],
      "text/plain": [
       "      real  prediction\n",
       "6252     0           0\n",
       "4684     0           0\n",
       "1731     0           0\n",
       "4742     0           0\n",
       "4521     0           0\n",
       "...    ...         ...\n",
       "8014     1           1\n",
       "1074     0           0\n",
       "3063     0           0\n",
       "6487     0           0\n",
       "4705     0           0\n",
       "\n",
       "[3000 rows x 2 columns]"
      ]
     },
     "execution_count": 35,
     "metadata": {},
     "output_type": "execute_result"
    }
   ],
   "source": [
    "y_test"
   ]
  },
  {
   "cell_type": "code",
   "execution_count": 36,
   "id": "62e80c74",
   "metadata": {},
   "outputs": [
    {
     "data": {
      "text/plain": [
       "array([1, 0, 1, ..., 0, 0, 1], dtype=int64)"
      ]
     },
     "execution_count": 36,
     "metadata": {},
     "output_type": "execute_result"
    }
   ],
   "source": [
    "y_train_pred=model.predict(X_train)\n",
    "y_train_pred"
   ]
  },
  {
   "cell_type": "code",
   "execution_count": 37,
   "id": "37f64836",
   "metadata": {},
   "outputs": [
    {
     "data": {
      "text/html": [
       "<div>\n",
       "<style scoped>\n",
       "    .dataframe tbody tr th:only-of-type {\n",
       "        vertical-align: middle;\n",
       "    }\n",
       "\n",
       "    .dataframe tbody tr th {\n",
       "        vertical-align: top;\n",
       "    }\n",
       "\n",
       "    .dataframe thead th {\n",
       "        text-align: right;\n",
       "    }\n",
       "</style>\n",
       "<table border=\"1\" class=\"dataframe\">\n",
       "  <thead>\n",
       "    <tr style=\"text-align: right;\">\n",
       "      <th></th>\n",
       "      <th>real</th>\n",
       "      <th>prediction</th>\n",
       "    </tr>\n",
       "  </thead>\n",
       "  <tbody>\n",
       "    <tr>\n",
       "      <th>9069</th>\n",
       "      <td>1</td>\n",
       "      <td>1</td>\n",
       "    </tr>\n",
       "    <tr>\n",
       "      <th>2603</th>\n",
       "      <td>0</td>\n",
       "      <td>0</td>\n",
       "    </tr>\n",
       "    <tr>\n",
       "      <th>7738</th>\n",
       "      <td>1</td>\n",
       "      <td>1</td>\n",
       "    </tr>\n",
       "    <tr>\n",
       "      <th>1579</th>\n",
       "      <td>0</td>\n",
       "      <td>0</td>\n",
       "    </tr>\n",
       "    <tr>\n",
       "      <th>5058</th>\n",
       "      <td>0</td>\n",
       "      <td>0</td>\n",
       "    </tr>\n",
       "    <tr>\n",
       "      <th>...</th>\n",
       "      <td>...</td>\n",
       "      <td>...</td>\n",
       "    </tr>\n",
       "    <tr>\n",
       "      <th>5734</th>\n",
       "      <td>0</td>\n",
       "      <td>0</td>\n",
       "    </tr>\n",
       "    <tr>\n",
       "      <th>5191</th>\n",
       "      <td>0</td>\n",
       "      <td>0</td>\n",
       "    </tr>\n",
       "    <tr>\n",
       "      <th>5390</th>\n",
       "      <td>0</td>\n",
       "      <td>0</td>\n",
       "    </tr>\n",
       "    <tr>\n",
       "      <th>860</th>\n",
       "      <td>0</td>\n",
       "      <td>0</td>\n",
       "    </tr>\n",
       "    <tr>\n",
       "      <th>7270</th>\n",
       "      <td>1</td>\n",
       "      <td>1</td>\n",
       "    </tr>\n",
       "  </tbody>\n",
       "</table>\n",
       "<p>7000 rows × 2 columns</p>\n",
       "</div>"
      ],
      "text/plain": [
       "      real  prediction\n",
       "9069     1           1\n",
       "2603     0           0\n",
       "7738     1           1\n",
       "1579     0           0\n",
       "5058     0           0\n",
       "...    ...         ...\n",
       "5734     0           0\n",
       "5191     0           0\n",
       "5390     0           0\n",
       "860      0           0\n",
       "7270     1           1\n",
       "\n",
       "[7000 rows x 2 columns]"
      ]
     },
     "execution_count": 37,
     "metadata": {},
     "output_type": "execute_result"
    }
   ],
   "source": [
    "y_train=y_train.to_frame('real')\n",
    "y_train['prediction']=y_train_pred\n",
    "y_train"
   ]
  },
  {
   "cell_type": "code",
   "execution_count": 38,
   "id": "75226936",
   "metadata": {},
   "outputs": [
    {
     "data": {
      "text/plain": [
       "9069    1\n",
       "2603    0\n",
       "7738    1\n",
       "1579    0\n",
       "5058    0\n",
       "       ..\n",
       "8014    1\n",
       "1074    0\n",
       "3063    0\n",
       "6487    0\n",
       "4705    0\n",
       "Name: prediction, Length: 10000, dtype: int64"
      ]
     },
     "execution_count": 38,
     "metadata": {},
     "output_type": "execute_result"
    }
   ],
   "source": [
    "#concat two prediction table \n",
    "loyalty_2th=pd.concat([y_train['prediction'],y_test['prediction']], axis=0)\n",
    "loyalty_2th"
   ]
  },
  {
   "cell_type": "code",
   "execution_count": 39,
   "id": "0d9ff290",
   "metadata": {},
   "outputs": [],
   "source": [
    "## 5-Fold validation"
   ]
  },
  {
   "cell_type": "code",
   "execution_count": 40,
   "id": "49b8a6bd",
   "metadata": {},
   "outputs": [],
   "source": [
    "### 1th method"
   ]
  },
  {
   "cell_type": "code",
   "execution_count": 41,
   "id": "8121c214",
   "metadata": {},
   "outputs": [],
   "source": [
    "from sklearn.model_selection import KFold\n",
    "from sklearn.metrics import mean_squared_error"
   ]
  },
  {
   "cell_type": "code",
   "execution_count": 42,
   "id": "efcb7a76",
   "metadata": {},
   "outputs": [
    {
     "name": "stdout",
     "output_type": "stream",
     "text": [
      "train accuracy: 0.15572411502397437, test accuracy: 0.0\n",
      "train accuracy: 0.15572411502397437, test accuracy: 0.4878524367060187\n",
      "train accuracy: 0.15968719422671313, test accuracy: 0.0\n",
      "train accuracy: 0.046097722286464436, test accuracy: 0.30903074280724885\n",
      "train accuracy: 0.37181984885156416, test accuracy: 0.8561541917201597\n",
      "avg train acc 0.1778105990825381\n",
      "avg test acc 0.33060747424668546\n"
     ]
    }
   ],
   "source": [
    "xval = KFold(n_splits=5)\n",
    "allTrainAcc, allTestAcc = [], []\n",
    "for t_idx, v_idx in xval.split(df_copy[features], df_copy[target]):\n",
    "    # Split dataset into two pieces\n",
    "    train_df_copy = df_copy.iloc[t_idx].copy()\n",
    "    test_df_copy = df_copy.iloc[v_idx].copy()\n",
    "    # Train the model\n",
    "    model = LogisticRegression()\n",
    "    model.fit(train_df_copy[features], train_df_copy[target])\n",
    "    # Calculate accuracy\n",
    "    train_df_copy['prediction'] = model.predict(train_df_copy[features])\n",
    "    test_df_copy['prediction'] = model.predict(test_df_copy[features])\n",
    "    trainingAccuracy = mean_squared_error(train_df_copy[target], train_df_copy['prediction']) ** 0.5\n",
    "    testAccuracy = mean_squared_error(test_df_copy[target], test_df_copy['prediction']) ** 0.5\n",
    "    \n",
    "    allTrainAcc.append(trainingAccuracy)\n",
    "    allTestAcc.append(testAccuracy)\n",
    "    \n",
    "    print('train accuracy: {0}, test accuracy: {1}'.format(trainingAccuracy, testAccuracy))\n",
    "print('avg train acc', sum(allTrainAcc) / len(allTrainAcc))\n",
    "print('avg test acc', sum(allTestAcc) / len(allTestAcc))"
   ]
  },
  {
   "cell_type": "code",
   "execution_count": 43,
   "id": "f142c834",
   "metadata": {},
   "outputs": [],
   "source": [
    "### 2th method"
   ]
  },
  {
   "cell_type": "code",
   "execution_count": 44,
   "id": "832a59e0",
   "metadata": {},
   "outputs": [
    {
     "name": "stdout",
     "output_type": "stream",
     "text": [
      "Accuracy: 0.980 (0.001)\n"
     ]
    }
   ],
   "source": [
    "from numpy import mean\n",
    "from numpy import std\n",
    "from sklearn.model_selection import cross_val_score\n",
    "# prepare the cross-validation procedure\n",
    "cv = KFold(n_splits=5, random_state=1, shuffle=True)\n",
    "# create model\n",
    "model = LogisticRegression()\n",
    "# evaluate model\n",
    "scores = cross_val_score(model, df_copy[features], df_copy[target] , scoring='accuracy', cv=cv, n_jobs=-1)\n",
    "# report performance\n",
    "print('Accuracy: %.3f (%.3f)' % (mean(scores), std(scores)))"
   ]
  },
  {
   "cell_type": "code",
   "execution_count": 45,
   "id": "7917889f",
   "metadata": {},
   "outputs": [],
   "source": [
    "### confusion matrix"
   ]
  },
  {
   "cell_type": "code",
   "execution_count": 46,
   "id": "1190ffe0",
   "metadata": {},
   "outputs": [],
   "source": [
    "from sklearn.metrics import confusion_matrix\n",
    "    \n",
    "y_true= y_test['real']\n",
    "y_pred= y_test['prediction']"
   ]
  },
  {
   "cell_type": "code",
   "execution_count": 47,
   "id": "639f8155",
   "metadata": {},
   "outputs": [
    {
     "data": {
      "text/plain": [
       "array([[2223,    5],\n",
       "       [  47,  725]], dtype=int64)"
      ]
     },
     "execution_count": 47,
     "metadata": {},
     "output_type": "execute_result"
    }
   ],
   "source": [
    "cm=confusion_matrix( y_true , y_pred)\n",
    "cm"
   ]
  },
  {
   "cell_type": "code",
   "execution_count": 48,
   "id": "37163341",
   "metadata": {},
   "outputs": [
    {
     "data": {
      "image/png": "[encoded data removed]",
      "text/plain": [
       "<Figure size 432x288 with 2 Axes>"
      ]
     },
     "metadata": {
      "needs_background": "light"
     },
     "output_type": "display_data"
    }
   ],
   "source": [
    "# Plot confusion matrix\n",
    "import seaborn as sns\n",
    "import pandas as pd\n",
    "import matplotlib.pyplot as plt\n",
    "# confusion matrix sns heatmap \n",
    "ax = plt.axes()\n",
    "df_cm = cm\n",
    "sns.heatmap(df_cm, annot=True, annot_kws={\"size\": 30}, fmt='d',cmap=\"Greens\", ax = ax )\n",
    "ax.set_title('Confusion Matrix pred based on \"Exited\"')\n",
    "plt.show()"
   ]
  },
  {
   "cell_type": "code",
   "execution_count": 49,
   "id": "778abaa2",
   "metadata": {},
   "outputs": [
    {
     "data": {
      "text/html": [
       "<div>\n",
       "<style scoped>\n",
       "    .dataframe tbody tr th:only-of-type {\n",
       "        vertical-align: middle;\n",
       "    }\n",
       "\n",
       "    .dataframe tbody tr th {\n",
       "        vertical-align: top;\n",
       "    }\n",
       "\n",
       "    .dataframe thead th {\n",
       "        text-align: right;\n",
       "    }\n",
       "</style>\n",
       "<table border=\"1\" class=\"dataframe\">\n",
       "  <thead>\n",
       "    <tr style=\"text-align: right;\">\n",
       "      <th></th>\n",
       "      <th>0</th>\n",
       "      <th>1</th>\n",
       "    </tr>\n",
       "  </thead>\n",
       "  <tbody>\n",
       "    <tr>\n",
       "      <th>TPR</th>\n",
       "      <td>0.997756</td>\n",
       "      <td>0.939119</td>\n",
       "    </tr>\n",
       "    <tr>\n",
       "      <th>TNR</th>\n",
       "      <td>0.939119</td>\n",
       "      <td>0.997756</td>\n",
       "    </tr>\n",
       "    <tr>\n",
       "      <th>ACC</th>\n",
       "      <td>0.982667</td>\n",
       "      <td>0.982667</td>\n",
       "    </tr>\n",
       "  </tbody>\n",
       "</table>\n",
       "</div>"
      ],
      "text/plain": [
       "            0         1\n",
       "TPR  0.997756  0.939119\n",
       "TNR  0.939119  0.997756\n",
       "ACC  0.982667  0.982667"
      ]
     },
     "execution_count": 49,
     "metadata": {},
     "output_type": "execute_result"
    }
   ],
   "source": [
    "FP = cm.sum(axis=0) - np.diag(cm) \n",
    "FN = cm.sum(axis=1) - np.diag(cm)\n",
    "TP = np.diag(cm)\n",
    "TN = cm.sum() - (FP + FN + TP)\n",
    "\n",
    "FP = FP.astype(float)\n",
    "FN = FN.astype(float)\n",
    "TP = TP.astype(float)\n",
    "TN = TN.astype(float)\n",
    "\n",
    "# Sensitivity, hit rate, recall, or true positive rate\n",
    "TPR = TP/(TP+FN)\n",
    "# Specificity or true negative rate\n",
    "TNR = TN/(TN+FP) \n",
    "# Overall accuracy for each class\n",
    "ACC = (TP+TN)/(TP+FP+FN+TN)\n",
    "\n",
    "PSA= pd.DataFrame([TPR , TNR , ACC], index=['TPR' , 'TNR' , 'ACC'] )\n",
    "PSA"
   ]
  },
  {
   "cell_type": "code",
   "execution_count": 50,
   "id": "75ff25a0",
   "metadata": {},
   "outputs": [],
   "source": [
    "from openpyxl import load_workbook\n",
    "\n",
    "book = load_workbook('total_pred.xlsx')\n",
    "writer = pd.ExcelWriter('total_pred.xlsx', engine='openpyxl') \n",
    "writer.book = book\n",
    "\n",
    "loyalty_1th.to_excel(writer,sheet_name='loyalty_remainstatue3')\n",
    "loyalty_2th.to_excel(writer,sheet_name='loyalty_Exited3')\n",
    "writer.save()"
   ]
  },
  {
   "cell_type": "markdown",
   "id": "38b38c9b",
   "metadata": {},
   "source": [
    "# Tenure prediction"
   ]
  },
  {
   "cell_type": "markdown",
   "id": "39c86b64",
   "metadata": {},
   "source": [
    "## logistic regression "
   ]
  },
  {
   "cell_type": "markdown",
   "id": "8a871cf8",
   "metadata": {},
   "source": [
    "### length of customer lifetime based on Tenure"
   ]
  },
  {
   "cell_type": "code",
   "execution_count": 51,
   "id": "7f01561e",
   "metadata": {},
   "outputs": [],
   "source": [
    "from sklearn.linear_model import LogisticRegression\n",
    "from sklearn.model_selection import train_test_split\n",
    "from sklearn.preprocessing import StandardScaler"
   ]
  },
  {
   "cell_type": "code",
   "execution_count": 52,
   "id": "cf636044",
   "metadata": {},
   "outputs": [],
   "source": [
    "features = ['CreditScore2','Age2','Balance2','NomOfProducts2','HasCrCard2','IsActiveMember2','EstimatedSalary2','Geography2','int_Gender2']\n",
    "target = 'Tenure2'"
   ]
  },
  {
   "cell_type": "code",
   "execution_count": 53,
   "id": "b3318470",
   "metadata": {},
   "outputs": [],
   "source": [
    "X_train, X_test, y_train, y_test = train_test_split(df_copy[features], df_copy[target], test_size=0.30, random_state=42)"
   ]
  },
  {
   "cell_type": "code",
   "execution_count": 54,
   "id": "0d83d475",
   "metadata": {},
   "outputs": [],
   "source": [
    "sc= StandardScaler()\n",
    "X_train=sc.fit_transform(X_train)\n",
    "X_test=sc.fit_transform(X_test)"
   ]
  },
  {
   "cell_type": "code",
   "execution_count": 55,
   "id": "43ffe98a",
   "metadata": {},
   "outputs": [],
   "source": [
    "model = LogisticRegression()"
   ]
  },
  {
   "cell_type": "code",
   "execution_count": 56,
   "id": "48a54137",
   "metadata": {},
   "outputs": [
    {
     "name": "stderr",
     "output_type": "stream",
     "text": [
      "c:\\users\\lenovo\\appdata\\local\\programs\\python\\python39\\lib\\site-packages\\sklearn\\linear_model\\_logistic.py:763: ConvergenceWarning: lbfgs failed to converge (status=1):\n",
      "STOP: TOTAL NO. of ITERATIONS REACHED LIMIT.\n",
      "\n",
      "Increase the number of iterations (max_iter) or scale the data as shown in:\n",
      "    https://scikit-learn.org/stable/modules/preprocessing.html\n",
      "Please also refer to the documentation for alternative solver options:\n",
      "    https://scikit-learn.org/stable/modules/linear_model.html#logistic-regression\n",
      "  n_iter_i = _check_optimize_result(\n"
     ]
    }
   ],
   "source": [
    "logistic_classifier=model.fit(X_train, y_train)"
   ]
  },
  {
   "cell_type": "code",
   "execution_count": 57,
   "id": "323624f8",
   "metadata": {},
   "outputs": [],
   "source": [
    "predictions = model.predict(X_test)"
   ]
  },
  {
   "cell_type": "code",
   "execution_count": 58,
   "id": "69e88bae",
   "metadata": {},
   "outputs": [],
   "source": [
    "y_test=y_test.to_frame('real')"
   ]
  },
  {
   "cell_type": "code",
   "execution_count": 59,
   "id": "248e4fb8",
   "metadata": {},
   "outputs": [],
   "source": [
    "y_test['prediction']=predictions"
   ]
  },
  {
   "cell_type": "code",
   "execution_count": 60,
   "id": "a01878c8",
   "metadata": {},
   "outputs": [
    {
     "data": {
      "text/html": [
       "<div>\n",
       "<style scoped>\n",
       "    .dataframe tbody tr th:only-of-type {\n",
       "        vertical-align: middle;\n",
       "    }\n",
       "\n",
       "    .dataframe tbody tr th {\n",
       "        vertical-align: top;\n",
       "    }\n",
       "\n",
       "    .dataframe thead th {\n",
       "        text-align: right;\n",
       "    }\n",
       "</style>\n",
       "<table border=\"1\" class=\"dataframe\">\n",
       "  <thead>\n",
       "    <tr style=\"text-align: right;\">\n",
       "      <th></th>\n",
       "      <th>real</th>\n",
       "      <th>prediction</th>\n",
       "    </tr>\n",
       "  </thead>\n",
       "  <tbody>\n",
       "    <tr>\n",
       "      <th>6252</th>\n",
       "      <td>7</td>\n",
       "      <td>6</td>\n",
       "    </tr>\n",
       "    <tr>\n",
       "      <th>4684</th>\n",
       "      <td>5</td>\n",
       "      <td>2</td>\n",
       "    </tr>\n",
       "    <tr>\n",
       "      <th>1731</th>\n",
       "      <td>2</td>\n",
       "      <td>2</td>\n",
       "    </tr>\n",
       "    <tr>\n",
       "      <th>4742</th>\n",
       "      <td>5</td>\n",
       "      <td>6</td>\n",
       "    </tr>\n",
       "    <tr>\n",
       "      <th>4521</th>\n",
       "      <td>5</td>\n",
       "      <td>5</td>\n",
       "    </tr>\n",
       "    <tr>\n",
       "      <th>...</th>\n",
       "      <td>...</td>\n",
       "      <td>...</td>\n",
       "    </tr>\n",
       "    <tr>\n",
       "      <th>8014</th>\n",
       "      <td>9</td>\n",
       "      <td>9</td>\n",
       "    </tr>\n",
       "    <tr>\n",
       "      <th>1074</th>\n",
       "      <td>1</td>\n",
       "      <td>2</td>\n",
       "    </tr>\n",
       "    <tr>\n",
       "      <th>3063</th>\n",
       "      <td>3</td>\n",
       "      <td>4</td>\n",
       "    </tr>\n",
       "    <tr>\n",
       "      <th>6487</th>\n",
       "      <td>7</td>\n",
       "      <td>7</td>\n",
       "    </tr>\n",
       "    <tr>\n",
       "      <th>4705</th>\n",
       "      <td>5</td>\n",
       "      <td>7</td>\n",
       "    </tr>\n",
       "  </tbody>\n",
       "</table>\n",
       "<p>3000 rows × 2 columns</p>\n",
       "</div>"
      ],
      "text/plain": [
       "      real  prediction\n",
       "6252     7           6\n",
       "4684     5           2\n",
       "1731     2           2\n",
       "4742     5           6\n",
       "4521     5           5\n",
       "...    ...         ...\n",
       "8014     9           9\n",
       "1074     1           2\n",
       "3063     3           4\n",
       "6487     7           7\n",
       "4705     5           7\n",
       "\n",
       "[3000 rows x 2 columns]"
      ]
     },
     "execution_count": 60,
     "metadata": {},
     "output_type": "execute_result"
    }
   ],
   "source": [
    "y_test"
   ]
  },
  {
   "cell_type": "code",
   "execution_count": 61,
   "id": "5ee83130",
   "metadata": {},
   "outputs": [
    {
     "data": {
      "text/plain": [
       "array([9, 2, 9, ..., 6, 2, 8], dtype=int64)"
      ]
     },
     "execution_count": 61,
     "metadata": {},
     "output_type": "execute_result"
    }
   ],
   "source": [
    "y_train_pred=model.predict(X_train)\n",
    "y_train_pred"
   ]
  },
  {
   "cell_type": "code",
   "execution_count": 62,
   "id": "ae819b5d",
   "metadata": {},
   "outputs": [
    {
     "data": {
      "text/html": [
       "<div>\n",
       "<style scoped>\n",
       "    .dataframe tbody tr th:only-of-type {\n",
       "        vertical-align: middle;\n",
       "    }\n",
       "\n",
       "    .dataframe tbody tr th {\n",
       "        vertical-align: top;\n",
       "    }\n",
       "\n",
       "    .dataframe thead th {\n",
       "        text-align: right;\n",
       "    }\n",
       "</style>\n",
       "<table border=\"1\" class=\"dataframe\">\n",
       "  <thead>\n",
       "    <tr style=\"text-align: right;\">\n",
       "      <th></th>\n",
       "      <th>real</th>\n",
       "      <th>prediction</th>\n",
       "    </tr>\n",
       "  </thead>\n",
       "  <tbody>\n",
       "    <tr>\n",
       "      <th>9069</th>\n",
       "      <td>10</td>\n",
       "      <td>9</td>\n",
       "    </tr>\n",
       "    <tr>\n",
       "      <th>2603</th>\n",
       "      <td>3</td>\n",
       "      <td>2</td>\n",
       "    </tr>\n",
       "    <tr>\n",
       "      <th>7738</th>\n",
       "      <td>8</td>\n",
       "      <td>9</td>\n",
       "    </tr>\n",
       "    <tr>\n",
       "      <th>1579</th>\n",
       "      <td>2</td>\n",
       "      <td>2</td>\n",
       "    </tr>\n",
       "    <tr>\n",
       "      <th>5058</th>\n",
       "      <td>5</td>\n",
       "      <td>7</td>\n",
       "    </tr>\n",
       "    <tr>\n",
       "      <th>...</th>\n",
       "      <td>...</td>\n",
       "      <td>...</td>\n",
       "    </tr>\n",
       "    <tr>\n",
       "      <th>5734</th>\n",
       "      <td>6</td>\n",
       "      <td>7</td>\n",
       "    </tr>\n",
       "    <tr>\n",
       "      <th>5191</th>\n",
       "      <td>5</td>\n",
       "      <td>2</td>\n",
       "    </tr>\n",
       "    <tr>\n",
       "      <th>5390</th>\n",
       "      <td>6</td>\n",
       "      <td>6</td>\n",
       "    </tr>\n",
       "    <tr>\n",
       "      <th>860</th>\n",
       "      <td>1</td>\n",
       "      <td>2</td>\n",
       "    </tr>\n",
       "    <tr>\n",
       "      <th>7270</th>\n",
       "      <td>8</td>\n",
       "      <td>8</td>\n",
       "    </tr>\n",
       "  </tbody>\n",
       "</table>\n",
       "<p>7000 rows × 2 columns</p>\n",
       "</div>"
      ],
      "text/plain": [
       "      real  prediction\n",
       "9069    10           9\n",
       "2603     3           2\n",
       "7738     8           9\n",
       "1579     2           2\n",
       "5058     5           7\n",
       "...    ...         ...\n",
       "5734     6           7\n",
       "5191     5           2\n",
       "5390     6           6\n",
       "860      1           2\n",
       "7270     8           8\n",
       "\n",
       "[7000 rows x 2 columns]"
      ]
     },
     "execution_count": 62,
     "metadata": {},
     "output_type": "execute_result"
    }
   ],
   "source": [
    "y_train=y_train.to_frame('real')\n",
    "y_train['prediction']=y_train_pred\n",
    "y_train"
   ]
  },
  {
   "cell_type": "code",
   "execution_count": 63,
   "id": "0c5e8148",
   "metadata": {},
   "outputs": [
    {
     "data": {
      "text/plain": [
       "9069    9\n",
       "2603    2\n",
       "7738    9\n",
       "1579    2\n",
       "5058    7\n",
       "       ..\n",
       "8014    9\n",
       "1074    2\n",
       "3063    4\n",
       "6487    7\n",
       "4705    7\n",
       "Name: prediction, Length: 10000, dtype: int64"
      ]
     },
     "execution_count": 63,
     "metadata": {},
     "output_type": "execute_result"
    }
   ],
   "source": [
    "#concat two prediction table \n",
    "Tenure2=pd.concat([y_train['prediction'],y_test['prediction']], axis=0)\n",
    "Tenure2"
   ]
  },
  {
   "cell_type": "markdown",
   "id": "97dfd595",
   "metadata": {},
   "source": [
    "## 5-Fold validation"
   ]
  },
  {
   "cell_type": "markdown",
   "id": "551b4279",
   "metadata": {},
   "source": [
    "### 1th method"
   ]
  },
  {
   "cell_type": "code",
   "execution_count": 64,
   "id": "028eddde",
   "metadata": {},
   "outputs": [],
   "source": [
    "from sklearn.model_selection import KFold\n",
    "from sklearn.metrics import mean_squared_error"
   ]
  },
  {
   "cell_type": "code",
   "execution_count": 65,
   "id": "cbde2c49",
   "metadata": {},
   "outputs": [
    {
     "name": "stderr",
     "output_type": "stream",
     "text": [
      "c:\\users\\lenovo\\appdata\\local\\programs\\python\\python39\\lib\\site-packages\\sklearn\\linear_model\\_logistic.py:763: ConvergenceWarning: lbfgs failed to converge (status=1):\n",
      "STOP: TOTAL NO. of ITERATIONS REACHED LIMIT.\n",
      "\n",
      "Increase the number of iterations (max_iter) or scale the data as shown in:\n",
      "    https://scikit-learn.org/stable/modules/preprocessing.html\n",
      "Please also refer to the documentation for alternative solver options:\n",
      "    https://scikit-learn.org/stable/modules/linear_model.html#logistic-regression\n",
      "  n_iter_i = _check_optimize_result(\n"
     ]
    },
    {
     "name": "stdout",
     "output_type": "stream",
     "text": [
      "train accuracy: 2.2687551652833764, test accuracy: 1.9649427472575378\n"
     ]
    },
    {
     "name": "stderr",
     "output_type": "stream",
     "text": [
      "c:\\users\\lenovo\\appdata\\local\\programs\\python\\python39\\lib\\site-packages\\sklearn\\linear_model\\_logistic.py:763: ConvergenceWarning: lbfgs failed to converge (status=1):\n",
      "STOP: TOTAL NO. of ITERATIONS REACHED LIMIT.\n",
      "\n",
      "Increase the number of iterations (max_iter) or scale the data as shown in:\n",
      "    https://scikit-learn.org/stable/modules/preprocessing.html\n",
      "Please also refer to the documentation for alternative solver options:\n",
      "    https://scikit-learn.org/stable/modules/linear_model.html#logistic-regression\n",
      "  n_iter_i = _check_optimize_result(\n"
     ]
    },
    {
     "name": "stdout",
     "output_type": "stream",
     "text": [
      "train accuracy: 2.244883070451555, test accuracy: 1.848377667036691\n"
     ]
    },
    {
     "name": "stderr",
     "output_type": "stream",
     "text": [
      "c:\\users\\lenovo\\appdata\\local\\programs\\python\\python39\\lib\\site-packages\\sklearn\\linear_model\\_logistic.py:763: ConvergenceWarning: lbfgs failed to converge (status=1):\n",
      "STOP: TOTAL NO. of ITERATIONS REACHED LIMIT.\n",
      "\n",
      "Increase the number of iterations (max_iter) or scale the data as shown in:\n",
      "    https://scikit-learn.org/stable/modules/preprocessing.html\n",
      "Please also refer to the documentation for alternative solver options:\n",
      "    https://scikit-learn.org/stable/modules/linear_model.html#logistic-regression\n",
      "  n_iter_i = _check_optimize_result(\n"
     ]
    },
    {
     "name": "stdout",
     "output_type": "stream",
     "text": [
      "train accuracy: 2.1937410968480306, test accuracy: 3.3569331241476945\n"
     ]
    },
    {
     "name": "stderr",
     "output_type": "stream",
     "text": [
      "c:\\users\\lenovo\\appdata\\local\\programs\\python\\python39\\lib\\site-packages\\sklearn\\linear_model\\_logistic.py:763: ConvergenceWarning: lbfgs failed to converge (status=1):\n",
      "STOP: TOTAL NO. of ITERATIONS REACHED LIMIT.\n",
      "\n",
      "Increase the number of iterations (max_iter) or scale the data as shown in:\n",
      "    https://scikit-learn.org/stable/modules/preprocessing.html\n",
      "Please also refer to the documentation for alternative solver options:\n",
      "    https://scikit-learn.org/stable/modules/linear_model.html#logistic-regression\n",
      "  n_iter_i = _check_optimize_result(\n"
     ]
    },
    {
     "name": "stdout",
     "output_type": "stream",
     "text": [
      "train accuracy: 2.632251887642974, test accuracy: 2.534363825499409\n",
      "train accuracy: 1.5211837495845135, test accuracy: 3.727733896082176\n",
      "avg train acc 2.17216299396209\n",
      "avg test acc 2.6864702520047015\n"
     ]
    },
    {
     "name": "stderr",
     "output_type": "stream",
     "text": [
      "c:\\users\\lenovo\\appdata\\local\\programs\\python\\python39\\lib\\site-packages\\sklearn\\linear_model\\_logistic.py:763: ConvergenceWarning: lbfgs failed to converge (status=1):\n",
      "STOP: TOTAL NO. of ITERATIONS REACHED LIMIT.\n",
      "\n",
      "Increase the number of iterations (max_iter) or scale the data as shown in:\n",
      "    https://scikit-learn.org/stable/modules/preprocessing.html\n",
      "Please also refer to the documentation for alternative solver options:\n",
      "    https://scikit-learn.org/stable/modules/linear_model.html#logistic-regression\n",
      "  n_iter_i = _check_optimize_result(\n"
     ]
    }
   ],
   "source": [
    "xval = KFold(n_splits=5)\n",
    "allTrainAcc, allTestAcc = [], []\n",
    "for t_idx, v_idx in xval.split(df_copy[features], df_copy[target]):\n",
    "    # Split dataset into two pieces\n",
    "    train_df_copy = df_copy.iloc[t_idx].copy()\n",
    "    test_df_copy = df_copy.iloc[v_idx].copy()\n",
    "    # Train the model\n",
    "    model = LogisticRegression()\n",
    "    model.fit(train_df_copy[features], train_df_copy[target])\n",
    "    # Calculate accuracy\n",
    "    train_df_copy['prediction'] = model.predict(train_df_copy[features])\n",
    "    test_df_copy['prediction'] = model.predict(test_df_copy[features])\n",
    "    trainingAccuracy = mean_squared_error(train_df_copy[target], train_df_copy['prediction']) ** 0.5\n",
    "    testAccuracy = mean_squared_error(test_df_copy[target], test_df_copy['prediction']) ** 0.5\n",
    "    \n",
    "    allTrainAcc.append(trainingAccuracy)\n",
    "    allTestAcc.append(testAccuracy)\n",
    "    \n",
    "    print('train accuracy: {0}, test accuracy: {1}'.format(trainingAccuracy, testAccuracy))\n",
    "print('avg train acc', sum(allTrainAcc) / len(allTrainAcc))\n",
    "print('avg test acc', sum(allTestAcc) / len(allTestAcc))"
   ]
  },
  {
   "cell_type": "markdown",
   "id": "4b5d2a28",
   "metadata": {},
   "source": [
    "### 2th method"
   ]
  },
  {
   "cell_type": "code",
   "execution_count": 66,
   "id": "2e0fac67",
   "metadata": {},
   "outputs": [
    {
     "name": "stdout",
     "output_type": "stream",
     "text": [
      "Accuracy: 0.196 (0.006)\n"
     ]
    }
   ],
   "source": [
    "from numpy import mean\n",
    "from numpy import std\n",
    "from sklearn.model_selection import cross_val_score\n",
    "# prepare the cross-validation procedure\n",
    "cv = KFold(n_splits=5, random_state=1, shuffle=True)\n",
    "# create model\n",
    "model = LogisticRegression()\n",
    "# evaluate model\n",
    "scores = cross_val_score(model, df_copy[features] , df_copy[target] , scoring='accuracy', cv=cv, n_jobs=-1)\n",
    "# report performance\n",
    "print('Accuracy: %.3f (%.3f)' % (mean(scores), std(scores)))"
   ]
  },
  {
   "cell_type": "markdown",
   "id": "15d96c1d",
   "metadata": {},
   "source": [
    "### confusion matrix"
   ]
  },
  {
   "cell_type": "code",
   "execution_count": 67,
   "id": "f2ea67e4",
   "metadata": {},
   "outputs": [],
   "source": [
    "from sklearn.metrics import confusion_matrix\n",
    "    \n",
    "y_true= y_test['real']\n",
    "y_pred= y_test['prediction']"
   ]
  },
  {
   "cell_type": "code",
   "execution_count": 68,
   "id": "ad2dce84",
   "metadata": {},
   "outputs": [
    {
     "data": {
      "text/plain": [
       "array([[ 75,   0,  50,   0,   0,   0,   0,   0,   0,   0,   0],\n",
       "       [  0,   0, 286,   0,   0,   0,   0,   0,   0,   0,   0],\n",
       "       [  0,   0, 450,   0,   0,   0,   0,   0,   1,   7,   0],\n",
       "       [  0,   0, 120,  75,  92,   0,   0,   0,   0,   0,   0],\n",
       "       [  0,   0,   0,   9, 255,   0,   0,   0,   0,   0,   0],\n",
       "       [  0,   0,  29,   0,   3, 154,  16, 106,   0,   0,   0],\n",
       "       [  0,   0,  17,   0,   0,   4,  62, 179,   0,   0,   0],\n",
       "       [  0,   0,   9,   0,   0,   8,  70, 194,   0,   0,   0],\n",
       "       [  0,   0,   0,   0,   0,   0,  22,  18,  39, 197,   0],\n",
       "       [  0,   0,   0,   0,   0,   0,   0,   0,  69, 250,   0],\n",
       "       [  0,   0,   0,   0,   0,   0,   0,   0,  28, 106,   0]],\n",
       "      dtype=int64)"
      ]
     },
     "execution_count": 68,
     "metadata": {},
     "output_type": "execute_result"
    }
   ],
   "source": [
    "cm=confusion_matrix( y_true , y_pred)\n",
    "cm"
   ]
  },
  {
   "cell_type": "code",
   "execution_count": 69,
   "id": "ed799d91",
   "metadata": {},
   "outputs": [
    {
     "data": {
      "image/png": "[encoded data removed]",
      "text/plain": [
       "<Figure size 432x288 with 2 Axes>"
      ]
     },
     "metadata": {
      "needs_background": "light"
     },
     "output_type": "display_data"
    }
   ],
   "source": [
    "# Plot confusion matrix\n",
    "import seaborn as sns\n",
    "import pandas as pd\n",
    "import matplotlib.pyplot as plt\n",
    "# confusion matrix sns heatmap \n",
    "ax = plt.axes()\n",
    "df_cm = cm\n",
    "sns.heatmap(df_cm, annot=True, annot_kws={\"size\":10}, fmt='d',cmap=\"Blues\", ax = ax )\n",
    "ax.set_title('Confusion Matrix pred based on \"Tenure2\"')\n",
    "plt.show()"
   ]
  },
  {
   "cell_type": "code",
   "execution_count": 70,
   "id": "7f016c08",
   "metadata": {},
   "outputs": [
    {
     "data": {
      "text/html": [
       "<div>\n",
       "<style scoped>\n",
       "    .dataframe tbody tr th:only-of-type {\n",
       "        vertical-align: middle;\n",
       "    }\n",
       "\n",
       "    .dataframe tbody tr th {\n",
       "        vertical-align: top;\n",
       "    }\n",
       "\n",
       "    .dataframe thead th {\n",
       "        text-align: right;\n",
       "    }\n",
       "</style>\n",
       "<table border=\"1\" class=\"dataframe\">\n",
       "  <thead>\n",
       "    <tr style=\"text-align: right;\">\n",
       "      <th></th>\n",
       "      <th>0</th>\n",
       "      <th>1</th>\n",
       "      <th>2</th>\n",
       "      <th>3</th>\n",
       "      <th>4</th>\n",
       "      <th>5</th>\n",
       "      <th>6</th>\n",
       "      <th>7</th>\n",
       "      <th>8</th>\n",
       "      <th>9</th>\n",
       "      <th>10</th>\n",
       "    </tr>\n",
       "  </thead>\n",
       "  <tbody>\n",
       "    <tr>\n",
       "      <th>TPR</th>\n",
       "      <td>0.600000</td>\n",
       "      <td>0.000000</td>\n",
       "      <td>0.982533</td>\n",
       "      <td>0.261324</td>\n",
       "      <td>0.965909</td>\n",
       "      <td>0.500000</td>\n",
       "      <td>0.236641</td>\n",
       "      <td>0.690391</td>\n",
       "      <td>0.141304</td>\n",
       "      <td>0.783699</td>\n",
       "      <td>0.000000</td>\n",
       "    </tr>\n",
       "    <tr>\n",
       "      <th>TNR</th>\n",
       "      <td>1.000000</td>\n",
       "      <td>1.000000</td>\n",
       "      <td>0.798977</td>\n",
       "      <td>0.996683</td>\n",
       "      <td>0.965278</td>\n",
       "      <td>0.995542</td>\n",
       "      <td>0.960555</td>\n",
       "      <td>0.888562</td>\n",
       "      <td>0.964023</td>\n",
       "      <td>0.884372</td>\n",
       "      <td>1.000000</td>\n",
       "    </tr>\n",
       "    <tr>\n",
       "      <th>ACC</th>\n",
       "      <td>0.983333</td>\n",
       "      <td>0.904667</td>\n",
       "      <td>0.827000</td>\n",
       "      <td>0.926333</td>\n",
       "      <td>0.965333</td>\n",
       "      <td>0.944667</td>\n",
       "      <td>0.897333</td>\n",
       "      <td>0.870000</td>\n",
       "      <td>0.888333</td>\n",
       "      <td>0.873667</td>\n",
       "      <td>0.955333</td>\n",
       "    </tr>\n",
       "  </tbody>\n",
       "</table>\n",
       "</div>"
      ],
      "text/plain": [
       "           0         1         2         3         4         5         6   \\\n",
       "TPR  0.600000  0.000000  0.982533  0.261324  0.965909  0.500000  0.236641   \n",
       "TNR  1.000000  1.000000  0.798977  0.996683  0.965278  0.995542  0.960555   \n",
       "ACC  0.983333  0.904667  0.827000  0.926333  0.965333  0.944667  0.897333   \n",
       "\n",
       "           7         8         9         10  \n",
       "TPR  0.690391  0.141304  0.783699  0.000000  \n",
       "TNR  0.888562  0.964023  0.884372  1.000000  \n",
       "ACC  0.870000  0.888333  0.873667  0.955333  "
      ]
     },
     "execution_count": 70,
     "metadata": {},
     "output_type": "execute_result"
    }
   ],
   "source": [
    "FP = cm.sum(axis=0) - np.diag(cm) \n",
    "FN = cm.sum(axis=1) - np.diag(cm)\n",
    "TP = np.diag(cm)\n",
    "TN = cm.sum() - (FP + FN + TP)\n",
    "\n",
    "FP = FP.astype(float)\n",
    "FN = FN.astype(float)\n",
    "TP = TP.astype(float)\n",
    "TN = TN.astype(float)\n",
    "\n",
    "# Sensitivity, hit rate, recall, or true positive rate\n",
    "TPR = TP/(TP+FN)\n",
    "# Specificity or true negative rate\n",
    "TNR = TN/(TN+FP) \n",
    "# Overall accuracy for each class\n",
    "ACC = (TP+TN)/(TP+FP+FN+TN) \n",
    " \n",
    "PSA= pd.DataFrame([TPR , TNR , ACC], index=['TPR' , 'TNR' , 'ACC'] )\n",
    "PSA"
   ]
  },
  {
   "cell_type": "code",
   "execution_count": 71,
   "id": "ebad87fb",
   "metadata": {},
   "outputs": [],
   "source": [
    "from openpyxl import load_workbook\n",
    "\n",
    "book = load_workbook('total_pred.xlsx')\n",
    "writer = pd.ExcelWriter('total_pred.xlsx', engine='openpyxl') \n",
    "writer.book = book\n",
    "\n",
    "Tenure2.to_excel(writer,sheet_name='Tenure3')\n",
    "writer.save()\n"
   ]
  },
  {
   "cell_type": "markdown",
   "id": "53ef8d4e",
   "metadata": {},
   "source": [
    "# classification\n",
    "\n",
    "## LinearRegression  "
   ]
  },
  {
   "cell_type": "markdown",
   "id": "8cf4f9fe",
   "metadata": {},
   "source": [
    "### profits based on Balance"
   ]
  },
  {
   "cell_type": "code",
   "execution_count": 72,
   "id": "14e13781",
   "metadata": {},
   "outputs": [],
   "source": [
    "from sklearn.linear_model import LinearRegression\n",
    "from sklearn.model_selection import train_test_split"
   ]
  },
  {
   "cell_type": "code",
   "execution_count": 73,
   "id": "ade264ee",
   "metadata": {},
   "outputs": [],
   "source": [
    "features = ['CreditScore2','Age2','Tenure2','NomOfProducts2','HasCrCard2','IsActiveMember2','EstimatedSalary2','Geography2','int_Gender2']\n",
    "target = 'Balance2'"
   ]
  },
  {
   "cell_type": "code",
   "execution_count": 74,
   "id": "5ba81784",
   "metadata": {},
   "outputs": [],
   "source": [
    "X_train, X_test, y_train, y_test = train_test_split(df_copy[features], df_copy[target], test_size=0.30, random_state=42)"
   ]
  },
  {
   "cell_type": "code",
   "execution_count": 75,
   "id": "834e042c",
   "metadata": {},
   "outputs": [],
   "source": [
    "model = LinearRegression()"
   ]
  },
  {
   "cell_type": "code",
   "execution_count": 76,
   "id": "af17c26b",
   "metadata": {},
   "outputs": [],
   "source": [
    "logistic_classifier=model.fit(X_train, y_train)"
   ]
  },
  {
   "cell_type": "code",
   "execution_count": 77,
   "id": "2d8c2021",
   "metadata": {},
   "outputs": [],
   "source": [
    "predictions = model.predict(X_test)"
   ]
  },
  {
   "cell_type": "code",
   "execution_count": 78,
   "id": "07edb3d5",
   "metadata": {},
   "outputs": [],
   "source": [
    "y_test=y_test.to_frame('real')"
   ]
  },
  {
   "cell_type": "code",
   "execution_count": 79,
   "id": "2dfd1dbe",
   "metadata": {},
   "outputs": [],
   "source": [
    "y_test['prediction']=predictions"
   ]
  },
  {
   "cell_type": "code",
   "execution_count": 80,
   "id": "33c6f258",
   "metadata": {},
   "outputs": [
    {
     "data": {
      "text/html": [
       "<div>\n",
       "<style scoped>\n",
       "    .dataframe tbody tr th:only-of-type {\n",
       "        vertical-align: middle;\n",
       "    }\n",
       "\n",
       "    .dataframe tbody tr th {\n",
       "        vertical-align: top;\n",
       "    }\n",
       "\n",
       "    .dataframe thead th {\n",
       "        text-align: right;\n",
       "    }\n",
       "</style>\n",
       "<table border=\"1\" class=\"dataframe\">\n",
       "  <thead>\n",
       "    <tr style=\"text-align: right;\">\n",
       "      <th></th>\n",
       "      <th>real</th>\n",
       "      <th>prediction</th>\n",
       "    </tr>\n",
       "  </thead>\n",
       "  <tbody>\n",
       "    <tr>\n",
       "      <th>6252</th>\n",
       "      <td>76818</td>\n",
       "      <td>80242.901140</td>\n",
       "    </tr>\n",
       "    <tr>\n",
       "      <th>4684</th>\n",
       "      <td>76818</td>\n",
       "      <td>82891.238901</td>\n",
       "    </tr>\n",
       "    <tr>\n",
       "      <th>1731</th>\n",
       "      <td>0</td>\n",
       "      <td>846.246343</td>\n",
       "    </tr>\n",
       "    <tr>\n",
       "      <th>4742</th>\n",
       "      <td>76787</td>\n",
       "      <td>74479.468739</td>\n",
       "    </tr>\n",
       "    <tr>\n",
       "      <th>4521</th>\n",
       "      <td>76557</td>\n",
       "      <td>76679.507937</td>\n",
       "    </tr>\n",
       "    <tr>\n",
       "      <th>...</th>\n",
       "      <td>...</td>\n",
       "      <td>...</td>\n",
       "    </tr>\n",
       "    <tr>\n",
       "      <th>8014</th>\n",
       "      <td>76505</td>\n",
       "      <td>76857.038154</td>\n",
       "    </tr>\n",
       "    <tr>\n",
       "      <th>1074</th>\n",
       "      <td>0</td>\n",
       "      <td>-2278.455478</td>\n",
       "    </tr>\n",
       "    <tr>\n",
       "      <th>3063</th>\n",
       "      <td>0</td>\n",
       "      <td>26741.224566</td>\n",
       "    </tr>\n",
       "    <tr>\n",
       "      <th>6487</th>\n",
       "      <td>76148</td>\n",
       "      <td>79831.451116</td>\n",
       "    </tr>\n",
       "    <tr>\n",
       "      <th>4705</th>\n",
       "      <td>76430</td>\n",
       "      <td>73121.638368</td>\n",
       "    </tr>\n",
       "  </tbody>\n",
       "</table>\n",
       "<p>3000 rows × 2 columns</p>\n",
       "</div>"
      ],
      "text/plain": [
       "       real    prediction\n",
       "6252  76818  80242.901140\n",
       "4684  76818  82891.238901\n",
       "1731      0    846.246343\n",
       "4742  76787  74479.468739\n",
       "4521  76557  76679.507937\n",
       "...     ...           ...\n",
       "8014  76505  76857.038154\n",
       "1074      0  -2278.455478\n",
       "3063      0  26741.224566\n",
       "6487  76148  79831.451116\n",
       "4705  76430  73121.638368\n",
       "\n",
       "[3000 rows x 2 columns]"
      ]
     },
     "execution_count": 80,
     "metadata": {},
     "output_type": "execute_result"
    }
   ],
   "source": [
    "y_test"
   ]
  },
  {
   "cell_type": "code",
   "execution_count": 81,
   "id": "40aa45f6",
   "metadata": {},
   "outputs": [
    {
     "data": {
      "text/plain": [
       "array([80038.03298156,  3524.61969018, 73619.89512696, ...,\n",
       "       77018.70258156, -2292.55089491, 73544.88065403])"
      ]
     },
     "execution_count": 81,
     "metadata": {},
     "output_type": "execute_result"
    }
   ],
   "source": [
    "y_train_pred=model.predict(X_train)\n",
    "y_train_pred"
   ]
  },
  {
   "cell_type": "code",
   "execution_count": 82,
   "id": "9eba9f53",
   "metadata": {},
   "outputs": [
    {
     "data": {
      "text/html": [
       "<div>\n",
       "<style scoped>\n",
       "    .dataframe tbody tr th:only-of-type {\n",
       "        vertical-align: middle;\n",
       "    }\n",
       "\n",
       "    .dataframe tbody tr th {\n",
       "        vertical-align: top;\n",
       "    }\n",
       "\n",
       "    .dataframe thead th {\n",
       "        text-align: right;\n",
       "    }\n",
       "</style>\n",
       "<table border=\"1\" class=\"dataframe\">\n",
       "  <thead>\n",
       "    <tr style=\"text-align: right;\">\n",
       "      <th></th>\n",
       "      <th>real</th>\n",
       "      <th>prediction</th>\n",
       "    </tr>\n",
       "  </thead>\n",
       "  <tbody>\n",
       "    <tr>\n",
       "      <th>9069</th>\n",
       "      <td>76554</td>\n",
       "      <td>80038.032982</td>\n",
       "    </tr>\n",
       "    <tr>\n",
       "      <th>2603</th>\n",
       "      <td>0</td>\n",
       "      <td>3524.619690</td>\n",
       "    </tr>\n",
       "    <tr>\n",
       "      <th>7738</th>\n",
       "      <td>76238</td>\n",
       "      <td>73619.895127</td>\n",
       "    </tr>\n",
       "    <tr>\n",
       "      <th>1579</th>\n",
       "      <td>0</td>\n",
       "      <td>543.706298</td>\n",
       "    </tr>\n",
       "    <tr>\n",
       "      <th>5058</th>\n",
       "      <td>76713</td>\n",
       "      <td>73096.626539</td>\n",
       "    </tr>\n",
       "    <tr>\n",
       "      <th>...</th>\n",
       "      <td>...</td>\n",
       "      <td>...</td>\n",
       "    </tr>\n",
       "    <tr>\n",
       "      <th>5734</th>\n",
       "      <td>76635</td>\n",
       "      <td>77121.656081</td>\n",
       "    </tr>\n",
       "    <tr>\n",
       "      <th>5191</th>\n",
       "      <td>76718</td>\n",
       "      <td>73648.719960</td>\n",
       "    </tr>\n",
       "    <tr>\n",
       "      <th>5390</th>\n",
       "      <td>76651</td>\n",
       "      <td>77018.702582</td>\n",
       "    </tr>\n",
       "    <tr>\n",
       "      <th>860</th>\n",
       "      <td>0</td>\n",
       "      <td>-2292.550895</td>\n",
       "    </tr>\n",
       "    <tr>\n",
       "      <th>7270</th>\n",
       "      <td>76426</td>\n",
       "      <td>73544.880654</td>\n",
       "    </tr>\n",
       "  </tbody>\n",
       "</table>\n",
       "<p>7000 rows × 2 columns</p>\n",
       "</div>"
      ],
      "text/plain": [
       "       real    prediction\n",
       "9069  76554  80038.032982\n",
       "2603      0   3524.619690\n",
       "7738  76238  73619.895127\n",
       "1579      0    543.706298\n",
       "5058  76713  73096.626539\n",
       "...     ...           ...\n",
       "5734  76635  77121.656081\n",
       "5191  76718  73648.719960\n",
       "5390  76651  77018.702582\n",
       "860       0  -2292.550895\n",
       "7270  76426  73544.880654\n",
       "\n",
       "[7000 rows x 2 columns]"
      ]
     },
     "execution_count": 82,
     "metadata": {},
     "output_type": "execute_result"
    }
   ],
   "source": [
    "y_train=y_train.to_frame('real')\n",
    "y_train['prediction']=y_train_pred\n",
    "y_train"
   ]
  },
  {
   "cell_type": "code",
   "execution_count": 83,
   "id": "b847f3e1",
   "metadata": {},
   "outputs": [
    {
     "data": {
      "text/plain": [
       "9069    80038.032982\n",
       "2603     3524.619690\n",
       "7738    73619.895127\n",
       "1579      543.706298\n",
       "5058    73096.626539\n",
       "            ...     \n",
       "8014    76857.038154\n",
       "1074    -2278.455478\n",
       "3063    26741.224566\n",
       "6487    79831.451116\n",
       "4705    73121.638368\n",
       "Name: prediction, Length: 10000, dtype: float64"
      ]
     },
     "execution_count": 83,
     "metadata": {},
     "output_type": "execute_result"
    }
   ],
   "source": [
    "#concat two prediction table \n",
    "profit2=pd.concat([y_train['prediction'],y_test['prediction']], axis=0)\n",
    "profit2"
   ]
  },
  {
   "cell_type": "markdown",
   "id": "780f5528",
   "metadata": {},
   "source": [
    "## 5-Fold validation"
   ]
  },
  {
   "cell_type": "markdown",
   "id": "b3967baa",
   "metadata": {},
   "source": [
    "### 1th method"
   ]
  },
  {
   "cell_type": "code",
   "execution_count": 84,
   "id": "5b4d4724",
   "metadata": {},
   "outputs": [],
   "source": [
    "from sklearn.model_selection import KFold\n",
    "from sklearn.metrics import mean_squared_error"
   ]
  },
  {
   "cell_type": "code",
   "execution_count": 85,
   "id": "edd33aad",
   "metadata": {},
   "outputs": [
    {
     "name": "stdout",
     "output_type": "stream",
     "text": [
      "train accuracy: 16576.23825330756, test accuracy: 6633.392676815564\n",
      "train accuracy: 216.75964868474384, test accuracy: 54915.668127775134\n",
      "train accuracy: 10457.157973454512, test accuracy: 32686.5456691397\n",
      "train accuracy: 16466.949307844305, test accuracy: 7156.08235016473\n",
      "train accuracy: 16354.699875912129, test accuracy: 12636.346399992819\n",
      "avg train acc 12014.361011840649\n",
      "avg test acc 22805.60704477759\n"
     ]
    }
   ],
   "source": [
    "xval = KFold(n_splits=5)\n",
    "allTrainAcc, allTestAcc = [], []\n",
    "for t_idx, v_idx in xval.split(df_copy[features], df_copy[target]):\n",
    "    # Split dataset into two pieces\n",
    "    train_df_copy = df_copy.iloc[t_idx].copy()\n",
    "    test_df_copy = df_copy.iloc[v_idx].copy()\n",
    "    # Train the model\n",
    "    model = LinearRegression()\n",
    "    model.fit(train_df_copy[features], train_df_copy[target])\n",
    "    # Calculate accuracy\n",
    "    train_df_copy['prediction'] = model.predict(train_df_copy[features])\n",
    "    test_df_copy['prediction'] = model.predict(test_df_copy[features])\n",
    "    trainingAccuracy = mean_squared_error(train_df_copy[target], train_df_copy['prediction']) ** 0.5\n",
    "    testAccuracy = mean_squared_error(test_df_copy[target], test_df_copy['prediction']) ** 0.5\n",
    "    \n",
    "    allTrainAcc.append(trainingAccuracy)\n",
    "    allTestAcc.append(testAccuracy)\n",
    "    \n",
    "    print('train accuracy: {0}, test accuracy: {1}'.format(trainingAccuracy, testAccuracy))\n",
    "print('avg train acc', sum(allTrainAcc) / len(allTrainAcc))\n",
    "print('avg test acc', sum(allTestAcc) / len(allTestAcc))"
   ]
  },
  {
   "cell_type": "markdown",
   "id": "ecb9fe2a",
   "metadata": {},
   "source": [
    "### 2th method"
   ]
  },
  {
   "cell_type": "code",
   "execution_count": 86,
   "id": "1f1547aa",
   "metadata": {},
   "outputs": [
    {
     "name": "stdout",
     "output_type": "stream",
     "text": [
      "Accuracy: nan (nan)\n"
     ]
    }
   ],
   "source": [
    "from numpy import mean\n",
    "from numpy import std\n",
    "from sklearn.model_selection import cross_val_score\n",
    "# prepare the cross-validation procedure\n",
    "cv = KFold(n_splits=5, random_state=1, shuffle=True)\n",
    "# create model\n",
    "model = LinearRegression()\n",
    "# evaluate model\n",
    "scores = cross_val_score(model, df_copy[features] , df_copy[target] , scoring='accuracy', cv=cv, n_jobs=-1)\n",
    "# report performance\n",
    "print('Accuracy: %.3f (%.3f)' % (mean(scores), std(scores)))"
   ]
  },
  {
   "cell_type": "markdown",
   "id": "1b540529",
   "metadata": {},
   "source": [
    "### Save in excel"
   ]
  },
  {
   "cell_type": "code",
   "execution_count": 87,
   "id": "76899d44",
   "metadata": {},
   "outputs": [],
   "source": [
    "from openpyxl import load_workbook\n",
    "\n",
    "book = load_workbook('total_pred.xlsx')\n",
    "writer = pd.ExcelWriter('total_pred.xlsx', engine='openpyxl') \n",
    "writer.book = book\n",
    "\n",
    "profit2.to_excel(writer,sheet_name='profit3')\n",
    "writer.save()\n"
   ]
  },
  {
   "cell_type": "code",
   "execution_count": null,
   "id": "ba7c1b92",
   "metadata": {},
   "outputs": [],
   "source": []
  },
  {
   "cell_type": "code",
   "execution_count": null,
   "id": "94b117a1",
   "metadata": {},
   "outputs": [],
   "source": []
  }
 ],
 "metadata": {
  "kernelspec": {
   "display_name": "Python 3 (ipykernel)",
   "language": "python",
   "name": "python3"
  },
  "language_info": {
   "codemirror_mode": {
    "name": "ipython",
    "version": 3
   },
   "file_extension": ".py",
   "mimetype": "text/x-python",
   "name": "python",
   "nbconvert_exporter": "python",
   "pygments_lexer": "ipython3",
   "version": "3.9.6"
  }
 },
 "nbformat": 4,
 "nbformat_minor": 5
}
